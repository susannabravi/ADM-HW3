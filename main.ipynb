{
 "cells": [
  {
   "cell_type": "code",
   "execution_count": 35,
   "metadata": {
    "ExecuteTime": {
     "end_time": "2023-11-24T15:43:59.069654Z",
     "start_time": "2023-11-24T15:43:55.130218Z"
    },
    "collapsed": false
   },
   "outputs": [],
   "source": [
    "# Libraries\n",
    "import numpy as np\n",
    "import pandas as pd\n",
    "import csv\n",
    "from bs4 import BeautifulSoup\n",
    "import requests\n",
    "import re\n",
    "import os\n",
    "from urllib.request import urlopen\n",
    "import time\n",
    "from concurrent.futures import ThreadPoolExecutor\n",
    "\n",
    "import nltk\n",
    "import string\n",
    "from nltk.corpus import stopwords\n",
    "from nltk.stem import PorterStemmer\n",
    "import matplotlib.pyplot as plt\n",
    "from collections import Counter\n",
    "from functools import reduce\n",
    "import json\n",
    "import heapq\n",
    "\n",
    "from geopy.geocoders import Nominatim\n",
    "geolocator = Nominatim(user_agent=\"my_geocoder\")\n",
    "import plotly.express as px\n",
    "import plotly.graph_objects as go"
   ]
  },
  {
   "cell_type": "markdown",
   "metadata": {
    "collapsed": false
   },
   "source": [
    "# 1. Data collection\n",
    "\n",
    "## 1.1. Get the list of master's degree courses\n",
    "We created a file named 'urls.txt' that contains all the urls associated with the url of each master page.\n",
    "for reaching such purpose, we iterate over all 400 pages and took the link for every 15 urls of each page.\n",
    "we stored all urls in 'urls.txt' file."
   ]
  },
  {
   "cell_type": "code",
   "execution_count": null,
   "metadata": {
    "ExecuteTime": {
     "end_time": "2023-11-18T16:31:44.436742Z",
     "start_time": "2023-11-18T16:29:57.119032Z"
    }
   },
   "outputs": [],
   "source": [
    "f = open(\"urls.txt\",\"w\") # First we create a txt file where we can write the URLs  #  w means writing mode\n",
    "for i in range(1, 401): #from first page to page 400\n",
    "    url = f\"https://www.findamasters.com/masters-degrees/msc-degrees/?PG={i}\" #pages can be scrolled by changing the number after PG\n",
    "    result = requests.get(url) # as we have done in class\n",
    "    soup = BeautifulSoup(result.text, 'html.parser') # to get the html of each page\n",
    "\n",
    "    for link in soup.find_all(class_ = re.compile('courseLink')): #as in class to get each tag of the page which belongs to class courseLink\n",
    "        c = (link.get(\"href\"))  # url of each page in the i-th page\n",
    "        f.write(\"https://www.findamasters.com/\"+c) #writing the rows\n",
    "        f.write(\"\\n\")\n",
    "f.close()\n",
    "print('The \"urls.txt\" file is generated!')"
   ]
  },
  {
   "cell_type": "markdown",
   "metadata": {},
   "source": [
    "### 1.2. Crawl master's degree pages\n",
    "\n",
    "We wrote a function named 'download_url'.\n",
    "Since the FindMaster website blocks us for 70 seconds for every (20 to 22) requests we send, we use 'time.sleep(70)' to wait and then resend the http get request. \n",
    "we also omit to download the http files that their directory are already existed.\n",
    "\n",
    "for sending http get requests asynchronously, we can use async and await methods and take the advantage of using \"aiohttp\" library. the other way is to use ThreadPoolExecutor function executer. \n",
    "It means that we store the executer command in a variable named 'future_to_url' that we are able to call in the future.\n",
    "The ThreadPoolExecutor is a built-in Python module that provides managing a pool of worker threads. It allows us to submit tasks to the pool, which are then executed by one of the worker threads in the pool."
   ]
  },
  {
   "cell_type": "code",
   "execution_count": null,
   "metadata": {},
   "outputs": [],
   "source": [
    "from concurrent.futures import ThreadPoolExecutor\n",
    "\n",
    "# Function to download and save HTML for a given URL\n",
    "def download_url(url, folder_path, page_number):\n",
    "    # Create a folder for each page if it doesn't exist\n",
    "    page_folder = os.path.join(folder_path, f\"page_{page_number}\")\n",
    "    if os.path.exists(page_folder):\n",
    "        # uncomment the below code to see which pages are skiped, cause they have already been downloaded.\n",
    "        # print(f\"Skipping Page: {page_number} - Folder already exists.\")\n",
    "        return\n",
    "\n",
    "    try:\n",
    "        response = requests.get(url) # Send a GET request to the URL\n",
    "        response.raise_for_status()  # Raise an exception for bad responses \n",
    "\n",
    "        # Create a folder for each page if it doesn't exist\n",
    "        os.makedirs(page_folder, exist_ok=True)\n",
    "\n",
    "        # Save the HTML content to a file\n",
    "        file_path = os.path.join(page_folder, f\"html_{page_number}.html\")\n",
    "        with open(file_path, 'w', encoding='utf-8') as file:\n",
    "            file.write(response.text)\n",
    "        print(f\"Downloaded page {page_number}: {url}\")\n",
    "    except requests.exceptions.RequestException as e:\n",
    "        print(f\"Failed to download page {page_number}: {url}\")\n",
    "        print(f\"Error: {e}\")\n",
    "        print(\"Retrying in 70 seconds...\")\n",
    "        time.sleep(70)  # Wait for 10 seconds before retrying\n",
    "        download_url(url, folder_path, page_number)  # Retry the download\n",
    "\n",
    "# Read all URLs one by one\n",
    "with open('urls.txt', 'r') as urls_file:\n",
    "    urls = urls_file.read().splitlines()\n",
    "\n",
    "output_folder = 'HTML_folders' # Store all HTML files into this directory.\n",
    "\n",
    "# We can use ThreadPoolExecutor for sending http requests asynchronously. \n",
    "# However, Since the FindMaster website blocks us for 70 seconds for every (20 to 22) requests we send, \n",
    "# the max_workers in below code assigned to number 1. So it sends requests synchronously.\n",
    "with ThreadPoolExecutor(max_workers=1) as executor:\n",
    "    # Enumerate through each URL and submit download tasks to the executor\n",
    "    future_to_url = {executor.submit(download_url, url, output_folder, page_number): url for page_number, url in enumerate(urls, start=1)}\n",
    "\n",
    "print(\"All HTML files are stored in the HTML_folders directory.\")"
   ]
  },
  {
   "cell_type": "markdown",
   "metadata": {},
   "source": [
    "### 1.3 Parse downloaded pages\n",
    "Here we create a '.tsv' file including the following columns for each of the HTML files.\n",
    "\n",
    "1. Course Name (to save as ```courseName```): string;\n",
    "2. University (to save as ```universityName```): string;\n",
    "3. Faculty (to save as ```facultyName```): string\n",
    "4. Full or Part Time (to save as ```isItFullTime```): string;\n",
    "5. Short Description (to save as ```description```): string;\n",
    "6. Start Date (to save as ```startDate```): string;\n",
    "7. Fees (to save as ```fees```): string;\n",
    "8. Modality (to save as ```modality```):string;\n",
    "9. Duration (to save as ```duration```):string;\n",
    "10. City (to save as ```city```): string;\n",
    "11. Country (to save as ```country```): string;\n",
    "12. Presence or online modality (to save as ```administration```): string;\n",
    "13. Link to the page (to save as ```url```): string.\n",
    "\n",
    "Then, we merge all those files together to generate our final dataset."
   ]
  },
  {
   "cell_type": "code",
   "execution_count": null,
   "metadata": {},
   "outputs": [],
   "source": [
    "current_path = os.getcwd()\n",
    "# '/Users/armanfeili/Arman/Sapienza Courses/ADM/Homeworks/HW3/phase-2/ADM-HW3/HTML_folders'\n",
    "\n",
    "for i in range(1,6001):\n",
    "    # os.chdir(r'C:\\Users\\susan\\Documents\\DS\\ADM\\HW3\\ADM-HW3\\HTML_folders\\page_'+str(i)) #change directories\n",
    "    os.chdir(r'/Users/armanfeili/Arman/Sapienza Courses/ADM/Homeworks/HW3/phase-3/ADM-HW3/HTML_folders/page_'+str(i)) #change directories\n",
    "    \n",
    "    for filename in os.listdir(os.getcwd()): # get all the files in a folder\n",
    "        if filename.endswith(\".tsv\"): continue # tsv file is already generated.\n",
    "        elif filename.endswith(\".html\"): # if file extension is .html\n",
    "            with open(os.path.join(os.getcwd(), filename), 'r',encoding='utf-8') as f: # open each file into a folder\n",
    "                soup = BeautifulSoup(f,'html.parser') # get the html file by each file \n",
    "                out=[] # initialize a list where we append all the informations parsed from each html file\n",
    "\n",
    "                # 1  Course Name\n",
    "                courseName = soup.find_all(class_=re.compile(\"course-header__course-title\"))\n",
    "                out.append(courseName[0].text.strip() if courseName else \"\") #text.strip to eliminate strange simbols for the space\n",
    "                # 2  University\n",
    "                universityName = soup.find_all(class_=re.compile(\"course-header__institution\"))\n",
    "                out.append(universityName[0].text if universityName else \"\")\n",
    "                # 3  Faculty\n",
    "                facultyName = soup.find_all(class_=re.compile(\"course-header__department\"))\n",
    "                out.append(facultyName[0].text if facultyName else \"\")\n",
    "                # 4  Full or Part Time\n",
    "                isItFullTime = soup.find_all(class_=re.compile(\"concealLink\"))\n",
    "                out.append(isItFullTime[0].text if isItFullTime else \"\")\n",
    "                # 5  Short Description\n",
    "                description = soup.find_all(class_=re.compile(\"course-sections__content\"))\n",
    "                out.append(description[0].text.replace('\\n', '') if description else \"\")\n",
    "                # 6  Start Date\n",
    "                startDate = soup.find_all(class_=re.compile(\"key-info__start-date\"))\n",
    "                out.append(startDate[0].text if startDate else \"\")\n",
    "                # 7  Fees \n",
    "                fees_elements = soup.find_all(class_=re.compile(\"course-sections__fees\")) # taking the fee\n",
    "                fees_text = fees_elements[0].text.replace('\\n', '') if fees_elements else \"\" \n",
    "                cleaned_fees = re.sub(r'Fees', '', fees_text)  # To not \"Fees\" at the beginning \n",
    "                out.append(cleaned_fees.strip() if cleaned_fees else \"\")\n",
    "                # 8  Modality\n",
    "                modality = soup.find_all(class_=re.compile(\"key-info__qualification\"))\n",
    "                out.append(modality[0].text if modality else \"\")\n",
    "                # 9  Duration\n",
    "                duration = soup.find_all(class_=re.compile(\"key-info__duration\"))\n",
    "                out.append(duration[0].text if duration else \"\")\n",
    "                # 10  City\n",
    "                city = soup.find_all(class_=re.compile(\"course-data__city\"))\n",
    "                out.append(city[0].text if city else \"\")\n",
    "                # 11  Country\n",
    "                country = soup.find_all(class_=re.compile(\"course-data__country\"))\n",
    "                out.append(country[0].text if country else \"\")\n",
    "                # 12  Presence or online modality\n",
    "                # We have seen that some courses has both online or oncampus modality, one of them is \"Master of Business Administration\"\n",
    "                on_campus_elements = soup.find_all(class_=re.compile(\"course-data__on-campus\"))\n",
    "                online_elements = soup.find_all(class_=re.compile(\"course-data__online\"))\n",
    "                if on_campus_elements and online_elements:\n",
    "                    out.append(\"both\")\n",
    "                else:\n",
    "                    out.append(on_campus_elements[0].text if on_campus_elements else online_elements[0].text if online_elements else \"Nan\")\n",
    "                # 13  Link to the page\n",
    "                out.append(soup.find('link', {'rel': 'canonical'}).get('href') if soup.find('link', {'rel': 'canonical'}) else \"Nan\")\n",
    "                f.close()\n",
    "                \n",
    "                # Creating file .tsv\n",
    "                l = ['courseName','universityName','facultyName','isItFullTime','description','startDate','fees','modality','duration',\n",
    "                    'city','country','administration','url']\n",
    "                with open(filename+'.tsv','w',encoding='utf-8') as tsv:\n",
    "                    tsv_output = csv.writer(tsv, delimiter='\\t')\n",
    "                    tsv_output.writerow(l)\n",
    "                    tsv_output.writerow(out)\n",
    "    os.chdir('..')  \n",
    "\n",
    "print(\"All HTML files have been read and all .tsv files have been generated.\")"
   ]
  },
  {
   "cell_type": "code",
   "execution_count": null,
   "metadata": {},
   "outputs": [],
   "source": [
    "data=[]\n",
    "# to merge all the .tsv files\n",
    "for i in range(1,6001):\n",
    "    # os.chdir(r'./HTML_folders/page_'+str(i)) #change directories\n",
    "    os.chdir(r'/Users/armanfeili/Arman/Sapienza Courses/ADM/Homeworks/HW3/phase-3/ADM-HW3/HTML_folders/page_'+str(i)) #change directories\n",
    "    for filename in os.listdir(os.getcwd()):\n",
    "        if filename.endswith(\".tsv\"):\n",
    "            a = pd.read_csv(filename,sep='\\t')\n",
    "            data.append(a)\n",
    "    os.chdir('..')\n",
    "data=pd.concat(data,ignore_index=True)   \n",
    "data.to_csv('../dataset.tsv',sep='\\t',index=False) # Saving the big one\n",
    "print(\"dataset.tsv file has been generated as the main dataset.\")"
   ]
  },
  {
   "cell_type": "code",
   "execution_count": null,
   "metadata": {
    "scrolled": true
   },
   "outputs": [],
   "source": [
    "# An illustration to the dataset:\n",
    "data.head(5)"
   ]
  },
  {
   "cell_type": "markdown",
   "metadata": {},
   "source": [
    "## 2. Search Engine"
   ]
  },
  {
   "cell_type": "code",
   "execution_count": 3,
   "metadata": {
    "ExecuteTime": {
     "end_time": "2023-11-24T15:44:09.120066Z",
     "start_time": "2023-11-24T15:44:09.006803Z"
    },
    "collapsed": false
   },
   "outputs": [],
   "source": [
    "# Load the dataset we are going to work with\n",
    "data = pd.read_table(r\"dataset.tsv\")\n",
    "# Drop NAs\n",
    "data = data.dropna()"
   ]
  },
  {
   "cell_type": "markdown",
   "metadata": {
    "collapsed": false
   },
   "source": [
    "## 2.0 Preprocessing\n",
    "\n",
    "### 2.0.0) Preprocessing the text\n"
   ]
  },
  {
   "cell_type": "code",
   "execution_count": 7,
   "metadata": {
    "ExecuteTime": {
     "end_time": "2023-11-24T15:44:13.802774Z",
     "start_time": "2023-11-24T15:44:13.787572Z"
    },
    "collapsed": false
   },
   "outputs": [],
   "source": [
    "# This function takes a text, removes special cases, punctuations and stop-words then\n",
    "# it applies stemming and finally returns the preprocessed words separated by commas.\n",
    "\n",
    "def preprocess_description(description_text):\n",
    "\n",
    "    # Handle the cases of float type (there are 24)\n",
    "    if type(description_text) != str:\n",
    "        return \"\"\n",
    "\n",
    "    # Remove all special chars and punctuations\n",
    "    description_text = re.sub(\"[^a-z A-Z ]+\",\"\", description_text)\n",
    "\n",
    "    # Convert everything in lowercase\n",
    "    description_text = description_text.lower()\n",
    "\n",
    "    # Remove stopwords using nltk package\n",
    "    stop_words = set(stopwords.words('english'))\n",
    "    words = nltk.word_tokenize(description_text)\n",
    "    words = [word for word in words if word not in stop_words]\n",
    "\n",
    "    # Apply stemming using ntlk package\n",
    "    stemmer = PorterStemmer()\n",
    "    words = [stemmer.stem(word) for word in words]\n",
    "\n",
    "    # Separate words with commas\n",
    "    words = ','.join(words)\n",
    "\n",
    "    return words"
   ]
  },
  {
   "cell_type": "code",
   "execution_count": 8,
   "metadata": {
    "ExecuteTime": {
     "end_time": "2023-11-24T15:44:25.305552Z",
     "start_time": "2023-11-24T15:44:15.890537Z"
    },
    "collapsed": false
   },
   "outputs": [],
   "source": [
    "# Create and fill new column where the preprocessed descriptions wil be stored:\n",
    "data[\"clean_description\"] = data[\"description\"].apply(preprocess_description)"
   ]
  },
  {
   "cell_type": "code",
   "execution_count": 9,
   "metadata": {
    "ExecuteTime": {
     "end_time": "2023-11-24T15:44:25.321186Z",
     "start_time": "2023-11-24T15:44:25.290302Z"
    },
    "collapsed": false
   },
   "outputs": [
    {
     "data": {
      "text/html": [
       "<div>\n",
       "<style scoped>\n",
       "    .dataframe tbody tr th:only-of-type {\n",
       "        vertical-align: middle;\n",
       "    }\n",
       "\n",
       "    .dataframe tbody tr th {\n",
       "        vertical-align: top;\n",
       "    }\n",
       "\n",
       "    .dataframe thead th {\n",
       "        text-align: right;\n",
       "    }\n",
       "</style>\n",
       "<table border=\"1\" class=\"dataframe\">\n",
       "  <thead>\n",
       "    <tr style=\"text-align: right;\">\n",
       "      <th></th>\n",
       "      <th>description</th>\n",
       "      <th>clean_description</th>\n",
       "    </tr>\n",
       "  </thead>\n",
       "  <tbody>\n",
       "    <tr>\n",
       "      <th>0</th>\n",
       "      <td>3D visualisation and animation play a role in ...</td>\n",
       "      <td>visualis,anim,play,role,mani,area,popular,medi...</td>\n",
       "    </tr>\n",
       "    <tr>\n",
       "      <th>1</th>\n",
       "      <td>Businesses and governments rely on sound finan...</td>\n",
       "      <td>busi,govern,reli,sound,financi,knowledg,underp...</td>\n",
       "    </tr>\n",
       "    <tr>\n",
       "      <th>2</th>\n",
       "      <td>Our Accounting, Accountability &amp; Financial Man...</td>\n",
       "      <td>account,account,financi,manag,msc,cours,provid...</td>\n",
       "    </tr>\n",
       "    <tr>\n",
       "      <th>3</th>\n",
       "      <td>Embark on a professional accounting career wit...</td>\n",
       "      <td>embark,profession,account,career,academ,ground...</td>\n",
       "    </tr>\n",
       "    <tr>\n",
       "      <th>4</th>\n",
       "      <td>Join us for an online session for prospective ...</td>\n",
       "      <td>join,us,onlin,session,prospect,student,find,ms...</td>\n",
       "    </tr>\n",
       "    <tr>\n",
       "      <th>5</th>\n",
       "      <td>The Advanced Chemical Engineering MSc at Leeds...</td>\n",
       "      <td>advanc,chemic,engin,msc,leed,build,core,founda...</td>\n",
       "    </tr>\n",
       "    <tr>\n",
       "      <th>6</th>\n",
       "      <td>Programme overviewThe Advanced Master in Finan...</td>\n",
       "      <td>programm,overviewth,advanc,master,financi,mark...</td>\n",
       "    </tr>\n",
       "    <tr>\n",
       "      <th>7</th>\n",
       "      <td>Programme overviewThe Advanced Master in Innov...</td>\n",
       "      <td>programm,overviewth,advanc,master,innov,strate...</td>\n",
       "    </tr>\n",
       "    <tr>\n",
       "      <th>8</th>\n",
       "      <td>Progress your career as a physiotherapist with...</td>\n",
       "      <td>progress,career,physiotherapist,within,nh,priv...</td>\n",
       "    </tr>\n",
       "    <tr>\n",
       "      <th>9</th>\n",
       "      <td>Goal of the pro­grammeWould you like to be inv...</td>\n",
       "      <td>goal,programmewould,like,involv,find,solut,fut...</td>\n",
       "    </tr>\n",
       "  </tbody>\n",
       "</table>\n",
       "</div>"
      ],
      "text/plain": [
       "                                         description  \\\n",
       "0  3D visualisation and animation play a role in ...   \n",
       "1  Businesses and governments rely on sound finan...   \n",
       "2  Our Accounting, Accountability & Financial Man...   \n",
       "3  Embark on a professional accounting career wit...   \n",
       "4  Join us for an online session for prospective ...   \n",
       "5  The Advanced Chemical Engineering MSc at Leeds...   \n",
       "6  Programme overviewThe Advanced Master in Finan...   \n",
       "7  Programme overviewThe Advanced Master in Innov...   \n",
       "8  Progress your career as a physiotherapist with...   \n",
       "9  Goal of the pro­grammeWould you like to be inv...   \n",
       "\n",
       "                                   clean_description  \n",
       "0  visualis,anim,play,role,mani,area,popular,medi...  \n",
       "1  busi,govern,reli,sound,financi,knowledg,underp...  \n",
       "2  account,account,financi,manag,msc,cours,provid...  \n",
       "3  embark,profession,account,career,academ,ground...  \n",
       "4  join,us,onlin,session,prospect,student,find,ms...  \n",
       "5  advanc,chemic,engin,msc,leed,build,core,founda...  \n",
       "6  programm,overviewth,advanc,master,financi,mark...  \n",
       "7  programm,overviewth,advanc,master,innov,strate...  \n",
       "8  progress,career,physiotherapist,within,nh,priv...  \n",
       "9  goal,programmewould,like,involv,find,solut,fut...  "
      ]
     },
     "execution_count": 9,
     "metadata": {},
     "output_type": "execute_result"
    }
   ],
   "source": [
    "# Show different fields\n",
    "data[[\"description\", \"clean_description\"]].head(10)"
   ]
  },
  {
   "cell_type": "markdown",
   "metadata": {},
   "source": [
    "### 2.0.1) Preprocessing the fees column"
   ]
  },
  {
   "cell_type": "code",
   "execution_count": 11,
   "metadata": {},
   "outputs": [],
   "source": [
    "# This function was provided by ChatGPT.\n",
    "# It downloads the latest exchange rates (wrt United States Dollars) from openexchangerates.org.\n",
    "# It returns a dictionary of the form {exchange_code : exchange_rate}\n",
    "def get_latest_exchange_rates(app_id):\n",
    "\n",
    "    base_url = \"https://openexchangerates.org/api/latest.json\"\n",
    "    params = {\"app_id\": app_id}\n",
    "    response = requests.get(base_url, params=params)\n",
    "\n",
    "    if response.status_code == 200:\n",
    "        return response.json().get(\"rates\")\n",
    "    else:\n",
    "        print(f\"Failed to fetch exchange rates. Status code: {response.status_code}\")\n",
    "        return None"
   ]
  },
  {
   "cell_type": "code",
   "execution_count": 14,
   "metadata": {
    "ExecuteTime": {
     "end_time": "2023-11-24T15:44:25.880217Z",
     "start_time": "2023-11-24T15:44:25.338830Z"
    },
    "collapsed": false
   },
   "outputs": [
    {
     "name": "stdout",
     "output_type": "stream",
     "text": [
      "{\n",
      "AED: 3.672625\n",
      "AFN: 70.5\n",
      "ALL: 93.718087\n",
      "AMD: 402.18\n",
      "ANG: 1.801068\n",
      "}\n"
     ]
    }
   ],
   "source": [
    "# Load latest exchange rates\n",
    "my_app_id = \"1457fcd3d536441baad3ce7918b5025b\"\n",
    "exchange_rates_dict = get_latest_exchange_rates(my_app_id)\n",
    "\n",
    "# Show exchange_rates_dict\n",
    "count = 0\n",
    "print(\"{\")\n",
    "for key, value in exchange_rates_dict.items():\n",
    "    if count < 5:\n",
    "        print(f'{key}: {value}')\n",
    "        count += 1\n",
    "    else:\n",
    "        break\n",
    "print(\"}\")"
   ]
  },
  {
   "cell_type": "code",
   "execution_count": 15,
   "metadata": {
    "ExecuteTime": {
     "end_time": "2023-11-24T15:44:25.368742Z",
     "start_time": "2023-11-24T15:44:25.321186Z"
    },
    "collapsed": false
   },
   "outputs": [],
   "source": [
    "# Dictionary provided by ChatGPT, I changed some symbols that were not present.\n",
    "# It will be used to convert a currency symbol into currency code.\n",
    "\n",
    "currency_symbol_to_code = {\n",
    "    '$': 'USD',  # United States Dollar\n",
    "    '€': 'EUR',  # Euro\n",
    "    \"EURO\": \"EUR\", # Euro\n",
    "    '¥': 'JPY',  # Japanese Yen\n",
    "    '£': 'GBP',  # British Pound Sterling\n",
    "    'A$': 'AUD',  # Australian Dollar\n",
    "    'C$': 'CAD',  # Canadian Dollar\n",
    "    'CHF': 'CHF',  # Swiss Franc\n",
    "    'KR': 'SEK',  # Swedish Krona\n",
    "    'NZ$': 'NZD',  # New Zealand Dollar\n",
    "    # Add more symbols and codes as needed\n",
    "}\n",
    "\n",
    "# This function handles the preprocessing of the \"fees\" field\n",
    "def preprocess_fees(fees_text):\n",
    "\n",
    "    # Handles the case of \"nan\"\n",
    "    if type(fees_text) != str:\n",
    "        return None\n",
    "\n",
    "    # Preallocate all the fees found in text\n",
    "    total_fees = []\n",
    "\n",
    "    # Symbols we are looking for\n",
    "    symbols = \"GBP|USD|ISK|£|\\$|₹|¥|₪|₽|₩|₦|₴|﷼|€|Euro\"\n",
    "\n",
    "    # Match the (symbol, number) case\n",
    "    left_symbol_matches = re.findall(fr'(?:{symbols})+\\s*[0-9]+[,.]?[0-9]*', fees_text, flags=re.IGNORECASE)\n",
    "\n",
    "    # Match the (number,  symbol) case\n",
    "    right_symbol_matches = re.findall(fr'[0-9]+[,.]?[0-9]*\\s*(?:{symbols})+', fees_text, flags=re.IGNORECASE)\n",
    "\n",
    "    # Merge them\n",
    "    matches = left_symbol_matches + right_symbol_matches\n",
    "\n",
    "    # If we got no matches returns None\n",
    "    if len(matches) == 0 :\n",
    "        return None\n",
    "\n",
    "    for match in matches:\n",
    "        # Remove \",\" or \".\" and change to the right type\n",
    "        number = re.findall('([0-9]+)[.,]*([0-9]*)', match)[0]\n",
    "        number = float(number[0] + number[1])\n",
    "\n",
    "        # Isolate symbol and upper case it (to match exchange_rates_dict codes)\n",
    "        symbol = re.findall(fr'(?i)({symbols})', match)[0].upper()\n",
    "\n",
    "        # Transform symbol into code (if not already a code)\n",
    "        if symbol in currency_symbol_to_code.keys():\n",
    "            symbol = currency_symbol_to_code[symbol]\n",
    "\n",
    "        # Change into USD using the exchange_rates dictionary and append to fees\n",
    "        total_fees.append(number / exchange_rates_dict[symbol])\n",
    "\n",
    "    # Take the max fee and return it\n",
    "    max_fee = round(max(total_fees))\n",
    "    return max_fee\n"
   ]
  },
  {
   "cell_type": "code",
   "execution_count": 16,
   "metadata": {
    "ExecuteTime": {
     "end_time": "2023-11-24T16:19:16.127362Z",
     "start_time": "2023-11-24T16:19:16.006402Z"
    },
    "collapsed": false
   },
   "outputs": [
    {
     "data": {
      "text/html": [
       "<div>\n",
       "<style scoped>\n",
       "    .dataframe tbody tr th:only-of-type {\n",
       "        vertical-align: middle;\n",
       "    }\n",
       "\n",
       "    .dataframe tbody tr th {\n",
       "        vertical-align: top;\n",
       "    }\n",
       "\n",
       "    .dataframe thead th {\n",
       "        text-align: right;\n",
       "    }\n",
       "</style>\n",
       "<table border=\"1\" class=\"dataframe\">\n",
       "  <thead>\n",
       "    <tr style=\"text-align: right;\">\n",
       "      <th></th>\n",
       "      <th>fees</th>\n",
       "      <th>fees_USD</th>\n",
       "    </tr>\n",
       "  </thead>\n",
       "  <tbody>\n",
       "    <tr>\n",
       "      <th>0</th>\n",
       "      <td>Please see the university website for further ...</td>\n",
       "      <td>NaN</td>\n",
       "    </tr>\n",
       "    <tr>\n",
       "      <th>1</th>\n",
       "      <td>UK: £18,000 (Total) International: £34,750 (To...</td>\n",
       "      <td>43810.0</td>\n",
       "    </tr>\n",
       "    <tr>\n",
       "      <th>2</th>\n",
       "      <td>Please see the university website for further ...</td>\n",
       "      <td>NaN</td>\n",
       "    </tr>\n",
       "    <tr>\n",
       "      <th>3</th>\n",
       "      <td>Please see the university website for further ...</td>\n",
       "      <td>NaN</td>\n",
       "    </tr>\n",
       "    <tr>\n",
       "      <th>4</th>\n",
       "      <td>Please see the university website for further ...</td>\n",
       "      <td>NaN</td>\n",
       "    </tr>\n",
       "    <tr>\n",
       "      <th>5</th>\n",
       "      <td>UK: £13,750 (Total) International: £31,000 (To...</td>\n",
       "      <td>39082.0</td>\n",
       "    </tr>\n",
       "    <tr>\n",
       "      <th>6</th>\n",
       "      <td>18.000 €</td>\n",
       "      <td>19693.0</td>\n",
       "    </tr>\n",
       "    <tr>\n",
       "      <th>7</th>\n",
       "      <td>18.000 €</td>\n",
       "      <td>19693.0</td>\n",
       "    </tr>\n",
       "    <tr>\n",
       "      <th>8</th>\n",
       "      <td>Please see the university website for further ...</td>\n",
       "      <td>NaN</td>\n",
       "    </tr>\n",
       "    <tr>\n",
       "      <th>9</th>\n",
       "      <td>Tuition fee per year (non-EU/EEA students): 15...</td>\n",
       "      <td>16411.0</td>\n",
       "    </tr>\n",
       "  </tbody>\n",
       "</table>\n",
       "</div>"
      ],
      "text/plain": [
       "                                                fees  fees_USD\n",
       "0  Please see the university website for further ...       NaN\n",
       "1  UK: £18,000 (Total) International: £34,750 (To...   43810.0\n",
       "2  Please see the university website for further ...       NaN\n",
       "3  Please see the university website for further ...       NaN\n",
       "4  Please see the university website for further ...       NaN\n",
       "5  UK: £13,750 (Total) International: £31,000 (To...   39082.0\n",
       "6                                           18.000 €   19693.0\n",
       "7                                           18.000 €   19693.0\n",
       "8  Please see the university website for further ...       NaN\n",
       "9  Tuition fee per year (non-EU/EEA students): 15...   16411.0"
      ]
     },
     "execution_count": 16,
     "metadata": {},
     "output_type": "execute_result"
    }
   ],
   "source": [
    "# Save preprocessed fees into a new column, and show them\n",
    "data[\"fees_USD\"] = data[\"fees\"].apply(preprocess_fees)\n",
    "data[[\"fees\", \"fees_USD\"]].head(10)"
   ]
  },
  {
   "cell_type": "markdown",
   "metadata": {},
   "source": [
    "## 2.1. Conjunctive query\n",
    "\n",
    "### 2.1.1) Create your index!\n"
   ]
  },
  {
   "cell_type": "code",
   "execution_count": 17,
   "metadata": {
    "ExecuteTime": {
     "end_time": "2023-11-24T15:44:27.654346Z",
     "start_time": "2023-11-24T15:44:27.638654Z"
    },
    "collapsed": false
   },
   "outputs": [],
   "source": [
    "# Store all terms contained in the \"clean_description\" as a set\n",
    "terms_set = set(','.join(data[\"clean_description\"]).split(\",\"))\n",
    "\n",
    "# Create a dict that associate each term to a unique id\n",
    "terms_id_dict = {key: value for value, key in enumerate(terms_set)}"
   ]
  },
  {
   "cell_type": "code",
   "execution_count": 18,
   "metadata": {
    "ExecuteTime": {
     "end_time": "2023-11-24T15:44:29.166007Z",
     "start_time": "2023-11-24T15:44:29.094643Z"
    }
   },
   "outputs": [],
   "source": [
    "# Here we create the inverted index dictionary.\n",
    "\n",
    "# Preallocate a dictionary with the form: {term_id : []}\n",
    "inverted_index = {i : [] for i in range(len(terms_id_dict))}\n",
    "\n",
    "# Iterating over all terms and texts in the \"clean_description\" field\n",
    "for i,text in enumerate(data[\"clean_description\"]):\n",
    "\n",
    "    text_set = set(text.split(\",\"))\n",
    "\n",
    "    for term in text_set:\n",
    "        # Get term id\n",
    "        term_id = terms_id_dict[term]\n",
    "\n",
    "        # Add document id \"i\" to the term_id list\n",
    "        inverted_index[term_id].append(i)"
   ]
  },
  {
   "cell_type": "code",
   "execution_count": 19,
   "metadata": {
    "ExecuteTime": {
     "end_time": "2023-11-24T15:44:30.973340Z",
     "start_time": "2023-11-24T15:44:30.962715Z"
    },
    "collapsed": false
   },
   "outputs": [
    {
     "name": "stdout",
     "output_type": "stream",
     "text": [
      "{\n",
      "0: [28, 33, 38, 40, 81, 115, 187, 266, 302, 317, 344, 359, 417, 471, 472, 477, 503, 541, 552, 564, 579, 586, 587, 588, 755, 757, 759, 817, 845, 847, 921, 945, 961, 972, 996, 1087, 1107, 1117, 1118, 1141, 1142, 1148, 1163, 1173, 1183, 1215, 1248, 1250, 1313, 1395, 1435, 1437, 1476, 1486, 1487, 1489, 1491, 1676, 1677, 1678, 1692, 1700, 1701, 1705, 1754, 1771, 1783, 1785, 1831, 1834, 1855, 1862, 1872, 1893, 1934, 1946, 1959, 1960, 2015, 2029, 2067, 2108, 2112, 2129, 2142, 2168, 2169, 2195, 2218, 2224, 2232, 2243, 2249, 2255, 2257, 2268, 2300, 2336, 2354, 2370, 2386, 2479, 2484, 2524, 2560, 2629, 2648, 2649, 2650, 2652, 2654, 2655, 2674, 2678, 2679, 2685, 2693, 2694, 2718, 2724, 2743, 2747, 2751, 2769, 2815, 2912, 2913, 2951, 2963, 2970, 2978, 2995, 3013, 3017, 3018, 3044, 3046, 3109, 3122, 3133, 3157, 3161, 3198, 3254, 3264, 3276, 3300, 3308, 3313, 3342, 3396, 3427, 3443, 3445, 3450, 3461, 3487, 3521, 3526, 3531, 3552, 3574, 3577, 3586, 3588, 3592, 3601, 3627, 3640, 3662, 3665, 3687, 3697, 3710, 3754, 3755, 3770, 3812, 3836, 3837, 3886, 3901, 3947, 3981, 3998, 4009, 4021, 4097, 4101, 4122, 4142, 4146, 4154, 4235, 4249, 4269, 4270, 4272, 4273, 4310, 4318, 4328, 4372, 4432, 4443, 4444, 4445, 4455, 4462, 4534, 4568, 4570, 4581, 4672, 4698, 4699, 4733, 4737, 4746, 4747, 4828, 4868, 4896, 4902, 4941, 4961, 4962, 4981, 4991, 5008, 5042, 5053, 5096, 5119, 5169, 5170, 5180, 5294, 5304, 5320, 5350, 5372, 5381, 5388, 5389, 5416, 5430, 5475, 5487, 5489, 5554, 5595, 5605, 5620, 5621, 5645, 5668, 5671, 5674, 5710, 5714, 5715, 5735, 5757, 5773, 5783, 5801, 5803, 5806, 5834, 5839, 5843]\n",
      "1: [1358]\n",
      "2: [3833, 4355, 4356, 4357, 5350]\n",
      "3: [611]\n",
      "4: [173, 3342, 4015]\n",
      "}\n"
     ]
    }
   ],
   "source": [
    "# Show inverted_index_dict structure\n",
    "print(\"{\")\n",
    "count = 0\n",
    "for key, value in inverted_index.items():\n",
    "    if count < 5:\n",
    "        print(f'{key}: {value}')\n",
    "        count += 1\n",
    "    else:\n",
    "        break\n",
    "print(\"}\")"
   ]
  },
  {
   "cell_type": "markdown",
   "metadata": {},
   "source": [
    "### 2.1.2) Execute the query"
   ]
  },
  {
   "cell_type": "code",
   "execution_count": 20,
   "metadata": {
    "ExecuteTime": {
     "end_time": "2023-11-24T15:44:42.240002Z",
     "start_time": "2023-11-24T15:44:42.227569Z"
    },
    "collapsed": false
   },
   "outputs": [],
   "source": [
    "# This function takes a query as a input and returns the most affine docs:\n",
    "\n",
    "def naive_search_engine(query):\n",
    "    # Apply same preprocessing done for descriptions and split wrt \",\"\n",
    "    query = preprocess_description(query).split(\",\")\n",
    "\n",
    "    # For each term in query get all the docs ids that contain it as a set\n",
    "    query_docs = [set(inverted_index[terms_id_dict[term]]) for term in query]\n",
    "\n",
    "    # Select the docs ids that contain all the query term, and sort them\n",
    "    query_docs = set.intersection(*query_docs)\n",
    "    query_docs = list(sorted(query_docs))\n",
    "\n",
    "    # Return selected columns of those docs\n",
    "    result  = data.iloc[query_docs, [0,1,4,12]]\n",
    "\n",
    "    return result"
   ]
  },
  {
   "cell_type": "code",
   "execution_count": 21,
   "metadata": {
    "ExecuteTime": {
     "end_time": "2023-11-24T16:21:05.971170Z",
     "start_time": "2023-11-24T16:21:05.955052Z"
    },
    "collapsed": false
   },
   "outputs": [
    {
     "data": {
      "text/html": [
       "<div>\n",
       "<style scoped>\n",
       "    .dataframe tbody tr th:only-of-type {\n",
       "        vertical-align: middle;\n",
       "    }\n",
       "\n",
       "    .dataframe tbody tr th {\n",
       "        vertical-align: top;\n",
       "    }\n",
       "\n",
       "    .dataframe thead th {\n",
       "        text-align: right;\n",
       "    }\n",
       "</style>\n",
       "<table border=\"1\" class=\"dataframe\">\n",
       "  <thead>\n",
       "    <tr style=\"text-align: right;\">\n",
       "      <th></th>\n",
       "      <th>courseName</th>\n",
       "      <th>universityName</th>\n",
       "      <th>description</th>\n",
       "      <th>url</th>\n",
       "    </tr>\n",
       "  </thead>\n",
       "  <tbody>\n",
       "    <tr>\n",
       "      <th>1</th>\n",
       "      <td>Accounting and Finance - MSc</td>\n",
       "      <td>University of Leeds</td>\n",
       "      <td>Businesses and governments rely on sound finan...</td>\n",
       "      <td>https://www.findamasters.com/masters-degrees/c...</td>\n",
       "    </tr>\n",
       "    <tr>\n",
       "      <th>4</th>\n",
       "      <td>Addictions MSc</td>\n",
       "      <td>King’s College London</td>\n",
       "      <td>Join us for an online session for prospective ...</td>\n",
       "      <td>https://www.findamasters.com/masters-degrees/c...</td>\n",
       "    </tr>\n",
       "    <tr>\n",
       "      <th>12</th>\n",
       "      <td>Analytical Toxicology MSc</td>\n",
       "      <td>King’s College London</td>\n",
       "      <td>The Analytical Toxicology MSc is a unique stud...</td>\n",
       "      <td>https://www.findamasters.com/masters-degrees/c...</td>\n",
       "    </tr>\n",
       "    <tr>\n",
       "      <th>48</th>\n",
       "      <td>Civil Engineering MSc</td>\n",
       "      <td>University of Greenwich</td>\n",
       "      <td>Meet the future demands of the construction in...</td>\n",
       "      <td>https://www.findamasters.com/masters-degrees/c...</td>\n",
       "    </tr>\n",
       "    <tr>\n",
       "      <th>86</th>\n",
       "      <td>Economics - MSc</td>\n",
       "      <td>University of Leeds</td>\n",
       "      <td>Our MSc Economics allows you to apply economic...</td>\n",
       "      <td>https://www.findamasters.com/masters-degrees/c...</td>\n",
       "    </tr>\n",
       "    <tr>\n",
       "      <th>...</th>\n",
       "      <td>...</td>\n",
       "      <td>...</td>\n",
       "      <td>...</td>\n",
       "      <td>...</td>\n",
       "    </tr>\n",
       "    <tr>\n",
       "      <th>5909</th>\n",
       "      <td>Master of Science/Postgraduate Diploma in Envi...</td>\n",
       "      <td>The Hong Kong University of Science and Techno...</td>\n",
       "      <td>The program is meant to meet the needs of prac...</td>\n",
       "      <td>https://www.findamasters.com/masters-degrees/c...</td>\n",
       "    </tr>\n",
       "    <tr>\n",
       "      <th>5937</th>\n",
       "      <td>Master Sociology – Social and Economic Psychology</td>\n",
       "      <td>University of Cologne</td>\n",
       "      <td>This programme provides you with:a solid found...</td>\n",
       "      <td>https://www.findamasters.com/masters-degrees/c...</td>\n",
       "    </tr>\n",
       "    <tr>\n",
       "      <th>5957</th>\n",
       "      <td>Masters in Economics</td>\n",
       "      <td>University of Lisbon</td>\n",
       "      <td>OBJECTIVESThe MSc in Economics aims to provide...</td>\n",
       "      <td>https://www.findamasters.com/masters-degrees/c...</td>\n",
       "    </tr>\n",
       "    <tr>\n",
       "      <th>5963</th>\n",
       "      <td>Master's in Global and European Politics</td>\n",
       "      <td>European School of Political and Social Scienc...</td>\n",
       "      <td>Europe and the EU in a changing worldOur inter...</td>\n",
       "      <td>https://www.findamasters.com/masters-degrees/c...</td>\n",
       "    </tr>\n",
       "    <tr>\n",
       "      <th>5965</th>\n",
       "      <td>Masters in Hospitality Management</td>\n",
       "      <td>Ecole hotelière de Lausanne</td>\n",
       "      <td>With our Master in Hospitality Management, you...</td>\n",
       "      <td>https://www.findamasters.com/masters-degrees/c...</td>\n",
       "    </tr>\n",
       "  </tbody>\n",
       "</table>\n",
       "<p>455 rows × 4 columns</p>\n",
       "</div>"
      ],
      "text/plain": [
       "                                             courseName  \\\n",
       "1                          Accounting and Finance - MSc   \n",
       "4                                        Addictions MSc   \n",
       "12                            Analytical Toxicology MSc   \n",
       "48                                Civil Engineering MSc   \n",
       "86                                      Economics - MSc   \n",
       "...                                                 ...   \n",
       "5909  Master of Science/Postgraduate Diploma in Envi...   \n",
       "5937  Master Sociology – Social and Economic Psychology   \n",
       "5957                               Masters in Economics   \n",
       "5963           Master's in Global and European Politics   \n",
       "5965                  Masters in Hospitality Management   \n",
       "\n",
       "                                         universityName  \\\n",
       "1                                   University of Leeds   \n",
       "4                                 King’s College London   \n",
       "12                                King’s College London   \n",
       "48                              University of Greenwich   \n",
       "86                                  University of Leeds   \n",
       "...                                                 ...   \n",
       "5909  The Hong Kong University of Science and Techno...   \n",
       "5937                              University of Cologne   \n",
       "5957                               University of Lisbon   \n",
       "5963  European School of Political and Social Scienc...   \n",
       "5965                        Ecole hotelière de Lausanne   \n",
       "\n",
       "                                            description  \\\n",
       "1     Businesses and governments rely on sound finan...   \n",
       "4     Join us for an online session for prospective ...   \n",
       "12    The Analytical Toxicology MSc is a unique stud...   \n",
       "48    Meet the future demands of the construction in...   \n",
       "86    Our MSc Economics allows you to apply economic...   \n",
       "...                                                 ...   \n",
       "5909  The program is meant to meet the needs of prac...   \n",
       "5937  This programme provides you with:a solid found...   \n",
       "5957  OBJECTIVESThe MSc in Economics aims to provide...   \n",
       "5963  Europe and the EU in a changing worldOur inter...   \n",
       "5965  With our Master in Hospitality Management, you...   \n",
       "\n",
       "                                                    url  \n",
       "1     https://www.findamasters.com/masters-degrees/c...  \n",
       "4     https://www.findamasters.com/masters-degrees/c...  \n",
       "12    https://www.findamasters.com/masters-degrees/c...  \n",
       "48    https://www.findamasters.com/masters-degrees/c...  \n",
       "86    https://www.findamasters.com/masters-degrees/c...  \n",
       "...                                                 ...  \n",
       "5909  https://www.findamasters.com/masters-degrees/c...  \n",
       "5937  https://www.findamasters.com/masters-degrees/c...  \n",
       "5957  https://www.findamasters.com/masters-degrees/c...  \n",
       "5963  https://www.findamasters.com/masters-degrees/c...  \n",
       "5965  https://www.findamasters.com/masters-degrees/c...  \n",
       "\n",
       "[455 rows x 4 columns]"
      ]
     },
     "execution_count": 21,
     "metadata": {},
     "output_type": "execute_result"
    }
   ],
   "source": [
    "naive_search_engine(\"advanced knowledge\")"
   ]
  },
  {
   "cell_type": "markdown",
   "metadata": {
    "collapsed": false
   },
   "source": [
    "## 2.2) Conjunctive query & Ranking score\n",
    "\n",
    "### 2.2.1) Inverted index\n"
   ]
  },
  {
   "cell_type": "code",
   "execution_count": 22,
   "metadata": {
    "ExecuteTime": {
     "end_time": "2023-11-24T15:44:50.839116Z",
     "start_time": "2023-11-24T15:44:49.529475Z"
    },
    "collapsed": false
   },
   "outputs": [],
   "source": [
    "# Here we create the second inverted index dictionary.\n",
    "\n",
    "# Preallocate a dictionary with the form: {term_id : [(doc_id, tfidf_score)]}\n",
    "new_inverted_index = {i : [] for i in range(len(terms_id_dict))}\n",
    "\n",
    "# Iterating over all terms and texts in the \"clean_description\" field\n",
    "for i, text in enumerate(data[\"clean_description\"]):\n",
    "\n",
    "    text_list = text.split(\",\")\n",
    "\n",
    "    # \"set\" here has the purpose of selecting unique terms only.\n",
    "    for term in set(text_list):\n",
    "\n",
    "        # Get term id\n",
    "        term_id = terms_id_dict[term]\n",
    "\n",
    "        # Get idf score: log( total number of documents / number of documents term is in )\n",
    "        term_idf = np.log(len(data[\"clean_description\"]) / len(inverted_index[term_id]))\n",
    "\n",
    "        # Get tf score: number of times term appears in text / total number of terms in text\n",
    "        term_tf =  text_list.count(term) / len(text_list)\n",
    "\n",
    "        # Compute tfidf score\n",
    "        term_tfidf = term_tf * term_idf\n",
    "\n",
    "        # Update new_inverted_index list with a tuple\n",
    "        new_inverted_index[term_id].append((i , term_tfidf))"
   ]
  },
  {
   "cell_type": "code",
   "execution_count": 23,
   "metadata": {
    "ExecuteTime": {
     "end_time": "2023-11-24T15:44:53.479984Z",
     "start_time": "2023-11-24T15:44:53.459147Z"
    },
    "collapsed": false
   },
   "outputs": [
    {
     "name": "stdout",
     "output_type": "stream",
     "text": [
      "{\n",
      "0: [(28, 0.06393913335324654), (33, 0.05201827798230227), (38, 0.05902073847991989), (40, 0.06820174224346298), (81, 0.09590870002986981), (115, 0.12787826670649308), (187, 0.05790713964067611), (266, 0.046501187893270214), (302, 0.06671909567295291), (317, 0.05683478520288581), (344, 0.061381568019116685), (359, 0.05580142547192425), (417, 0.05201827798230227), (471, 0.10960994289127979), (472, 0.10960994289127979), (477, 0.054804971445639894), (503, 0.07307329526085318), (541, 0.03300084302103048), (552, 0.07137391630129847), (564, 0.051151306682597236), (579, 0.06820174224346298), (586, 0.06671909567295291), (587, 0.050312760671407115), (588, 0.05902073847991989), (755, 0.09026701179281865), (757, 0.0538434807185234), (759, 0.06975178183990532), (817, 0.0538434807185234), (845, 0.061381568019116685), (847, 0.04580714031277364), (921, 0.05902073847991989), (945, 0.044479397115301945), (961, 0.0652995404458688), (972, 0.0626342530807313), (996, 0.042042169876107316), (1087, 0.0601780078618791), (1107, 0.25575653341298615), (1117, 0.046501187893270214), (1118, 0.050312760671407115), (1141, 0.08895879423060389), (1142, 0.05580142547192425), (1148, 0.050312760671407115), (1163, 0.0538434807185234), (1173, 0.01145178507819341), (1183, 0.009964540262843618), (1215, 0.06820174224346298), (1248, 0.051151306682597236), (1250, 0.12787826670649308), (1313, 0.09743106034780424), (1395, 0.0652995404458688), (1435, 0.05580142547192425), (1437, 0.0538434807185234), (1476, 0.0807652210777851), (1486, 0.0352767632293774), (1487, 0.06393913335324654), (1489, 0.06393913335324654), (1491, 0.049501264531545706), (1676, 0.05201827798230227), (1677, 0.052915144844066106), (1678, 0.0538434807185234), (1692, 0.05683478520288581), (1700, 0.10583028968813221), (1701, 0.10583028968813221), (1705, 0.05201827798230227), (1754, 0.04871553017390212), (1771, 0.09300237578654043), (1783, 0.049501264531545706), (1785, 0.04721659078393591), (1831, 0.049501264531545706), (1834, 0.04871553017390212), (1855, 0.05201827798230227), (1862, 0.051151306682597236), (1872, 0.05580142547192425), (1893, 0.054804971445639894), (1934, 0.06671909567295291), (1946, 0.027159985849166672), (1959, 0.05902073847991989), (1960, 0.04580714031277364), (2015, 0.10230261336519447), (2029, 0.06820174224346298), (2067, 0.05902073847991989), (2108, 0.07869431797322651), (2112, 0.043226456351490625), (2129, 0.07672696002389585), (2142, 0.04871553017390212), (2168, 0.11804147695983978), (2169, 0.09300237578654043), (2195, 0.12787826670649308), (2218, 0.052915144844066106), (2224, 0.0652995404458688), (2232, 0.13343819134590582), (2243, 0.1729058254059625), (2249, 0.04795435001493491), (2255, 0.12276313603823337), (2257, 0.049501264531545706), (2268, 0.046501187893270214), (2300, 0.05902073847991989), (2336, 0.0538434807185234), (2354, 0.10960994289127979), (2370, 0.08768795431302383), (2386, 0.06671909567295291), (2479, 0.04795435001493491), (2484, 0.0601780078618791), (2524, 0.04721659078393591), (2560, 0.021613228175745312), (2629, 0.19181740005973963), (2648, 0.10583028968813221), (2649, 0.11366957040577162), (2650, 0.11366957040577162), (2652, 0.06671909567295291), (2654, 0.10960994289127979), (2655, 0.14850379359463714), (2674, 0.06820174224346298), (2678, 0.1497111415100407), (2679, 0.10403655596460454), (2685, 0.05580142547192425), (2693, 0.054804971445639894), (2694, 0.061381568019116685), (2718, 0.06820174224346298), (2724, 0.07307329526085318), (2743, 0.07307329526085318), (2747, 0.06671909567295291), (2751, 0.052915144844066106), (2769, 0.06393913335324654), (2815, 0.05902073847991989), (2912, 0.052915144844066106), (2913, 0.07672696002389585), (2951, 0.06975178183990532), (2963, 0.1805340235856373), (2970, 0.044479397115301945), (2978, 0.051151306682597236), (2995, 0.0269217403592617), (3013, 0.0626342530807313), (3017, 0.026457572422033053), (3018, 0.03196956667662327), (3044, 0.05902073847991989), (3046, 0.05902073847991989), (3109, 0.061381568019116685), (3122, 0.037427785377510174), (3133, 0.09590870002986981), (3157, 0.07307329526085318), (3161, 0.042042169876107316), (3198, 0.054804971445639894), (3254, 0.046501187893270214), (3264, 0.06975178183990532), (3276, 0.04580714031277364), (3300, 0.043843977156511914), (3308, 0.052915144844066106), (3313, 0.021021084938053658), (3342, 0.033359547836476454), (3396, 0.0538434807185234), (3427, 0.061381568019116685), (3443, 0.049501264531545706), (3445, 0.061381568019116685), (3450, 0.17050435560865743), (3461, 0.05683478520288581), (3487, 0.0601780078618791), (3521, 0.04795435001493491), (3526, 0.04871553017390212), (3531, 0.051151306682597236), (3552, 0.04795435001493491), (3574, 0.07137391630129847), (3577, 0.049501264531545706), (3586, 0.22733914081154324), (3588, 0.09590870002986981), (3592, 0.054804971445639894), (3601, 0.10230261336519447), (3627, 0.07137391630129847), (3640, 0.04092104534607779), (3662, 0.03653664763042659), (3665, 0.03653664763042659), (3687, 0.04580714031277364), (3697, 0.044479397115301945), (3710, 0.010421318848746466), (3754, 0.04871553017390212), (3755, 0.026687638269181167), (3770, 0.051151306682597236), (3812, 0.061381568019116685), (3836, 0.07307329526085318), (3837, 0.07137391630129847), (3886, 0.0538434807185234), (3901, 0.10960994289127979), (3947, 0.04262608890216436), (3981, 0.054804971445639894), (3998, 0.0807652210777851), (4009, 0.07672696002389585), (4021, 0.05201827798230227), (4097, 0.09026701179281865), (4101, 0.06671909567295291), (4122, 0.10230261336519447), (4142, 0.043226456351490625), (4146, 0.05902073847991989), (4154, 0.19181740005973963), (4235, 0.051151306682597236), (4249, 0.08294806489069823), (4269, 0.013172010304531476), (4270, 0.09300237578654043), (4272, 0.044479397115301945), (4273, 0.044479397115301945), (4310, 0.04147403244534911), (4318, 0.032306088431114044), (4328, 0.052915144844066106), (4372, 0.049501264531545706), (4432, 0.12787826670649308), (4443, 0.0601780078618791), (4444, 0.10960994289127979), (4445, 0.10960994289127979), (4455, 0.051151306682597236), (4462, 0.04871553017390212), (4534, 0.04580714031277364), (4568, 0.054804971445639894), (4570, 0.1615304421555702), (4581, 0.010264476257377371), (4672, 0.0652995404458688), (4698, 0.05683478520288581), (4699, 0.10583028968813221), (4733, 0.004678473172188772), (4737, 0.07307329526085318), (4746, 0.07485557075502035), (4747, 0.07485557075502035), (4828, 0.12442209733604734), (4868, 0.045133505896409326), (4896, 0.07672696002389585), (4902, 0.0601780078618791), (4941, 0.0652995404458688), (4961, 0.050312760671407115), (4962, 0.051151306682597236), (4981, 0.04580714031277364), (4991, 0.043226456351490625), (5008, 0.1076869614370468), (5042, 0.04871553017390212), (5053, 0.06671909567295291), (5096, 0.07307329526085318), (5119, 0.06671909567295291), (5169, 0.08768795431302383), (5170, 0.05201827798230227), (5180, 0.07672696002389585), (5294, 0.09743106034780424), (5304, 0.06975178183990532), (5320, 0.0538434807185234), (5350, 0.10230261336519447), (5372, 0.046501187893270214), (5381, 0.07485557075502035), (5388, 0.01169172724173651), (5389, 0.05902073847991989), (5416, 0.052915144844066106), (5430, 0.0807652210777851), (5475, 0.12787826670649308), (5487, 0.12787826670649308), (5489, 0.061381568019116685), (5554, 0.027159985849166672), (5595, 0.04871553017390212), (5605, 0.04871553017390212), (5620, 0.05902073847991989), (5621, 0.05201827798230227), (5645, 0.1374214209383209), (5668, 0.04721659078393591), (5671, 0.0538434807185234), (5674, 0.050312760671407115), (5710, 0.07869431797322651), (5714, 0.050312760671407115), (5715, 0.11804147695983978), (5735, 0.09026701179281865), (5757, 0.016679773918238227), (5773, 0.054804971445639894), (5783, 0.09161428062554729), (5801, 0.05580142547192425), (5803, 0.046501187893270214), (5806, 0.0652995404458688), (5834, 0.13343819134590582), (5839, 0.061381568019116685), (5843, 0.061381568019116685)]\n",
      "1: [(1358, 0.17009569543631042)]\n",
      "2: [(3833, 0.17232786719067636), (4355, 0.10093489364025329), (4356, 0.13084152879292094), (4357, 0.13084152879292094), (5350, 0.23551475182725767)]\n",
      "3: [(611, 0.15490857977235414)]\n",
      "4: [(173, 0.11479194209975337), (3342, 0.08235074107156219), (4015, 0.1803873375853267)]\n",
      "}\n"
     ]
    }
   ],
   "source": [
    "# Show new_inverted_index structure\n",
    "print(\"{\")\n",
    "count = 0\n",
    "for key, value in new_inverted_index.items():\n",
    "    if count < 5:\n",
    "        print(f'{key}: {value}')\n",
    "        count += 1\n",
    "    else:\n",
    "        break\n",
    "print(\"}\")"
   ]
  },
  {
   "cell_type": "markdown",
   "metadata": {
    "collapsed": false
   },
   "source": [
    "In the execution of queries  we will use the inverted index dictionary defined below, which transforms the list of tuples contained in new_inverted_index into a dictionary.\n",
    "With this structure **tfidf(term_id, doc_id) = new_inverted_index_as_dict[term_id][doc_id]**"
   ]
  },
  {
   "cell_type": "code",
   "execution_count": 24,
   "metadata": {
    "ExecuteTime": {
     "end_time": "2023-11-24T15:45:04.119408Z",
     "start_time": "2023-11-24T15:45:04.043463Z"
    },
    "collapsed": false
   },
   "outputs": [],
   "source": [
    "# Convert new_inverted_index values to dictionaries\n",
    "new_inverted_index_as_dict = {key : dict(new_inverted_index[key]) for key in new_inverted_index.keys()}"
   ]
  },
  {
   "cell_type": "code",
   "execution_count": 25,
   "metadata": {
    "ExecuteTime": {
     "end_time": "2023-11-24T15:45:05.603245Z",
     "start_time": "2023-11-24T15:45:05.592169Z"
    },
    "collapsed": false
   },
   "outputs": [
    {
     "name": "stdout",
     "output_type": "stream",
     "text": [
      "{\n",
      "0: {28: 0.06393913335324654, 33: 0.05201827798230227, 38: 0.05902073847991989, 40: 0.06820174224346298, 81: 0.09590870002986981, 115: 0.12787826670649308, 187: 0.05790713964067611, 266: 0.046501187893270214, 302: 0.06671909567295291, 317: 0.05683478520288581, 344: 0.061381568019116685, 359: 0.05580142547192425, 417: 0.05201827798230227, 471: 0.10960994289127979, 472: 0.10960994289127979, 477: 0.054804971445639894, 503: 0.07307329526085318, 541: 0.03300084302103048, 552: 0.07137391630129847, 564: 0.051151306682597236, 579: 0.06820174224346298, 586: 0.06671909567295291, 587: 0.050312760671407115, 588: 0.05902073847991989, 755: 0.09026701179281865, 757: 0.0538434807185234, 759: 0.06975178183990532, 817: 0.0538434807185234, 845: 0.061381568019116685, 847: 0.04580714031277364, 921: 0.05902073847991989, 945: 0.044479397115301945, 961: 0.0652995404458688, 972: 0.0626342530807313, 996: 0.042042169876107316, 1087: 0.0601780078618791, 1107: 0.25575653341298615, 1117: 0.046501187893270214, 1118: 0.050312760671407115, 1141: 0.08895879423060389, 1142: 0.05580142547192425, 1148: 0.050312760671407115, 1163: 0.0538434807185234, 1173: 0.01145178507819341, 1183: 0.009964540262843618, 1215: 0.06820174224346298, 1248: 0.051151306682597236, 1250: 0.12787826670649308, 1313: 0.09743106034780424, 1395: 0.0652995404458688, 1435: 0.05580142547192425, 1437: 0.0538434807185234, 1476: 0.0807652210777851, 1486: 0.0352767632293774, 1487: 0.06393913335324654, 1489: 0.06393913335324654, 1491: 0.049501264531545706, 1676: 0.05201827798230227, 1677: 0.052915144844066106, 1678: 0.0538434807185234, 1692: 0.05683478520288581, 1700: 0.10583028968813221, 1701: 0.10583028968813221, 1705: 0.05201827798230227, 1754: 0.04871553017390212, 1771: 0.09300237578654043, 1783: 0.049501264531545706, 1785: 0.04721659078393591, 1831: 0.049501264531545706, 1834: 0.04871553017390212, 1855: 0.05201827798230227, 1862: 0.051151306682597236, 1872: 0.05580142547192425, 1893: 0.054804971445639894, 1934: 0.06671909567295291, 1946: 0.027159985849166672, 1959: 0.05902073847991989, 1960: 0.04580714031277364, 2015: 0.10230261336519447, 2029: 0.06820174224346298, 2067: 0.05902073847991989, 2108: 0.07869431797322651, 2112: 0.043226456351490625, 2129: 0.07672696002389585, 2142: 0.04871553017390212, 2168: 0.11804147695983978, 2169: 0.09300237578654043, 2195: 0.12787826670649308, 2218: 0.052915144844066106, 2224: 0.0652995404458688, 2232: 0.13343819134590582, 2243: 0.1729058254059625, 2249: 0.04795435001493491, 2255: 0.12276313603823337, 2257: 0.049501264531545706, 2268: 0.046501187893270214, 2300: 0.05902073847991989, 2336: 0.0538434807185234, 2354: 0.10960994289127979, 2370: 0.08768795431302383, 2386: 0.06671909567295291, 2479: 0.04795435001493491, 2484: 0.0601780078618791, 2524: 0.04721659078393591, 2560: 0.021613228175745312, 2629: 0.19181740005973963, 2648: 0.10583028968813221, 2649: 0.11366957040577162, 2650: 0.11366957040577162, 2652: 0.06671909567295291, 2654: 0.10960994289127979, 2655: 0.14850379359463714, 2674: 0.06820174224346298, 2678: 0.1497111415100407, 2679: 0.10403655596460454, 2685: 0.05580142547192425, 2693: 0.054804971445639894, 2694: 0.061381568019116685, 2718: 0.06820174224346298, 2724: 0.07307329526085318, 2743: 0.07307329526085318, 2747: 0.06671909567295291, 2751: 0.052915144844066106, 2769: 0.06393913335324654, 2815: 0.05902073847991989, 2912: 0.052915144844066106, 2913: 0.07672696002389585, 2951: 0.06975178183990532, 2963: 0.1805340235856373, 2970: 0.044479397115301945, 2978: 0.051151306682597236, 2995: 0.0269217403592617, 3013: 0.0626342530807313, 3017: 0.026457572422033053, 3018: 0.03196956667662327, 3044: 0.05902073847991989, 3046: 0.05902073847991989, 3109: 0.061381568019116685, 3122: 0.037427785377510174, 3133: 0.09590870002986981, 3157: 0.07307329526085318, 3161: 0.042042169876107316, 3198: 0.054804971445639894, 3254: 0.046501187893270214, 3264: 0.06975178183990532, 3276: 0.04580714031277364, 3300: 0.043843977156511914, 3308: 0.052915144844066106, 3313: 0.021021084938053658, 3342: 0.033359547836476454, 3396: 0.0538434807185234, 3427: 0.061381568019116685, 3443: 0.049501264531545706, 3445: 0.061381568019116685, 3450: 0.17050435560865743, 3461: 0.05683478520288581, 3487: 0.0601780078618791, 3521: 0.04795435001493491, 3526: 0.04871553017390212, 3531: 0.051151306682597236, 3552: 0.04795435001493491, 3574: 0.07137391630129847, 3577: 0.049501264531545706, 3586: 0.22733914081154324, 3588: 0.09590870002986981, 3592: 0.054804971445639894, 3601: 0.10230261336519447, 3627: 0.07137391630129847, 3640: 0.04092104534607779, 3662: 0.03653664763042659, 3665: 0.03653664763042659, 3687: 0.04580714031277364, 3697: 0.044479397115301945, 3710: 0.010421318848746466, 3754: 0.04871553017390212, 3755: 0.026687638269181167, 3770: 0.051151306682597236, 3812: 0.061381568019116685, 3836: 0.07307329526085318, 3837: 0.07137391630129847, 3886: 0.0538434807185234, 3901: 0.10960994289127979, 3947: 0.04262608890216436, 3981: 0.054804971445639894, 3998: 0.0807652210777851, 4009: 0.07672696002389585, 4021: 0.05201827798230227, 4097: 0.09026701179281865, 4101: 0.06671909567295291, 4122: 0.10230261336519447, 4142: 0.043226456351490625, 4146: 0.05902073847991989, 4154: 0.19181740005973963, 4235: 0.051151306682597236, 4249: 0.08294806489069823, 4269: 0.013172010304531476, 4270: 0.09300237578654043, 4272: 0.044479397115301945, 4273: 0.044479397115301945, 4310: 0.04147403244534911, 4318: 0.032306088431114044, 4328: 0.052915144844066106, 4372: 0.049501264531545706, 4432: 0.12787826670649308, 4443: 0.0601780078618791, 4444: 0.10960994289127979, 4445: 0.10960994289127979, 4455: 0.051151306682597236, 4462: 0.04871553017390212, 4534: 0.04580714031277364, 4568: 0.054804971445639894, 4570: 0.1615304421555702, 4581: 0.010264476257377371, 4672: 0.0652995404458688, 4698: 0.05683478520288581, 4699: 0.10583028968813221, 4733: 0.004678473172188772, 4737: 0.07307329526085318, 4746: 0.07485557075502035, 4747: 0.07485557075502035, 4828: 0.12442209733604734, 4868: 0.045133505896409326, 4896: 0.07672696002389585, 4902: 0.0601780078618791, 4941: 0.0652995404458688, 4961: 0.050312760671407115, 4962: 0.051151306682597236, 4981: 0.04580714031277364, 4991: 0.043226456351490625, 5008: 0.1076869614370468, 5042: 0.04871553017390212, 5053: 0.06671909567295291, 5096: 0.07307329526085318, 5119: 0.06671909567295291, 5169: 0.08768795431302383, 5170: 0.05201827798230227, 5180: 0.07672696002389585, 5294: 0.09743106034780424, 5304: 0.06975178183990532, 5320: 0.0538434807185234, 5350: 0.10230261336519447, 5372: 0.046501187893270214, 5381: 0.07485557075502035, 5388: 0.01169172724173651, 5389: 0.05902073847991989, 5416: 0.052915144844066106, 5430: 0.0807652210777851, 5475: 0.12787826670649308, 5487: 0.12787826670649308, 5489: 0.061381568019116685, 5554: 0.027159985849166672, 5595: 0.04871553017390212, 5605: 0.04871553017390212, 5620: 0.05902073847991989, 5621: 0.05201827798230227, 5645: 0.1374214209383209, 5668: 0.04721659078393591, 5671: 0.0538434807185234, 5674: 0.050312760671407115, 5710: 0.07869431797322651, 5714: 0.050312760671407115, 5715: 0.11804147695983978, 5735: 0.09026701179281865, 5757: 0.016679773918238227, 5773: 0.054804971445639894, 5783: 0.09161428062554729, 5801: 0.05580142547192425, 5803: 0.046501187893270214, 5806: 0.0652995404458688, 5834: 0.13343819134590582, 5839: 0.061381568019116685, 5843: 0.061381568019116685}\n",
      "1: {1358: 0.17009569543631042}\n",
      "2: {3833: 0.17232786719067636, 4355: 0.10093489364025329, 4356: 0.13084152879292094, 4357: 0.13084152879292094, 5350: 0.23551475182725767}\n",
      "3: {611: 0.15490857977235414}\n",
      "4: {173: 0.11479194209975337, 3342: 0.08235074107156219, 4015: 0.1803873375853267}\n",
      "}\n"
     ]
    }
   ],
   "source": [
    "# Show new_inverted_index_as_dict structure\n",
    "print(\"{\")\n",
    "count = 0\n",
    "for key, value in new_inverted_index_as_dict.items():\n",
    "    if count < 5:\n",
    "        print(f'{key}: {value}')\n",
    "        count += 1\n",
    "    else:\n",
    "        break\n",
    "print(\"}\")"
   ]
  },
  {
   "cell_type": "markdown",
   "metadata": {
    "collapsed": false
   },
   "source": [
    "## 2.2.2) Execute the query\n",
    "\n",
    "We define our second search engine below"
   ]
  },
  {
   "cell_type": "code",
   "execution_count": 26,
   "metadata": {
    "ExecuteTime": {
     "end_time": "2023-11-24T15:45:09.584794Z",
     "start_time": "2023-11-24T15:45:09.550292Z"
    },
    "collapsed": false
   },
   "outputs": [],
   "source": [
    "# This function computes from scratch cosine similarity\n",
    "def cosine_similarity(vec1, vec2):\n",
    "\n",
    "    dot_product = np.dot(vec1, vec2)\n",
    "    norm_vec1 = np.linalg.norm(vec1)\n",
    "    norm_vec2 = np.linalg.norm(vec2)\n",
    "\n",
    "    # Handle division by zero\n",
    "    if norm_vec1 == 0 or norm_vec2 == 0:\n",
    "        return 0\n",
    "\n",
    "    similarity = dot_product / (norm_vec1 * norm_vec2)\n",
    "    return similarity\n",
    "\n",
    "def  top_k_search_engine(query, k):\n",
    "\n",
    "    # Apply same preprocessing done for descriptions and split wrt \",\"\n",
    "    query = preprocess_description(query).split(\",\")\n",
    "\n",
    "    # Get query terms ids\n",
    "    query_terms_ids = [terms_id_dict[term] for term in set(query)]\n",
    "\n",
    "    # Calculate for each term in query its tfidf score\n",
    "    query_terms_idf = np.array([np.log(len(data[\"clean_description\"]) / len(inverted_index[term_id])) for term_id in query_terms_ids])\n",
    "    query_terms_tf =  np.array([query.count(term) / len(query) for term in set(query)])\n",
    "    query_terms_tfidf = query_terms_idf * query_terms_tf\n",
    "\n",
    "    # Create the tfidf representation of the query\n",
    "    query_tfidf = np.zeros(len(terms_set))\n",
    "    query_tfidf[query_terms_ids] = query_terms_tfidf\n",
    "\n",
    "    # Get the indexes of docs that contain all terms in query using the first inverted index dict\n",
    "    docs_ids = [set(inverted_index[term_id]) for term_id in query_terms_ids]\n",
    "    appropriate_docs_ids = list(set.intersection(*docs_ids))\n",
    "\n",
    "    # docs_tfidf will contain for each doc its tfidf vectorial representation.\n",
    "    docs_tfidf = {i : [] for i in appropriate_docs_ids}\n",
    "\n",
    "    # Iterate over docs containing all the words in query\n",
    "    for doc_id in appropriate_docs_ids:\n",
    "\n",
    "        # Initialize tdidf vectorial representation of doc\n",
    "        doc_tfidf = np.zeros(len(terms_set))\n",
    "\n",
    "        # Get doc as a list of preprocessed words\n",
    "        doc = data[\"clean_description\"].iloc[doc_id].split(\",\")\n",
    "\n",
    "        # For each term\n",
    "        for term in set(doc):\n",
    "            # Get term_id\n",
    "            term_id = terms_id_dict[term]\n",
    "\n",
    "            # Store tfidf(term_id, doc_id) in doc vectorial representation\n",
    "            doc_tfidf[term_id] = new_inverted_index_as_dict[term_id][doc_id]\n",
    "\n",
    "        # Store doc vectorial representation\n",
    "        docs_tfidf[doc_id] = doc_tfidf\n",
    "\n",
    "\n",
    "    # Compute cosine similarities between query_tfidf and each doc_tfidf\n",
    "    cos_sims = [cosine_similarity(query_tfidf, docs_tfidf[key]) for key in appropriate_docs_ids]\n",
    "\n",
    "\n",
    "    # Select all appropriate_docs_ids from data and specified columns\n",
    "    result  = data.iloc[appropriate_docs_ids, [0,1,4,12]]\n",
    "\n",
    "    # Add the cosine similarity score and sort the dataframe\n",
    "    result[\"cos_sim\"] = cos_sims\n",
    "    result = result.sort_values(by='cos_sim', ascending=False)\n",
    "\n",
    "    # Get, if possible, just the top k\n",
    "    if k < result.shape[0]:\n",
    "        result = result[:k]\n",
    "\n",
    "    return result"
   ]
  },
  {
   "cell_type": "code",
   "execution_count": 27,
   "metadata": {
    "ExecuteTime": {
     "end_time": "2023-11-24T15:45:16.617308Z",
     "start_time": "2023-11-24T15:45:16.276888Z"
    },
    "collapsed": false
   },
   "outputs": [
    {
     "data": {
      "text/html": [
       "<div>\n",
       "<style scoped>\n",
       "    .dataframe tbody tr th:only-of-type {\n",
       "        vertical-align: middle;\n",
       "    }\n",
       "\n",
       "    .dataframe tbody tr th {\n",
       "        vertical-align: top;\n",
       "    }\n",
       "\n",
       "    .dataframe thead th {\n",
       "        text-align: right;\n",
       "    }\n",
       "</style>\n",
       "<table border=\"1\" class=\"dataframe\">\n",
       "  <thead>\n",
       "    <tr style=\"text-align: right;\">\n",
       "      <th></th>\n",
       "      <th>courseName</th>\n",
       "      <th>universityName</th>\n",
       "      <th>description</th>\n",
       "      <th>url</th>\n",
       "      <th>cos_sim</th>\n",
       "    </tr>\n",
       "  </thead>\n",
       "  <tbody>\n",
       "    <tr>\n",
       "      <th>756</th>\n",
       "      <td>Advanced Computing MSc</td>\n",
       "      <td>King’s College London</td>\n",
       "      <td>Our Advanced Computing MSc provides knowledge ...</td>\n",
       "      <td>https://www.findamasters.com/masters-degrees/c...</td>\n",
       "      <td>0.361235</td>\n",
       "    </tr>\n",
       "    <tr>\n",
       "      <th>701</th>\n",
       "      <td>Advanced Clinical Practice MSc</td>\n",
       "      <td>University of Greenwich</td>\n",
       "      <td>Learn essential strategies and prepare for lea...</td>\n",
       "      <td>https://www.findamasters.com/masters-degrees/c...</td>\n",
       "      <td>0.333983</td>\n",
       "    </tr>\n",
       "    <tr>\n",
       "      <th>931</th>\n",
       "      <td>Advancing Practice - MSc</td>\n",
       "      <td>University of Northampton</td>\n",
       "      <td>Our MSc Advancing Practice awards support the ...</td>\n",
       "      <td>https://www.findamasters.com/masters-degrees/c...</td>\n",
       "      <td>0.325750</td>\n",
       "    </tr>\n",
       "    <tr>\n",
       "      <th>654</th>\n",
       "      <td>Advanced Clinical Practice - MSc</td>\n",
       "      <td>Canterbury Christ Church University</td>\n",
       "      <td>Gain the knowledge and skills needed to become...</td>\n",
       "      <td>https://www.findamasters.com/masters-degrees/c...</td>\n",
       "      <td>0.283256</td>\n",
       "    </tr>\n",
       "    <tr>\n",
       "      <th>830</th>\n",
       "      <td>Advanced Mechanical Engineering - MSc (Eng)</td>\n",
       "      <td>University of Leeds</td>\n",
       "      <td>This course offers a broad range of advanced s...</td>\n",
       "      <td>https://www.findamasters.com/masters-degrees/c...</td>\n",
       "      <td>0.279986</td>\n",
       "    </tr>\n",
       "    <tr>\n",
       "      <th>897</th>\n",
       "      <td>Advanced Professional Practice (MSc)</td>\n",
       "      <td>University of Gloucestershire</td>\n",
       "      <td>Our lecturers are research active experts who ...</td>\n",
       "      <td>https://www.findamasters.com/masters-degrees/c...</td>\n",
       "      <td>0.270317</td>\n",
       "    </tr>\n",
       "    <tr>\n",
       "      <th>653</th>\n",
       "      <td>Advanced Clinical Practice - MSc</td>\n",
       "      <td>University of Northampton</td>\n",
       "      <td>Our MSc Advanced Clinical Practice course aims...</td>\n",
       "      <td>https://www.findamasters.com/masters-degrees/c...</td>\n",
       "      <td>0.270123</td>\n",
       "    </tr>\n",
       "    <tr>\n",
       "      <th>786</th>\n",
       "      <td>Advanced Healthcare Practice - MSc</td>\n",
       "      <td>Cardiff University</td>\n",
       "      <td>Why study this courseOur MSc Advanced Healthca...</td>\n",
       "      <td>https://www.findamasters.com/masters-degrees/c...</td>\n",
       "      <td>0.267574</td>\n",
       "    </tr>\n",
       "    <tr>\n",
       "      <th>712</th>\n",
       "      <td>Advanced Clinical Practitioner - MSc</td>\n",
       "      <td>University of Sunderland</td>\n",
       "      <td>The MSc Advanced Clinical Practitioner is a hi...</td>\n",
       "      <td>https://www.findamasters.com/masters-degrees/c...</td>\n",
       "      <td>0.251893</td>\n",
       "    </tr>\n",
       "    <tr>\n",
       "      <th>892</th>\n",
       "      <td>Advanced Practice in Healthcare MSc</td>\n",
       "      <td>University of Liverpool</td>\n",
       "      <td>Explore specialist areas of practice in-depth ...</td>\n",
       "      <td>https://www.findamasters.com/masters-degrees/c...</td>\n",
       "      <td>0.250338</td>\n",
       "    </tr>\n",
       "  </tbody>\n",
       "</table>\n",
       "</div>"
      ],
      "text/plain": [
       "                                      courseName  \\\n",
       "756                       Advanced Computing MSc   \n",
       "701               Advanced Clinical Practice MSc   \n",
       "931                     Advancing Practice - MSc   \n",
       "654             Advanced Clinical Practice - MSc   \n",
       "830  Advanced Mechanical Engineering - MSc (Eng)   \n",
       "897         Advanced Professional Practice (MSc)   \n",
       "653             Advanced Clinical Practice - MSc   \n",
       "786           Advanced Healthcare Practice - MSc   \n",
       "712         Advanced Clinical Practitioner - MSc   \n",
       "892          Advanced Practice in Healthcare MSc   \n",
       "\n",
       "                          universityName  \\\n",
       "756                King’s College London   \n",
       "701              University of Greenwich   \n",
       "931            University of Northampton   \n",
       "654  Canterbury Christ Church University   \n",
       "830                  University of Leeds   \n",
       "897        University of Gloucestershire   \n",
       "653            University of Northampton   \n",
       "786                   Cardiff University   \n",
       "712             University of Sunderland   \n",
       "892              University of Liverpool   \n",
       "\n",
       "                                           description  \\\n",
       "756  Our Advanced Computing MSc provides knowledge ...   \n",
       "701  Learn essential strategies and prepare for lea...   \n",
       "931  Our MSc Advancing Practice awards support the ...   \n",
       "654  Gain the knowledge and skills needed to become...   \n",
       "830  This course offers a broad range of advanced s...   \n",
       "897  Our lecturers are research active experts who ...   \n",
       "653  Our MSc Advanced Clinical Practice course aims...   \n",
       "786  Why study this courseOur MSc Advanced Healthca...   \n",
       "712  The MSc Advanced Clinical Practitioner is a hi...   \n",
       "892  Explore specialist areas of practice in-depth ...   \n",
       "\n",
       "                                                   url   cos_sim  \n",
       "756  https://www.findamasters.com/masters-degrees/c...  0.361235  \n",
       "701  https://www.findamasters.com/masters-degrees/c...  0.333983  \n",
       "931  https://www.findamasters.com/masters-degrees/c...  0.325750  \n",
       "654  https://www.findamasters.com/masters-degrees/c...  0.283256  \n",
       "830  https://www.findamasters.com/masters-degrees/c...  0.279986  \n",
       "897  https://www.findamasters.com/masters-degrees/c...  0.270317  \n",
       "653  https://www.findamasters.com/masters-degrees/c...  0.270123  \n",
       "786  https://www.findamasters.com/masters-degrees/c...  0.267574  \n",
       "712  https://www.findamasters.com/masters-degrees/c...  0.251893  \n",
       "892  https://www.findamasters.com/masters-degrees/c...  0.250338  "
      ]
     },
     "execution_count": 27,
     "metadata": {},
     "output_type": "execute_result"
    }
   ],
   "source": [
    "top_k_search_engine(\"advanced knowledge\", k = 10)"
   ]
  },
  {
   "cell_type": "markdown",
   "metadata": {
    "collapsed": false
   },
   "source": [
    "## 3. Define a new score!\n",
    "Now it's your turn: build a new metric to rank MSc degrees.\n",
    "\n",
    "Practically:\n",
    "\n",
    "The user will enter a text query. As a starting point, get the query-related documents by exploiting the search engine of Step 2.1.\n",
    "Once you have the documents, you need to sort them according to your new score. In this step, you won't have any more to take into account just the description field of the documents; you can use also the remaining variables in your dataset (or new possible variables that you can create from the existing ones or scrape again from the original web-pages). You must use a heap data structure (you can use Python libraries) for maintaining the top-k documents.\n",
    "N.B.: You have to define a scoring function, not a filter!\n",
    "\n",
    "The output, must contain:\n",
    "\n",
    "courseName\n",
    "universityName\n",
    "description\n",
    "URL\n",
    "The new similarity score of the documents with respect to the query\n",
    "Are the results you obtain better than with the previous scoring function? Explain and compare results."
   ]
  },
  {
   "cell_type": "markdown",
   "metadata": {
    "collapsed": false
   },
   "source": [
    "### Answer\n",
    "\n",
    "To develop our customized search engine, we opted to gather supplementary information for each university.\n",
    "Recognizing that the selection of the \"ideal\" university is influenced by the city in which one resides, we chose to extract scores reflecting the quality of life in each city.\n",
    "\n",
    "The following function used the [Teleport](https://teleport.org/) API to retrieve, for each city in our Data, three scores:\n",
    "- Education score;\n",
    "- Safety score;\n",
    "- Cost of living score.\n",
    "\n",
    "All of them are normalized in $[0,10]$.\n",
    "When a city was not integrated into the teleport API, our solution was to obtain the scores associated with the capital of the country in which the city is located. In order to do so we will use the country field of our data in union with the \"country_capital_dict\", which maps each country to its capital."
   ]
  },
  {
   "cell_type": "code",
   "execution_count": 28,
   "metadata": {
    "ExecuteTime": {
     "end_time": "2023-11-24T16:18:03.134968Z",
     "start_time": "2023-11-24T16:18:03.111199Z"
    },
    "collapsed": false
   },
   "outputs": [],
   "source": [
    "# Load country_capital_dict\n",
    "with open(\"country_capital_dict.json\", 'r') as json_file:\n",
    "    country_capital_dict = json.load(json_file)\n",
    "\n",
    "# This function returns life quality scores for each city\n",
    "def get_scores_out_of_ten(city):\n",
    "    # Handle different data types\n",
    "    city = str(city)\n",
    "\n",
    "    try:\n",
    "        # Try to get URL of the initial city\n",
    "        base_url = f\"https://api.teleport.org/api/urban_areas/slug:{city.lower()}/scores/\"\n",
    "        response = requests.get(base_url)\n",
    "\n",
    "        # If city not found, retrieve URL of capital city\n",
    "        if response.status_code == 404:\n",
    "\n",
    "            # Retrieve the country of the city\n",
    "            country = data[data[\"city\"] == city][\"country\"].iloc[0]\n",
    "\n",
    "            # Retrieve capital city from  the country\n",
    "            capital_city = country_capital_dict[country]\n",
    "\n",
    "            # Try to get URL of the capital city\n",
    "            base_url = f\"https://api.teleport.org/api/urban_areas/slug:{capital_city.lower()}/scores/\"\n",
    "            response = requests.get(base_url)\n",
    "\n",
    "            # If capital city not found, return error\n",
    "            if response.status_code == 404:\n",
    "                return (\"City not found\", \"City not found\", \"City not found\")\n",
    "\n",
    "        # Retrieve scores from URL\n",
    "        datas = response.json()\n",
    "\n",
    "        # Retrieve all categories scores\n",
    "        categories = datas['categories']\n",
    "        scores = {category[\"name\"] : float(category[\"score_out_of_10\"]) for  category in categories}\n",
    "\n",
    "        # Return Cost of Living, Education and Safety\n",
    "        return (scores[\"Cost of Living\"],\n",
    "                scores[\"Education\"],\n",
    "                scores[\"Safety\"])\n",
    "\n",
    "\n",
    "    except requests.exceptions.RequestException as e:\n",
    "        return {'error': f'Request to Teleport API failed: {e}'}"
   ]
  },
  {
   "cell_type": "code",
   "execution_count": 29,
   "metadata": {
    "ExecuteTime": {
     "end_time": "2023-11-24T15:59:06.529557Z",
     "start_time": "2023-11-24T15:45:47.011287Z"
    },
    "collapsed": false
   },
   "outputs": [],
   "source": [
    "# Create three new columns for our new scores (around 10m to run)\n",
    "data[['Cost_of_Living', 'Education', 'Safety']] = data.city.apply(lambda x: pd.Series(get_scores_out_of_ten(x)))"
   ]
  },
  {
   "cell_type": "code",
   "execution_count": 30,
   "metadata": {
    "ExecuteTime": {
     "end_time": "2023-11-24T16:11:15.133181Z",
     "start_time": "2023-11-24T16:11:15.083756Z"
    },
    "collapsed": false
   },
   "outputs": [
    {
     "data": {
      "text/html": [
       "<div>\n",
       "<style scoped>\n",
       "    .dataframe tbody tr th:only-of-type {\n",
       "        vertical-align: middle;\n",
       "    }\n",
       "\n",
       "    .dataframe tbody tr th {\n",
       "        vertical-align: top;\n",
       "    }\n",
       "\n",
       "    .dataframe thead th {\n",
       "        text-align: right;\n",
       "    }\n",
       "</style>\n",
       "<table border=\"1\" class=\"dataframe\">\n",
       "  <thead>\n",
       "    <tr style=\"text-align: right;\">\n",
       "      <th></th>\n",
       "      <th>city</th>\n",
       "      <th>Cost_of_Living</th>\n",
       "      <th>Education</th>\n",
       "      <th>Safety</th>\n",
       "    </tr>\n",
       "  </thead>\n",
       "  <tbody>\n",
       "    <tr>\n",
       "      <th>0</th>\n",
       "      <td>Glasgow</td>\n",
       "      <td>5.623</td>\n",
       "      <td>5.3065</td>\n",
       "      <td>7.4960</td>\n",
       "    </tr>\n",
       "    <tr>\n",
       "      <th>1</th>\n",
       "      <td>Leeds</td>\n",
       "      <td>5.363</td>\n",
       "      <td>4.9825</td>\n",
       "      <td>7.7310</td>\n",
       "    </tr>\n",
       "    <tr>\n",
       "      <th>2</th>\n",
       "      <td>London</td>\n",
       "      <td>3.940</td>\n",
       "      <td>9.0270</td>\n",
       "      <td>7.2435</td>\n",
       "    </tr>\n",
       "    <tr>\n",
       "      <th>3</th>\n",
       "      <td>Reading</td>\n",
       "      <td>3.940</td>\n",
       "      <td>9.0270</td>\n",
       "      <td>7.2435</td>\n",
       "    </tr>\n",
       "    <tr>\n",
       "      <th>4</th>\n",
       "      <td>London</td>\n",
       "      <td>3.940</td>\n",
       "      <td>9.0270</td>\n",
       "      <td>7.2435</td>\n",
       "    </tr>\n",
       "    <tr>\n",
       "      <th>5</th>\n",
       "      <td>Leeds</td>\n",
       "      <td>5.363</td>\n",
       "      <td>4.9825</td>\n",
       "      <td>7.7310</td>\n",
       "    </tr>\n",
       "    <tr>\n",
       "      <th>6</th>\n",
       "      <td>Brussels</td>\n",
       "      <td>4.477</td>\n",
       "      <td>6.6530</td>\n",
       "      <td>6.7030</td>\n",
       "    </tr>\n",
       "    <tr>\n",
       "      <th>7</th>\n",
       "      <td>Brussels</td>\n",
       "      <td>4.477</td>\n",
       "      <td>6.6530</td>\n",
       "      <td>6.7030</td>\n",
       "    </tr>\n",
       "    <tr>\n",
       "      <th>8</th>\n",
       "      <td>Glasgow</td>\n",
       "      <td>5.623</td>\n",
       "      <td>5.3065</td>\n",
       "      <td>7.4960</td>\n",
       "    </tr>\n",
       "    <tr>\n",
       "      <th>9</th>\n",
       "      <td>Helsinki</td>\n",
       "      <td>4.121</td>\n",
       "      <td>5.4545</td>\n",
       "      <td>8.6740</td>\n",
       "    </tr>\n",
       "  </tbody>\n",
       "</table>\n",
       "</div>"
      ],
      "text/plain": [
       "       city  Cost_of_Living  Education  Safety\n",
       "0   Glasgow           5.623     5.3065  7.4960\n",
       "1     Leeds           5.363     4.9825  7.7310\n",
       "2    London           3.940     9.0270  7.2435\n",
       "3   Reading           3.940     9.0270  7.2435\n",
       "4    London           3.940     9.0270  7.2435\n",
       "5     Leeds           5.363     4.9825  7.7310\n",
       "6  Brussels           4.477     6.6530  6.7030\n",
       "7  Brussels           4.477     6.6530  6.7030\n",
       "8   Glasgow           5.623     5.3065  7.4960\n",
       "9  Helsinki           4.121     5.4545  8.6740"
      ]
     },
     "execution_count": 30,
     "metadata": {},
     "output_type": "execute_result"
    }
   ],
   "source": [
    "# Show the new columns\n",
    "data[['city','Cost_of_Living', 'Education', 'Safety']].head(10)"
   ]
  },
  {
   "cell_type": "markdown",
   "metadata": {
    "collapsed": false
   },
   "source": [
    "Those scores will affect the importance our custom search engine gives to each university.\n",
    "As an initial and naive approach we decided to keep thinks linear and just compute the new score as shown below:\n",
    "\n",
    "\\begin{equation}\n",
    "NewScore = \\frac{CosSimilarity \\cdot Education \\cdot Safety }{LivingCost}\n",
    "\\end{equation}\n",
    "\n",
    "\n",
    "The following function follows the one already shown previously but orders the result with respect to the new score we just defined."
   ]
  },
  {
   "cell_type": "code",
   "execution_count": 207,
   "metadata": {},
   "outputs": [],
   "source": [
    "data = pd.read_table(\"new_dataset.tsv\")"
   ]
  },
  {
   "cell_type": "code",
   "execution_count": 208,
   "metadata": {},
   "outputs": [],
   "source": [
    "def  custom_search_engine(query, k):\n",
    "\n",
    "    # Apply same preprocessing done for descriptions and split wrt \",\"\n",
    "    query = preprocess_description(query).split(\",\")\n",
    "\n",
    "    # Get query terms ids\n",
    "    query_terms_ids = [terms_id_dict[term] for term in set(query)]\n",
    "\n",
    "    # Calculate for each term in query its tfidf score\n",
    "    query_terms_idf = np.array([np.log(len(data[\"clean_description\"]) / len(inverted_index[term_id])) for term_id in query_terms_ids])\n",
    "    query_terms_tf =  np.array([query.count(term) / len(query) for term in set(query)])\n",
    "    query_terms_tfidf = query_terms_idf * query_terms_tf\n",
    "\n",
    "    # Create the tfidf representation of the query\n",
    "    query_tfidf = np.zeros(len(terms_set))\n",
    "    query_tfidf[query_terms_ids] = query_terms_tfidf\n",
    "\n",
    "    # Get the indexes of docs that contain all terms in query using the first inverted index dict\n",
    "    docs_ids = [set(inverted_index[term_id]) for term_id in query_terms_ids]\n",
    "    appropriate_docs_ids = list(set.intersection(*docs_ids))\n",
    "\n",
    "    # docs_tfidf will contain for each doc its tfidf vectorial representation.\n",
    "    docs_tfidf = {i : [] for i in appropriate_docs_ids}\n",
    "\n",
    "    # Iterate over docs containing all the words in query\n",
    "    for doc_id in appropriate_docs_ids:\n",
    "\n",
    "        # Initialize tdidf vectorial representation of doc\n",
    "        doc_tfidf = np.zeros(len(terms_set))\n",
    "\n",
    "        # Get doc as a list of preprocessed words\n",
    "        doc = data[\"clean_description\"].iloc[doc_id].split(\",\")\n",
    "\n",
    "        # For each term\n",
    "        for term in set(doc):\n",
    "            # Get term_id\n",
    "            term_id = terms_id_dict[term]\n",
    "\n",
    "            # Store tfidf(term_id, doc_id) in doc vectorial representation\n",
    "            doc_tfidf[term_id] = new_inverted_index_as_dict[term_id][doc_id]\n",
    "\n",
    "        # Store doc vectorial representation\n",
    "        docs_tfidf[doc_id] = doc_tfidf\n",
    "\n",
    "\n",
    "    # Compute cosine similarities between query_tfidf and each doc_tfidf\n",
    "    cos_sims = [cosine_similarity(query_tfidf, docs_tfidf[key]) for key in appropriate_docs_ids]\n",
    "\n",
    "\n",
    "    # Select all appropriate_docs_ids from data and specified columns\n",
    "    result  = data.iloc[appropriate_docs_ids, [0,1,4,12, -3, -2, -1]]\n",
    "\n",
    "    # Add the cosine similarity score\n",
    "    result[\"Cos_sim\"] = cos_sims\n",
    "\n",
    "    # Compute our custom score\n",
    "    our_score = result[\"Cos_sim\"] * result[\"Education\"] * result[\"Safety\"] / result[\"Cost_of_Living\"]\n",
    "\n",
    "    # Add the cosine similarity score \n",
    "    result[\"Score\"] = our_score\n",
    "\n",
    "    # Convert the DataFrame to a dictionary\n",
    "    diz = result.to_dict()\n",
    "\n",
    "    # Mantaining the top k-university into an heap\n",
    "    l_heap = []\n",
    "    # Iterate over the keys (indices) and values (scores) \n",
    "    for i,j in zip(diz[\"courseName\"].keys(),diz[\"Score\"].values()):\n",
    "        l_1=[]\n",
    "        l_1.append(j) # Append the score\n",
    "        l_1.append(i) # Append the index (university ID)\n",
    "        heapq.heappush(l_heap,l_1) # Push the pair (score, index) onto the heap\n",
    "\n",
    "    doc=[] # List to store the indices of the top K univerisities\n",
    "    score=[] # List to store the corresponding scores of the top K universities\n",
    "\n",
    "    # Retrieve the top K elements from the heap\n",
    "    for i in heapq.nlargest(k,l_heap):\n",
    "        doc.append(i[1])\n",
    "        score.append(i[0])\n",
    "\n",
    "    # Select rows from the result datafram corresponding to the top K universities\n",
    "    df_heap = result.loc[doc]\n",
    "\n",
    "    # Return the DataFrame containing information about the top K universities\n",
    "    return df_heap"
   ]
  },
  {
   "cell_type": "code",
   "execution_count": 209,
   "metadata": {},
   "outputs": [
    {
     "data": {
      "text/html": [
       "<div>\n",
       "<style scoped>\n",
       "    .dataframe tbody tr th:only-of-type {\n",
       "        vertical-align: middle;\n",
       "    }\n",
       "\n",
       "    .dataframe tbody tr th {\n",
       "        vertical-align: top;\n",
       "    }\n",
       "\n",
       "    .dataframe thead th {\n",
       "        text-align: right;\n",
       "    }\n",
       "</style>\n",
       "<table border=\"1\" class=\"dataframe\">\n",
       "  <thead>\n",
       "    <tr style=\"text-align: right;\">\n",
       "      <th></th>\n",
       "      <th>courseName</th>\n",
       "      <th>universityName</th>\n",
       "      <th>description</th>\n",
       "      <th>url</th>\n",
       "      <th>Cost_of_Living</th>\n",
       "      <th>Education</th>\n",
       "      <th>Safety</th>\n",
       "      <th>Cos_sim</th>\n",
       "      <th>Score</th>\n",
       "    </tr>\n",
       "  </thead>\n",
       "  <tbody>\n",
       "    <tr>\n",
       "      <th>5820</th>\n",
       "      <td>Masters in Hospitality Management</td>\n",
       "      <td>Ecole hotelière de Lausanne</td>\n",
       "      <td>With our Master in Hospitality Management, you...</td>\n",
       "      <td>https://www.findamasters.com/masters-degrees/c...</td>\n",
       "      <td>1.00</td>\n",
       "      <td>6.622</td>\n",
       "      <td>8.0325</td>\n",
       "      <td>0.113095</td>\n",
       "      <td>6.015666</td>\n",
       "    </tr>\n",
       "    <tr>\n",
       "      <th>738</th>\n",
       "      <td>Advanced Computing MSc</td>\n",
       "      <td>King’s College London</td>\n",
       "      <td>Our Advanced Computing MSc provides knowledge ...</td>\n",
       "      <td>https://www.findamasters.com/masters-degrees/c...</td>\n",
       "      <td>3.94</td>\n",
       "      <td>9.027</td>\n",
       "      <td>7.2435</td>\n",
       "      <td>0.361235</td>\n",
       "      <td>5.994941</td>\n",
       "    </tr>\n",
       "    <tr>\n",
       "      <th>685</th>\n",
       "      <td>Advanced Clinical Practice MSc</td>\n",
       "      <td>University of Greenwich</td>\n",
       "      <td>Learn essential strategies and prepare for lea...</td>\n",
       "      <td>https://www.findamasters.com/masters-degrees/c...</td>\n",
       "      <td>3.94</td>\n",
       "      <td>9.027</td>\n",
       "      <td>7.2435</td>\n",
       "      <td>0.333983</td>\n",
       "      <td>5.542688</td>\n",
       "    </tr>\n",
       "    <tr>\n",
       "      <th>906</th>\n",
       "      <td>Advancing Practice - MSc</td>\n",
       "      <td>University of Northampton</td>\n",
       "      <td>Our MSc Advancing Practice awards support the ...</td>\n",
       "      <td>https://www.findamasters.com/masters-degrees/c...</td>\n",
       "      <td>3.94</td>\n",
       "      <td>9.027</td>\n",
       "      <td>7.2435</td>\n",
       "      <td>0.325750</td>\n",
       "      <td>5.406058</td>\n",
       "    </tr>\n",
       "    <tr>\n",
       "      <th>639</th>\n",
       "      <td>Advanced Clinical Practice - MSc</td>\n",
       "      <td>Canterbury Christ Church University</td>\n",
       "      <td>Gain the knowledge and skills needed to become...</td>\n",
       "      <td>https://www.findamasters.com/masters-degrees/c...</td>\n",
       "      <td>3.94</td>\n",
       "      <td>9.027</td>\n",
       "      <td>7.2435</td>\n",
       "      <td>0.283256</td>\n",
       "      <td>4.700829</td>\n",
       "    </tr>\n",
       "    <tr>\n",
       "      <th>875</th>\n",
       "      <td>Advanced Professional Practice (MSc)</td>\n",
       "      <td>University of Gloucestershire</td>\n",
       "      <td>Our lecturers are research active experts who ...</td>\n",
       "      <td>https://www.findamasters.com/masters-degrees/c...</td>\n",
       "      <td>3.94</td>\n",
       "      <td>9.027</td>\n",
       "      <td>7.2435</td>\n",
       "      <td>0.270317</td>\n",
       "      <td>4.486097</td>\n",
       "    </tr>\n",
       "    <tr>\n",
       "      <th>638</th>\n",
       "      <td>Advanced Clinical Practice - MSc</td>\n",
       "      <td>University of Northampton</td>\n",
       "      <td>Our MSc Advanced Clinical Practice course aims...</td>\n",
       "      <td>https://www.findamasters.com/masters-degrees/c...</td>\n",
       "      <td>3.94</td>\n",
       "      <td>9.027</td>\n",
       "      <td>7.2435</td>\n",
       "      <td>0.270123</td>\n",
       "      <td>4.482883</td>\n",
       "    </tr>\n",
       "    <tr>\n",
       "      <th>696</th>\n",
       "      <td>Advanced Clinical Practitioner - MSc</td>\n",
       "      <td>University of Sunderland</td>\n",
       "      <td>The MSc Advanced Clinical Practitioner is a hi...</td>\n",
       "      <td>https://www.findamasters.com/masters-degrees/c...</td>\n",
       "      <td>3.94</td>\n",
       "      <td>9.027</td>\n",
       "      <td>7.2435</td>\n",
       "      <td>0.251893</td>\n",
       "      <td>4.180335</td>\n",
       "    </tr>\n",
       "    <tr>\n",
       "      <th>607</th>\n",
       "      <td>Advanced Biomedical Engineering - MSc</td>\n",
       "      <td>University of Bradford</td>\n",
       "      <td>Biomedical engineering is a fast evolving inte...</td>\n",
       "      <td>https://www.findamasters.com/masters-degrees/c...</td>\n",
       "      <td>3.94</td>\n",
       "      <td>9.027</td>\n",
       "      <td>7.2435</td>\n",
       "      <td>0.243003</td>\n",
       "      <td>4.032800</td>\n",
       "    </tr>\n",
       "    <tr>\n",
       "      <th>655</th>\n",
       "      <td>Advanced Clinical Practice (AHP) - MSc/PGDip/P...</td>\n",
       "      <td>Bangor University</td>\n",
       "      <td>The programme has been developed to enhance pr...</td>\n",
       "      <td>https://www.findamasters.com/masters-degrees/c...</td>\n",
       "      <td>3.94</td>\n",
       "      <td>9.027</td>\n",
       "      <td>7.2435</td>\n",
       "      <td>0.230842</td>\n",
       "      <td>3.830989</td>\n",
       "    </tr>\n",
       "  </tbody>\n",
       "</table>\n",
       "</div>"
      ],
      "text/plain": [
       "                                             courseName  \\\n",
       "5820                  Masters in Hospitality Management   \n",
       "738                              Advanced Computing MSc   \n",
       "685                      Advanced Clinical Practice MSc   \n",
       "906                            Advancing Practice - MSc   \n",
       "639                    Advanced Clinical Practice - MSc   \n",
       "875                Advanced Professional Practice (MSc)   \n",
       "638                    Advanced Clinical Practice - MSc   \n",
       "696                Advanced Clinical Practitioner - MSc   \n",
       "607               Advanced Biomedical Engineering - MSc   \n",
       "655   Advanced Clinical Practice (AHP) - MSc/PGDip/P...   \n",
       "\n",
       "                           universityName  \\\n",
       "5820          Ecole hotelière de Lausanne   \n",
       "738                 King’s College London   \n",
       "685               University of Greenwich   \n",
       "906             University of Northampton   \n",
       "639   Canterbury Christ Church University   \n",
       "875         University of Gloucestershire   \n",
       "638             University of Northampton   \n",
       "696              University of Sunderland   \n",
       "607                University of Bradford   \n",
       "655                     Bangor University   \n",
       "\n",
       "                                            description  \\\n",
       "5820  With our Master in Hospitality Management, you...   \n",
       "738   Our Advanced Computing MSc provides knowledge ...   \n",
       "685   Learn essential strategies and prepare for lea...   \n",
       "906   Our MSc Advancing Practice awards support the ...   \n",
       "639   Gain the knowledge and skills needed to become...   \n",
       "875   Our lecturers are research active experts who ...   \n",
       "638   Our MSc Advanced Clinical Practice course aims...   \n",
       "696   The MSc Advanced Clinical Practitioner is a hi...   \n",
       "607   Biomedical engineering is a fast evolving inte...   \n",
       "655   The programme has been developed to enhance pr...   \n",
       "\n",
       "                                                    url  Cost_of_Living  \\\n",
       "5820  https://www.findamasters.com/masters-degrees/c...            1.00   \n",
       "738   https://www.findamasters.com/masters-degrees/c...            3.94   \n",
       "685   https://www.findamasters.com/masters-degrees/c...            3.94   \n",
       "906   https://www.findamasters.com/masters-degrees/c...            3.94   \n",
       "639   https://www.findamasters.com/masters-degrees/c...            3.94   \n",
       "875   https://www.findamasters.com/masters-degrees/c...            3.94   \n",
       "638   https://www.findamasters.com/masters-degrees/c...            3.94   \n",
       "696   https://www.findamasters.com/masters-degrees/c...            3.94   \n",
       "607   https://www.findamasters.com/masters-degrees/c...            3.94   \n",
       "655   https://www.findamasters.com/masters-degrees/c...            3.94   \n",
       "\n",
       "      Education  Safety   Cos_sim     Score  \n",
       "5820      6.622  8.0325  0.113095  6.015666  \n",
       "738       9.027  7.2435  0.361235  5.994941  \n",
       "685       9.027  7.2435  0.333983  5.542688  \n",
       "906       9.027  7.2435  0.325750  5.406058  \n",
       "639       9.027  7.2435  0.283256  4.700829  \n",
       "875       9.027  7.2435  0.270317  4.486097  \n",
       "638       9.027  7.2435  0.270123  4.482883  \n",
       "696       9.027  7.2435  0.251893  4.180335  \n",
       "607       9.027  7.2435  0.243003  4.032800  \n",
       "655       9.027  7.2435  0.230842  3.830989  "
      ]
     },
     "execution_count": 209,
     "metadata": {},
     "output_type": "execute_result"
    }
   ],
   "source": [
    "custom_search_engine(\"advanced knowledge\", k = 10)"
   ]
  },
  {
   "cell_type": "markdown",
   "metadata": {},
   "source": [
    "## 4. Visualizing the most relevant MSc degrees"
   ]
  },
  {
   "cell_type": "code",
   "execution_count": 210,
   "metadata": {},
   "outputs": [],
   "source": [
    "# Select only the data from the search engine above\n",
    "todisplay = custom_search_engine(\"advanced knowledge\", k = 40)"
   ]
  },
  {
   "cell_type": "code",
   "execution_count": 211,
   "metadata": {},
   "outputs": [],
   "source": [
    "# First we create a variable where we store the cities and their corresponding country\n",
    "our_places = set(zip(data[\"city\"],data[\"country\"]))\n",
    "\n",
    "# Retrieve the coordinates\n",
    "coordinates = []\n",
    "\n",
    "for city, country in our_places:\n",
    "    location = geolocator.geocode(f\"{city}, {country}\")\n",
    "    if location is not None:\n",
    "        coordinates.append((city, country, location.latitude, location.longitude))\n",
    "\n",
    "# Initialize the columns to None\n",
    "data[\"latitude\"] = None\n",
    "data[\"longitude\"] = None\n",
    "\n",
    "# Let's put them into our original dataframe\n",
    "for city, country, latitude, longitude in coordinates:\n",
    "    mask = (data[\"city\"] == city) & (data[\"country\"] == country)\n",
    "    data.loc[mask, \"latitude\"] = latitude\n",
    "    data.loc[mask, \"longitude\"] = longitude\n",
    "\n",
    "# Selecting the right indexes\n",
    "places = data.iloc[list(todisplay.index),:]"
   ]
  },
  {
   "cell_type": "code",
   "execution_count": 222,
   "metadata": {},
   "outputs": [
    {
     "data": {
      "application/vnd.plotly.v1+json": {
       "config": {
        "plotlyServerURL": "https://plot.ly"
       },
       "data": [
        {
         "customdata": [
          [
           null,
           8.032499999999999,
           6.622,
           1,
           "Masters in Hospitality Management",
           "Ecole hotelière de Lausanne",
           "Master Programmes"
          ],
          [
           null,
           7.243500000000001,
           9.027,
           3.94,
           "Advanced Computing MSc",
           "King’s College London",
           "Faculty of Natural and Mathematical Sciences"
          ],
          [
           null,
           7.243500000000001,
           9.027,
           3.94,
           "Advanced Clinical Practice MSc",
           "University of Greenwich",
           "School of Health Sciences"
          ],
          [
           null,
           7.243500000000001,
           9.027,
           3.94,
           "Advancing Practice - MSc",
           "University of Northampton",
           "Faculty of Health, Education and Society"
          ],
          [
           2025,
           7.243500000000001,
           9.027,
           3.94,
           "Advanced Clinical Practice - MSc",
           "Canterbury Christ Church University",
           "Faculty of Medicine, Health and Social Care"
          ],
          [
           null,
           7.243500000000001,
           9.027,
           3.94,
           "Advanced Professional Practice (MSc)",
           "University of Gloucestershire",
           "School of Health & Social Care"
          ],
          [
           null,
           7.243500000000001,
           9.027,
           3.94,
           "Advanced Clinical Practice - MSc",
           "University of Northampton",
           "Faculty of Health, Education and Society"
          ],
          [
           null,
           7.243500000000001,
           9.027,
           3.94,
           "Advanced Clinical Practitioner - MSc",
           "University of Sunderland",
           "Faculty of Health Sciences and Wellbeing"
          ],
          [
           null,
           7.243500000000001,
           9.027,
           3.94,
           "Advanced Biomedical Engineering - MSc",
           "University of Bradford",
           "Faculty of Engineering & Digital Technologies"
          ],
          [
           null,
           7.243500000000001,
           9.027,
           3.94,
           "Advanced Clinical Practice (AHP) - MSc/PGDip/PGCert",
           "Bangor University",
           "College of Human Sciences"
          ],
          [
           null,
           7.243500000000001,
           9.027,
           3.94,
           "Advanced Computing (MSc/MRes)",
           "Birkbeck, University of London",
           "School of Computing and Mathematical Sciences"
          ],
          [
           null,
           7.243500000000001,
           9.027,
           3.94,
           "Advanced Clinical Practitioner MSc",
           "Buckinghamshire New University",
           "Postgraduate Programmes"
          ],
          [
           null,
           7.243500000000001,
           9.027,
           3.94,
           "Advanced Clinical Practice (Primary Care) MSc / PGDip",
           "Swansea University",
           "School of Health and Social Care"
          ],
          [
           null,
           7.243500000000001,
           9.027,
           3.94,
           "Aerospace Engineering MSc",
           "Teesside University",
           "School of Computing, Engineering & Design Technologies"
          ],
          [
           null,
           7.243500000000001,
           9.027,
           3.94,
           "Aerospace Engineering (with Advanced Practice) MSc",
           "Teesside University",
           "School of Computing, Engineering & Design Technologies"
          ],
          [
           null,
           7.243500000000001,
           9.027,
           3.94,
           "Advanced Clinical Practice MSc, PGDip, PGCert",
           "King’s College London",
           "Florence Nightingale Faculty of Nursing, Midwifery & Palliative Care"
          ],
          [
           null,
           7.243500000000001,
           9.027,
           3.94,
           "Health Studies MSc",
           "University of Huddersfield",
           "School of Human & Health Sciences"
          ],
          [
           null,
           7.243500000000001,
           9.027,
           3.94,
           "Advanced Clinical Practice MSc",
           "Keele University",
           "School of Nursing and Midwifery"
          ],
          [
           2082,
           7.243500000000001,
           9.027,
           3.94,
           "Advanced Clinical Practice (MSc)",
           "Sheffield Hallam University",
           "Postgraduate Courses"
          ],
          [
           null,
           7.243500000000001,
           9.027,
           3.94,
           "Advanced Nurse Practitioner/Professional Practice MSc",
           "University of the Highlands and Islands",
           "Science, Health and Engineering"
          ],
          [
           null,
           7.243500000000001,
           9.027,
           3.94,
           "Computer Science MSc",
           "University of East London",
           "School of Architecture, Computing and Engineering"
          ],
          [
           null,
           7.243500000000001,
           9.027,
           3.94,
           "Computing",
           "University of East London",
           "School of Architecture, Computing and Engineering"
          ],
          [
           null,
           7.243500000000001,
           9.027,
           3.94,
           "Advanced Paramedic Practice - MSc",
           "University of Hertfordshire",
           "School of Health and Social Work"
          ],
          [
           null,
           7.243500000000001,
           9.027,
           3.94,
           "Advanced Structural Engineering MSc (Campus)",
           "Aberdeen University",
           "School of Engineering"
          ],
          [
           null,
           7.243500000000001,
           9.027,
           3.94,
           "Forensic Psychology (MSc)",
           "University of Derby",
           "College of Health, Psychology and Social Care"
          ],
          [
           null,
           7.243500000000001,
           9.027,
           3.94,
           "Advanced Clinical Practice MSc",
           "University of Worcester",
           "School of Allied Health and Community"
          ],
          [
           null,
           7.243500000000001,
           9.027,
           3.94,
           "Advanced Mechanical Engineering MSc",
           "Brunel University London",
           "Mechanical and Automotive Engineering"
          ],
          [
           null,
           7.243500000000001,
           9.027,
           3.94,
           "Advanced Computer Science MSc",
           "Keele University",
           "School of Computing and Mathematics"
          ],
          [
           null,
           7.243500000000001,
           9.027,
           3.94,
           "Advanced Chemical Engineering, MSc",
           "University of Greenwich",
           "School of Engineering"
          ],
          [
           null,
           7.243500000000001,
           9.027,
           3.94,
           "Electrical Power Engineering MSc",
           "University of Greenwich",
           "School of Engineering"
          ],
          [
           null,
           7.243500000000001,
           9.027,
           3.94,
           "Advanced Engineering Design MSc",
           "Brunel University London",
           "Mechanical and Automotive Engineering"
          ],
          [
           null,
           7.243500000000001,
           9.027,
           3.94,
           "Forensic Science MSc / MRes",
           "King’s College London",
           "Faculty of Life Sciences & Medicine"
          ],
          [
           null,
           7.243500000000001,
           9.027,
           3.94,
           "Advanced Manufacturing MSc",
           "University of Portsmouth",
           "School of Mechanical and Design Engineering"
          ],
          [
           null,
           7.243500000000001,
           9.027,
           3.94,
           "Intelligent Transport Planning and Engineering MSc",
           "University of East London",
           "School of Architecture, Computing and Engineering"
          ],
          [
           192500,
           9.3505,
           9.711,
           4.967,
           "Master of Science in IC Design Engineering",
           "The Hong Kong University of Science and Technology",
           "School of Engineering - Taught Postgraduate Programs"
          ],
          [
           101876,
           7.243500000000001,
           9.027,
           3.94,
           "Advanced Radiotherapy and Oncology Practice - MSc",
           "University of Hertfordshire",
           "School of Health and Social Work"
          ],
          [
           null,
           7.243500000000001,
           9.027,
           3.94,
           "Civil Engineering MSc",
           "University of Greenwich",
           "School of Engineering"
          ],
          [
           null,
           7.243500000000001,
           9.027,
           3.94,
           "Advanced Veterinary Nursing (Anaesthesia)",
           "Harper Adams University",
           "Postgraduate study at Harper Adams"
          ],
          [
           null,
           7.243500000000001,
           9.027,
           3.94,
           "Advanced Clinical Practitioner MSc (Degree Apprenticeship)",
           "University of Greenwich",
           "School of Health Sciences"
          ],
          [
           null,
           7.243500000000001,
           9.027,
           3.94,
           "Criminal Justice and Criminology (MSc)",
           "University of Derby",
           "College of Business, Law and Social Sciences"
          ]
         ],
         "hovertemplate": "<b>%{hovertext}</b><br><br>latitude=%{lat}<br>longitude=%{lon}<br>fees_USD=%{marker.color}<br>Safety=%{customdata[1]}<br>Education=%{customdata[2]}<br>Cost_of_Living=%{customdata[3]}<br>courseName=%{customdata[4]}<br>universityName=%{customdata[5]}<br>facultyName=%{customdata[6]}<extra></extra>",
         "hovertext": [
          "Masters in Hospitality Management",
          "Advanced Computing MSc",
          "Advanced Clinical Practice MSc",
          "Advancing Practice - MSc",
          "Advanced Clinical Practice - MSc",
          "Advanced Professional Practice (MSc)",
          "Advanced Clinical Practice - MSc",
          "Advanced Clinical Practitioner - MSc",
          "Advanced Biomedical Engineering - MSc",
          "Advanced Clinical Practice (AHP) - MSc/PGDip/PGCert",
          "Advanced Computing (MSc/MRes)",
          "Advanced Clinical Practitioner MSc",
          "Advanced Clinical Practice (Primary Care) MSc / PGDip",
          "Aerospace Engineering MSc",
          "Aerospace Engineering (with Advanced Practice) MSc",
          "Advanced Clinical Practice MSc, PGDip, PGCert",
          "Health Studies MSc",
          "Advanced Clinical Practice MSc",
          "Advanced Clinical Practice (MSc)",
          "Advanced Nurse Practitioner/Professional Practice MSc",
          "Computer Science MSc",
          "Computing",
          "Advanced Paramedic Practice - MSc",
          "Advanced Structural Engineering MSc (Campus)",
          "Forensic Psychology (MSc)",
          "Advanced Clinical Practice MSc",
          "Advanced Mechanical Engineering MSc",
          "Advanced Computer Science MSc",
          "Advanced Chemical Engineering, MSc",
          "Electrical Power Engineering MSc",
          "Advanced Engineering Design MSc",
          "Forensic Science MSc / MRes",
          "Advanced Manufacturing MSc",
          "Intelligent Transport Planning and Engineering MSc",
          "Master of Science in IC Design Engineering",
          "Advanced Radiotherapy and Oncology Practice - MSc",
          "Civil Engineering MSc",
          "Advanced Veterinary Nursing (Anaesthesia)",
          "Advanced Clinical Practitioner MSc (Degree Apprenticeship)",
          "Criminal Justice and Criminology (MSc)"
         ],
         "lat": [
          46.5218269,
          51.5074456,
          51.5074456,
          52.2378853,
          51.2800275,
          51.8653705,
          52.2378853,
          54.9058512,
          53.7944229,
          53.2277163,
          51.5074456,
          51.6317449,
          51.6195955,
          54.5760419,
          54.5760419,
          51.5074456,
          53.6466645,
          53.0162014,
          53.3806626,
          57.4790124,
          51.5074456,
          51.5074456,
          51.7634675,
          57.1482429,
          52.9142235,
          52.1911849,
          51.5074456,
          53.0162014,
          51.5074456,
          51.5074456,
          51.5074456,
          51.5074456,
          50.800031,
          51.5074456,
          22.28467135,
          51.7634675,
          51.5074456,
          51.5882332,
          51.5074456,
          52.9142235
         ],
         "legendgroup": "",
         "lon": [
          6.6327025,
          -0.1277653,
          -0.1277653,
          -0.8963639,
          1.0802533,
          -2.2458192,
          -0.8963639,
          -1.3828727,
          -1.7519186,
          -4.1268822,
          -0.1277653,
          -0.75596,
          -3.9459248,
          -1.2344047,
          -1.2344047,
          -0.1277653,
          -1.7822482,
          -2.1812607,
          -1.4702278,
          -4.225739,
          -0.1277653,
          -0.1277653,
          -0.2258741,
          -2.0928095,
          -1.4719885461266053,
          -2.2206585,
          -0.1277653,
          -2.1812607,
          -0.1277653,
          -0.1277653,
          -0.1277653,
          -0.1277653,
          -1.0906023,
          -0.1277653,
          114.29622979760862,
          -0.2258741,
          -0.1277653,
          -2.9974967,
          -0.1277653,
          -1.4719885461266053
         ],
         "marker": {
          "color": [
           null,
           null,
           null,
           null,
           2025,
           null,
           null,
           null,
           null,
           null,
           null,
           null,
           null,
           null,
           null,
           null,
           null,
           null,
           2082,
           null,
           null,
           null,
           null,
           null,
           null,
           null,
           null,
           null,
           null,
           null,
           null,
           null,
           null,
           null,
           192500,
           101876,
           null,
           null,
           null,
           null
          ],
          "coloraxis": "coloraxis"
         },
         "mode": "markers",
         "name": "",
         "showlegend": false,
         "subplot": "mapbox",
         "type": "scattermapbox"
        }
       ],
       "layout": {
        "coloraxis": {
         "colorbar": {
          "title": {
           "text": "fees_USD"
          }
         },
         "colorscale": [
          [
           0,
           "#0d0887"
          ],
          [
           0.1111111111111111,
           "#46039f"
          ],
          [
           0.2222222222222222,
           "#7201a8"
          ],
          [
           0.3333333333333333,
           "#9c179e"
          ],
          [
           0.4444444444444444,
           "#bd3786"
          ],
          [
           0.5555555555555556,
           "#d8576b"
          ],
          [
           0.6666666666666666,
           "#ed7953"
          ],
          [
           0.7777777777777778,
           "#fb9f3a"
          ],
          [
           0.8888888888888888,
           "#fdca26"
          ],
          [
           1,
           "#f0f921"
          ]
         ]
        },
        "height": 600,
        "legend": {
         "tracegroupgap": 0
        },
        "mapbox": {
         "accesstoken": "pk.eyJ1Ijoic3VzYW5uYWJyYXZpIiwiYSI6ImNscGQ3bXR5eTEwamoya3FyaTBjbWt2N2wifQ.h95oGTEioKMBjxmsSAF3yw",
         "center": {
          "lat": 51.58712840375,
          "lon": 1.9527882001338852
         },
         "domain": {
          "x": [
           0,
           1
          ],
          "y": [
           0,
           1
          ]
         },
         "style": "open-street-map",
         "zoom": 5
        },
        "margin": {
         "t": 60
        },
        "template": {
         "data": {
          "bar": [
           {
            "error_x": {
             "color": "#2a3f5f"
            },
            "error_y": {
             "color": "#2a3f5f"
            },
            "marker": {
             "line": {
              "color": "#E5ECF6",
              "width": 0.5
             },
             "pattern": {
              "fillmode": "overlay",
              "size": 10,
              "solidity": 0.2
             }
            },
            "type": "bar"
           }
          ],
          "barpolar": [
           {
            "marker": {
             "line": {
              "color": "#E5ECF6",
              "width": 0.5
             },
             "pattern": {
              "fillmode": "overlay",
              "size": 10,
              "solidity": 0.2
             }
            },
            "type": "barpolar"
           }
          ],
          "carpet": [
           {
            "aaxis": {
             "endlinecolor": "#2a3f5f",
             "gridcolor": "white",
             "linecolor": "white",
             "minorgridcolor": "white",
             "startlinecolor": "#2a3f5f"
            },
            "baxis": {
             "endlinecolor": "#2a3f5f",
             "gridcolor": "white",
             "linecolor": "white",
             "minorgridcolor": "white",
             "startlinecolor": "#2a3f5f"
            },
            "type": "carpet"
           }
          ],
          "choropleth": [
           {
            "colorbar": {
             "outlinewidth": 0,
             "ticks": ""
            },
            "type": "choropleth"
           }
          ],
          "contour": [
           {
            "colorbar": {
             "outlinewidth": 0,
             "ticks": ""
            },
            "colorscale": [
             [
              0,
              "#0d0887"
             ],
             [
              0.1111111111111111,
              "#46039f"
             ],
             [
              0.2222222222222222,
              "#7201a8"
             ],
             [
              0.3333333333333333,
              "#9c179e"
             ],
             [
              0.4444444444444444,
              "#bd3786"
             ],
             [
              0.5555555555555556,
              "#d8576b"
             ],
             [
              0.6666666666666666,
              "#ed7953"
             ],
             [
              0.7777777777777778,
              "#fb9f3a"
             ],
             [
              0.8888888888888888,
              "#fdca26"
             ],
             [
              1,
              "#f0f921"
             ]
            ],
            "type": "contour"
           }
          ],
          "contourcarpet": [
           {
            "colorbar": {
             "outlinewidth": 0,
             "ticks": ""
            },
            "type": "contourcarpet"
           }
          ],
          "heatmap": [
           {
            "colorbar": {
             "outlinewidth": 0,
             "ticks": ""
            },
            "colorscale": [
             [
              0,
              "#0d0887"
             ],
             [
              0.1111111111111111,
              "#46039f"
             ],
             [
              0.2222222222222222,
              "#7201a8"
             ],
             [
              0.3333333333333333,
              "#9c179e"
             ],
             [
              0.4444444444444444,
              "#bd3786"
             ],
             [
              0.5555555555555556,
              "#d8576b"
             ],
             [
              0.6666666666666666,
              "#ed7953"
             ],
             [
              0.7777777777777778,
              "#fb9f3a"
             ],
             [
              0.8888888888888888,
              "#fdca26"
             ],
             [
              1,
              "#f0f921"
             ]
            ],
            "type": "heatmap"
           }
          ],
          "heatmapgl": [
           {
            "colorbar": {
             "outlinewidth": 0,
             "ticks": ""
            },
            "colorscale": [
             [
              0,
              "#0d0887"
             ],
             [
              0.1111111111111111,
              "#46039f"
             ],
             [
              0.2222222222222222,
              "#7201a8"
             ],
             [
              0.3333333333333333,
              "#9c179e"
             ],
             [
              0.4444444444444444,
              "#bd3786"
             ],
             [
              0.5555555555555556,
              "#d8576b"
             ],
             [
              0.6666666666666666,
              "#ed7953"
             ],
             [
              0.7777777777777778,
              "#fb9f3a"
             ],
             [
              0.8888888888888888,
              "#fdca26"
             ],
             [
              1,
              "#f0f921"
             ]
            ],
            "type": "heatmapgl"
           }
          ],
          "histogram": [
           {
            "marker": {
             "pattern": {
              "fillmode": "overlay",
              "size": 10,
              "solidity": 0.2
             }
            },
            "type": "histogram"
           }
          ],
          "histogram2d": [
           {
            "colorbar": {
             "outlinewidth": 0,
             "ticks": ""
            },
            "colorscale": [
             [
              0,
              "#0d0887"
             ],
             [
              0.1111111111111111,
              "#46039f"
             ],
             [
              0.2222222222222222,
              "#7201a8"
             ],
             [
              0.3333333333333333,
              "#9c179e"
             ],
             [
              0.4444444444444444,
              "#bd3786"
             ],
             [
              0.5555555555555556,
              "#d8576b"
             ],
             [
              0.6666666666666666,
              "#ed7953"
             ],
             [
              0.7777777777777778,
              "#fb9f3a"
             ],
             [
              0.8888888888888888,
              "#fdca26"
             ],
             [
              1,
              "#f0f921"
             ]
            ],
            "type": "histogram2d"
           }
          ],
          "histogram2dcontour": [
           {
            "colorbar": {
             "outlinewidth": 0,
             "ticks": ""
            },
            "colorscale": [
             [
              0,
              "#0d0887"
             ],
             [
              0.1111111111111111,
              "#46039f"
             ],
             [
              0.2222222222222222,
              "#7201a8"
             ],
             [
              0.3333333333333333,
              "#9c179e"
             ],
             [
              0.4444444444444444,
              "#bd3786"
             ],
             [
              0.5555555555555556,
              "#d8576b"
             ],
             [
              0.6666666666666666,
              "#ed7953"
             ],
             [
              0.7777777777777778,
              "#fb9f3a"
             ],
             [
              0.8888888888888888,
              "#fdca26"
             ],
             [
              1,
              "#f0f921"
             ]
            ],
            "type": "histogram2dcontour"
           }
          ],
          "mesh3d": [
           {
            "colorbar": {
             "outlinewidth": 0,
             "ticks": ""
            },
            "type": "mesh3d"
           }
          ],
          "parcoords": [
           {
            "line": {
             "colorbar": {
              "outlinewidth": 0,
              "ticks": ""
             }
            },
            "type": "parcoords"
           }
          ],
          "pie": [
           {
            "automargin": true,
            "type": "pie"
           }
          ],
          "scatter": [
           {
            "fillpattern": {
             "fillmode": "overlay",
             "size": 10,
             "solidity": 0.2
            },
            "type": "scatter"
           }
          ],
          "scatter3d": [
           {
            "line": {
             "colorbar": {
              "outlinewidth": 0,
              "ticks": ""
             }
            },
            "marker": {
             "colorbar": {
              "outlinewidth": 0,
              "ticks": ""
             }
            },
            "type": "scatter3d"
           }
          ],
          "scattercarpet": [
           {
            "marker": {
             "colorbar": {
              "outlinewidth": 0,
              "ticks": ""
             }
            },
            "type": "scattercarpet"
           }
          ],
          "scattergeo": [
           {
            "marker": {
             "colorbar": {
              "outlinewidth": 0,
              "ticks": ""
             }
            },
            "type": "scattergeo"
           }
          ],
          "scattergl": [
           {
            "marker": {
             "colorbar": {
              "outlinewidth": 0,
              "ticks": ""
             }
            },
            "type": "scattergl"
           }
          ],
          "scattermapbox": [
           {
            "marker": {
             "colorbar": {
              "outlinewidth": 0,
              "ticks": ""
             }
            },
            "type": "scattermapbox"
           }
          ],
          "scatterpolar": [
           {
            "marker": {
             "colorbar": {
              "outlinewidth": 0,
              "ticks": ""
             }
            },
            "type": "scatterpolar"
           }
          ],
          "scatterpolargl": [
           {
            "marker": {
             "colorbar": {
              "outlinewidth": 0,
              "ticks": ""
             }
            },
            "type": "scatterpolargl"
           }
          ],
          "scatterternary": [
           {
            "marker": {
             "colorbar": {
              "outlinewidth": 0,
              "ticks": ""
             }
            },
            "type": "scatterternary"
           }
          ],
          "surface": [
           {
            "colorbar": {
             "outlinewidth": 0,
             "ticks": ""
            },
            "colorscale": [
             [
              0,
              "#0d0887"
             ],
             [
              0.1111111111111111,
              "#46039f"
             ],
             [
              0.2222222222222222,
              "#7201a8"
             ],
             [
              0.3333333333333333,
              "#9c179e"
             ],
             [
              0.4444444444444444,
              "#bd3786"
             ],
             [
              0.5555555555555556,
              "#d8576b"
             ],
             [
              0.6666666666666666,
              "#ed7953"
             ],
             [
              0.7777777777777778,
              "#fb9f3a"
             ],
             [
              0.8888888888888888,
              "#fdca26"
             ],
             [
              1,
              "#f0f921"
             ]
            ],
            "type": "surface"
           }
          ],
          "table": [
           {
            "cells": {
             "fill": {
              "color": "#EBF0F8"
             },
             "line": {
              "color": "white"
             }
            },
            "header": {
             "fill": {
              "color": "#C8D4E3"
             },
             "line": {
              "color": "white"
             }
            },
            "type": "table"
           }
          ]
         },
         "layout": {
          "annotationdefaults": {
           "arrowcolor": "#2a3f5f",
           "arrowhead": 0,
           "arrowwidth": 1
          },
          "autotypenumbers": "strict",
          "coloraxis": {
           "colorbar": {
            "outlinewidth": 0,
            "ticks": ""
           }
          },
          "colorscale": {
           "diverging": [
            [
             0,
             "#8e0152"
            ],
            [
             0.1,
             "#c51b7d"
            ],
            [
             0.2,
             "#de77ae"
            ],
            [
             0.3,
             "#f1b6da"
            ],
            [
             0.4,
             "#fde0ef"
            ],
            [
             0.5,
             "#f7f7f7"
            ],
            [
             0.6,
             "#e6f5d0"
            ],
            [
             0.7,
             "#b8e186"
            ],
            [
             0.8,
             "#7fbc41"
            ],
            [
             0.9,
             "#4d9221"
            ],
            [
             1,
             "#276419"
            ]
           ],
           "sequential": [
            [
             0,
             "#0d0887"
            ],
            [
             0.1111111111111111,
             "#46039f"
            ],
            [
             0.2222222222222222,
             "#7201a8"
            ],
            [
             0.3333333333333333,
             "#9c179e"
            ],
            [
             0.4444444444444444,
             "#bd3786"
            ],
            [
             0.5555555555555556,
             "#d8576b"
            ],
            [
             0.6666666666666666,
             "#ed7953"
            ],
            [
             0.7777777777777778,
             "#fb9f3a"
            ],
            [
             0.8888888888888888,
             "#fdca26"
            ],
            [
             1,
             "#f0f921"
            ]
           ],
           "sequentialminus": [
            [
             0,
             "#0d0887"
            ],
            [
             0.1111111111111111,
             "#46039f"
            ],
            [
             0.2222222222222222,
             "#7201a8"
            ],
            [
             0.3333333333333333,
             "#9c179e"
            ],
            [
             0.4444444444444444,
             "#bd3786"
            ],
            [
             0.5555555555555556,
             "#d8576b"
            ],
            [
             0.6666666666666666,
             "#ed7953"
            ],
            [
             0.7777777777777778,
             "#fb9f3a"
            ],
            [
             0.8888888888888888,
             "#fdca26"
            ],
            [
             1,
             "#f0f921"
            ]
           ]
          },
          "colorway": [
           "#636efa",
           "#EF553B",
           "#00cc96",
           "#ab63fa",
           "#FFA15A",
           "#19d3f3",
           "#FF6692",
           "#B6E880",
           "#FF97FF",
           "#FECB52"
          ],
          "font": {
           "color": "#2a3f5f"
          },
          "geo": {
           "bgcolor": "white",
           "lakecolor": "white",
           "landcolor": "#E5ECF6",
           "showlakes": true,
           "showland": true,
           "subunitcolor": "white"
          },
          "hoverlabel": {
           "align": "left"
          },
          "hovermode": "closest",
          "mapbox": {
           "style": "light"
          },
          "paper_bgcolor": "white",
          "plot_bgcolor": "#E5ECF6",
          "polar": {
           "angularaxis": {
            "gridcolor": "white",
            "linecolor": "white",
            "ticks": ""
           },
           "bgcolor": "#E5ECF6",
           "radialaxis": {
            "gridcolor": "white",
            "linecolor": "white",
            "ticks": ""
           }
          },
          "scene": {
           "xaxis": {
            "backgroundcolor": "#E5ECF6",
            "gridcolor": "white",
            "gridwidth": 2,
            "linecolor": "white",
            "showbackground": true,
            "ticks": "",
            "zerolinecolor": "white"
           },
           "yaxis": {
            "backgroundcolor": "#E5ECF6",
            "gridcolor": "white",
            "gridwidth": 2,
            "linecolor": "white",
            "showbackground": true,
            "ticks": "",
            "zerolinecolor": "white"
           },
           "zaxis": {
            "backgroundcolor": "#E5ECF6",
            "gridcolor": "white",
            "gridwidth": 2,
            "linecolor": "white",
            "showbackground": true,
            "ticks": "",
            "zerolinecolor": "white"
           }
          },
          "shapedefaults": {
           "line": {
            "color": "#2a3f5f"
           }
          },
          "ternary": {
           "aaxis": {
            "gridcolor": "white",
            "linecolor": "white",
            "ticks": ""
           },
           "baxis": {
            "gridcolor": "white",
            "linecolor": "white",
            "ticks": ""
           },
           "bgcolor": "#E5ECF6",
           "caxis": {
            "gridcolor": "white",
            "linecolor": "white",
            "ticks": ""
           }
          },
          "title": {
           "x": 0.05
          },
          "xaxis": {
           "automargin": true,
           "gridcolor": "white",
           "linecolor": "white",
           "ticks": "",
           "title": {
            "standoff": 15
           },
           "zerolinecolor": "white",
           "zerolinewidth": 2
          },
          "yaxis": {
           "automargin": true,
           "gridcolor": "white",
           "linecolor": "white",
           "ticks": "",
           "title": {
            "standoff": 15
           },
           "zerolinecolor": "white",
           "zerolinewidth": 2
          }
         }
        }
       }
      }
     },
     "metadata": {},
     "output_type": "display_data"
    }
   ],
   "source": [
    "# This is a key from mapbox.com necessary to use the style \"open-street-map\"\n",
    "px.set_mapbox_access_token(\"pk.eyJ1Ijoic3VzYW5uYWJyYXZpIiwiYSI6ImNscGQ3bXR5eTEwamoya3FyaTBjbWt2N2wifQ.h95oGTEioKMBjxmsSAF3yw\")\n",
    "\n",
    "# Plotting the results\n",
    "fig = px.scatter_mapbox(places, lat=\"latitude\", lon=\"longitude\", hover_name=\"courseName\", hover_data=[\"fees_USD\",\"Safety\",\"Education\",\"Cost_of_Living\",\"courseName\",\"universityName\",\"facultyName\"], color = \"fees_USD\",\n",
    "                         zoom=5, height=600, mapbox_style=\"open-street-map\")\n",
    "fig.show()"
   ]
  },
  {
   "cell_type": "markdown",
   "metadata": {},
   "source": [
    "We also add a screen of our map in case GitHub does not supports interactive maps\n",
    "![Immagine](map.png)"
   ]
  }
 ],
 "metadata": {
  "kernelspec": {
   "display_name": "Python 3 (ipykernel)",
   "language": "python",
   "name": "python3"
  },
  "language_info": {
   "codemirror_mode": {
    "name": "ipython",
    "version": 3
   },
   "file_extension": ".py",
   "mimetype": "text/x-python",
   "name": "python",
   "nbconvert_exporter": "python",
   "pygments_lexer": "ipython3",
   "version": "3.11.3"
  }
 },
 "nbformat": 4,
 "nbformat_minor": 4
}

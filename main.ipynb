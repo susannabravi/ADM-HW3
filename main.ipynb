{
 "cells": [
  {
   "cell_type": "code",
   "execution_count": 2,
   "outputs": [
    {
     "name": "stderr",
     "output_type": "stream",
     "text": [
      "C:\\Users\\Federico\\anaconda3\\lib\\site-packages\\scipy\\__init__.py:146: UserWarning: A NumPy version >=1.16.5 and <1.23.0 is required for this version of SciPy (detected version 1.26.1\n",
      "  warnings.warn(f\"A NumPy version >={np_minversion} and <{np_maxversion}\"\n"
     ]
    }
   ],
   "source": [
    "# Libraries\n",
    "import numpy as np\n",
    "import pandas as pd\n",
    "import csv\n",
    "from bs4 import BeautifulSoup\n",
    "import requests\n",
    "import re\n",
    "import os\n",
    "from urllib.request import urlopen\n",
    "import time\n",
    "from concurrent.futures import ThreadPoolExecutor\n",
    "\n",
    "import nltk\n",
    "import string\n",
    "from nltk.corpus import stopwords\n",
    "from nltk.stem import PorterStemmer\n",
    "import matplotlib.pyplot as plt\n",
    "from collections import Counter\n",
    "from functools import reduce\n",
    "import json"
   ],
   "metadata": {
    "collapsed": false,
    "ExecuteTime": {
     "start_time": "2023-11-24T15:43:55.130218Z",
     "end_time": "2023-11-24T15:43:59.069654Z"
    }
   }
  },
  {
   "cell_type": "markdown",
   "source": [
    "# 1. Data collection\n",
    "\n",
    "## 1.1. Get the list of master's degree courses\n",
    "We created a file named 'urls.txt' that contains all the urls associated with the url of each master page.\n",
    "for reaching such purpose, we iterate over all 400 pages and took the link for every 15 urls of each page.\n",
    "we stored all urls in 'urls.txt' file."
   ],
   "metadata": {
    "collapsed": false
   }
  },
  {
   "cell_type": "code",
   "execution_count": null,
   "metadata": {
    "ExecuteTime": {
     "start_time": "2023-11-18T16:29:57.119032Z",
     "end_time": "2023-11-18T16:31:44.436742Z"
    }
   },
   "outputs": [],
   "source": [
    "f = open(\"urls.txt\",\"w\") # First we create a txt file where we can write the URLs  #  w means writing mode\n",
    "for i in range(1, 401): #from first page to page 400\n",
    "    url = f\"https://www.findamasters.com/masters-degrees/msc-degrees/?PG={i}\" #pages can be scrolled by changing the number after PG\n",
    "    result = requests.get(url) # as we have done in class\n",
    "    soup = BeautifulSoup(result.text, 'html.parser') # to get the html of each page\n",
    "\n",
    "    for link in soup.find_all(class_ = re.compile('courseLink')): #as in class to get each tag of the page which belongs to class courseLink\n",
    "        c = (link.get(\"href\"))  # url of each page in the i-th page\n",
    "        f.write(\"https://www.findamasters.com/\"+c) #writing the rows\n",
    "        f.write(\"\\n\")\n",
    "f.close()\n",
    "print('The \"urls.txt\" file is generated!')"
   ]
  },
  {
   "cell_type": "markdown",
   "metadata": {},
   "source": [
    "### 1.2. Crawl master's degree pages\n",
    "\n",
    "We wrote a function named 'download_url'.\n",
    "Since the FindMaster website blocks us for 70 seconds for every (20 to 22) requests we send, we use 'time.sleep(70)' to wait and then resend the http get request. \n",
    "we also omit to download the http files that their directory are already existed.\n",
    "\n",
    "for sending http get requests asynchronously, we can use async and await methods and take the advantage of using \"aiohttp\" library. the other way is to use ThreadPoolExecutor function executer. \n",
    "It means that we store the executer command in a variable named 'future_to_url' that we are able to call in the future.\n",
    "The ThreadPoolExecutor is a built-in Python module that provides managing a pool of worker threads. It allows us to submit tasks to the pool, which are then executed by one of the worker threads in the pool."
   ]
  },
  {
   "cell_type": "code",
   "execution_count": null,
   "metadata": {},
   "outputs": [],
   "source": [
    "from concurrent.futures import ThreadPoolExecutor\n",
    "\n",
    "# Function to download and save HTML for a given URL\n",
    "def download_url(url, folder_path, page_number):\n",
    "    # Create a folder for each page if it doesn't exist\n",
    "    page_folder = os.path.join(folder_path, f\"page_{page_number}\")\n",
    "    if os.path.exists(page_folder):\n",
    "        # uncomment the below code to see which pages are skiped, cause they have already been downloaded.\n",
    "        # print(f\"Skipping Page: {page_number} - Folder already exists.\")\n",
    "        return\n",
    "\n",
    "    try:\n",
    "        response = requests.get(url) # Send a GET request to the URL\n",
    "        response.raise_for_status()  # Raise an exception for bad responses \n",
    "\n",
    "        # Create a folder for each page if it doesn't exist\n",
    "        os.makedirs(page_folder, exist_ok=True)\n",
    "\n",
    "        # Save the HTML content to a file\n",
    "        file_path = os.path.join(page_folder, f\"html_{page_number}.html\")\n",
    "        with open(file_path, 'w', encoding='utf-8') as file:\n",
    "            file.write(response.text)\n",
    "        print(f\"Downloaded page {page_number}: {url}\")\n",
    "    except requests.exceptions.RequestException as e:\n",
    "        print(f\"Failed to download page {page_number}: {url}\")\n",
    "        print(f\"Error: {e}\")\n",
    "        print(\"Retrying in 70 seconds...\")\n",
    "        time.sleep(70)  # Wait for 10 seconds before retrying\n",
    "        download_url(url, folder_path, page_number)  # Retry the download\n",
    "\n",
    "# Read all URLs one by one\n",
    "with open('urls.txt', 'r') as urls_file:\n",
    "    urls = urls_file.read().splitlines()\n",
    "\n",
    "output_folder = 'HTML_folders' # Store all HTML files into this directory.\n",
    "\n",
    "# We can use ThreadPoolExecutor for sending http requests asynchronously. \n",
    "# However, Since the FindMaster website blocks us for 70 seconds for every (20 to 22) requests we send, \n",
    "# the max_workers in below code assigned to number 1. So it sends requests synchronously.\n",
    "with ThreadPoolExecutor(max_workers=1) as executor:\n",
    "    # Enumerate through each URL and submit download tasks to the executor\n",
    "    future_to_url = {executor.submit(download_url, url, output_folder, page_number): url for page_number, url in enumerate(urls, start=1)}\n",
    "\n",
    "print(\"All HTML files are stored in the HTML_folders directory.\")"
   ]
  },
  {
   "cell_type": "markdown",
   "metadata": {},
   "source": [
    "### 1.3 Parse downloaded pages\n",
    "Here we create a '.tsv' file including the following columns for each of the HTML files.\n",
    "\n",
    "1. Course Name (to save as ```courseName```): string;\n",
    "2. University (to save as ```universityName```): string;\n",
    "3. Faculty (to save as ```facultyName```): string\n",
    "4. Full or Part Time (to save as ```isItFullTime```): string;\n",
    "5. Short Description (to save as ```description```): string;\n",
    "6. Start Date (to save as ```startDate```): string;\n",
    "7. Fees (to save as ```fees```): string;\n",
    "8. Modality (to save as ```modality```):string;\n",
    "9. Duration (to save as ```duration```):string;\n",
    "10. City (to save as ```city```): string;\n",
    "11. Country (to save as ```country```): string;\n",
    "12. Presence or online modality (to save as ```administration```): string;\n",
    "13. Link to the page (to save as ```url```): string.\n",
    "\n",
    "Then, we merge all those files together to generate our final dataset."
   ]
  },
  {
   "cell_type": "code",
   "execution_count": null,
   "metadata": {},
   "outputs": [],
   "source": [
    "current_path = os.getcwd()\n",
    "# '/Users/armanfeili/Arman/Sapienza Courses/ADM/Homeworks/HW3/phase-2/ADM-HW3/HTML_folders'\n",
    "\n",
    "for i in range(1,6001):\n",
    "    # os.chdir(r'C:\\Users\\susan\\Documents\\DS\\ADM\\HW3\\ADM-HW3\\HTML_folders\\page_'+str(i)) #change directories\n",
    "    os.chdir(r'/Users/armanfeili/Arman/Sapienza Courses/ADM/Homeworks/HW3/phase-3/ADM-HW3/HTML_folders/page_'+str(i)) #change directories\n",
    "    \n",
    "    for filename in os.listdir(os.getcwd()): # get all the files in a folder\n",
    "        if filename.endswith(\".tsv\"): continue # tsv file is already generated.\n",
    "        elif filename.endswith(\".html\"): # if file extension is .html\n",
    "            with open(os.path.join(os.getcwd(), filename), 'r',encoding='utf-8') as f: # open each file into a folder\n",
    "                soup = BeautifulSoup(f,'html.parser') # get the html file by each file \n",
    "                out=[] # initialize a list where we append all the informations parsed from each html file\n",
    "\n",
    "                # 1  Course Name\n",
    "                courseName = soup.find_all(class_=re.compile(\"course-header__course-title\"))\n",
    "                out.append(courseName[0].text.strip() if courseName else \"\") #text.strip to eliminate strange simbols for the space\n",
    "                # 2  University\n",
    "                universityName = soup.find_all(class_=re.compile(\"course-header__institution\"))\n",
    "                out.append(universityName[0].text if universityName else \"\")\n",
    "                # 3  Faculty\n",
    "                facultyName = soup.find_all(class_=re.compile(\"course-header__department\"))\n",
    "                out.append(facultyName[0].text if facultyName else \"\")\n",
    "                # 4  Full or Part Time\n",
    "                isItFullTime = soup.find_all(class_=re.compile(\"concealLink\"))\n",
    "                out.append(isItFullTime[0].text if isItFullTime else \"\")\n",
    "                # 5  Short Description\n",
    "                description = soup.find_all(class_=re.compile(\"course-sections__content\"))\n",
    "                out.append(description[0].text.replace('\\n', '') if description else \"\")\n",
    "                # 6  Start Date\n",
    "                startDate = soup.find_all(class_=re.compile(\"key-info__start-date\"))\n",
    "                out.append(startDate[0].text if startDate else \"\")\n",
    "                # 7  Fees \n",
    "                fees_elements = soup.find_all(class_=re.compile(\"course-sections__fees\")) # taking the fee\n",
    "                fees_text = fees_elements[0].text.replace('\\n', '') if fees_elements else \"\" \n",
    "                cleaned_fees = re.sub(r'Fees', '', fees_text)  # To not \"Fees\" at the beginning \n",
    "                out.append(cleaned_fees.strip() if cleaned_fees else \"\")\n",
    "                # 8  Modality\n",
    "                modality = soup.find_all(class_=re.compile(\"key-info__qualification\"))\n",
    "                out.append(modality[0].text if modality else \"\")\n",
    "                # 9  Duration\n",
    "                duration = soup.find_all(class_=re.compile(\"key-info__duration\"))\n",
    "                out.append(duration[0].text if duration else \"\")\n",
    "                # 10  City\n",
    "                city = soup.find_all(class_=re.compile(\"course-data__city\"))\n",
    "                out.append(city[0].text if city else \"\")\n",
    "                # 11  Country\n",
    "                country = soup.find_all(class_=re.compile(\"course-data__country\"))\n",
    "                out.append(country[0].text if country else \"\")\n",
    "                # 12  Presence or online modality\n",
    "                # We have seen that some courses has both online or oncampus modality, one of them is \"Master of Business Administration\"\n",
    "                on_campus_elements = soup.find_all(class_=re.compile(\"course-data__on-campus\"))\n",
    "                online_elements = soup.find_all(class_=re.compile(\"course-data__online\"))\n",
    "                if on_campus_elements and online_elements:\n",
    "                    out.append(\"both\")\n",
    "                else:\n",
    "                    out.append(on_campus_elements[0].text if on_campus_elements else online_elements[0].text if online_elements else \"Nan\")\n",
    "                # 13  Link to the page\n",
    "                out.append(soup.find('link', {'rel': 'canonical'}).get('href') if soup.find('link', {'rel': 'canonical'}) else \"Nan\")\n",
    "                f.close()\n",
    "                \n",
    "                # Creating file .tsv\n",
    "                l = ['courseName','universityName','facultyName','isItFullTime','description','startDate','fees','modality','duration',\n",
    "                    'city','country','administration','url']\n",
    "                with open(filename+'.tsv','w',encoding='utf-8') as tsv:\n",
    "                    tsv_output = csv.writer(tsv, delimiter='\\t')\n",
    "                    tsv_output.writerow(l)\n",
    "                    tsv_output.writerow(out)\n",
    "    os.chdir('..')  \n",
    "\n",
    "print(\"All HTML files have been read and all .tsv files have been generated.\")"
   ]
  },
  {
   "cell_type": "code",
   "execution_count": null,
   "metadata": {},
   "outputs": [],
   "source": [
    "data=[]\n",
    "# to merge all the .tsv files\n",
    "for i in range(1,6001):\n",
    "    # os.chdir(r'./HTML_folders/page_'+str(i)) #change directories\n",
    "    os.chdir(r'/Users/armanfeili/Arman/Sapienza Courses/ADM/Homeworks/HW3/phase-3/ADM-HW3/HTML_folders/page_'+str(i)) #change directories\n",
    "    for filename in os.listdir(os.getcwd()):\n",
    "        if filename.endswith(\".tsv\"):\n",
    "            a = pd.read_csv(filename,sep='\\t')\n",
    "            data.append(a)\n",
    "    os.chdir('..')\n",
    "data=pd.concat(data,ignore_index=True)   \n",
    "data.to_csv('../dataset.tsv',sep='\\t',index=False) # Saving the big one\n",
    "print(\"dataset.tsv file has been generated as the main dataset.\")"
   ]
  },
  {
   "cell_type": "code",
   "execution_count": null,
   "metadata": {
    "scrolled": true
   },
   "outputs": [],
   "source": [
    "# An illustration to the dataset:\n",
    "data.head(5)"
   ]
  },
  {
   "cell_type": "markdown",
   "metadata": {},
   "source": [
    "## 2. Search Engine"
   ]
  },
  {
   "cell_type": "code",
   "execution_count": 3,
   "outputs": [
    {
     "data": {
      "text/plain": "courseName         24\nuniversityName     24\nfacultyName        24\nisItFullTime       24\ndescription        24\nstartDate          24\nfees              146\nmodality           24\nduration           24\ncity               24\ncountry            24\nadministration      0\nurl                 0\ndtype: int64"
     },
     "execution_count": 3,
     "metadata": {},
     "output_type": "execute_result"
    }
   ],
   "source": [
    "# Load the dataset we are going to work with\n",
    "data = pd.read_table(r\"dataset.tsv\")\n",
    "\n",
    "# Count and show NAs\n",
    "np.sum(data.isna())"
   ],
   "metadata": {
    "collapsed": false,
    "ExecuteTime": {
     "start_time": "2023-11-24T15:44:09.006803Z",
     "end_time": "2023-11-24T15:44:09.120066Z"
    }
   }
  },
  {
   "cell_type": "code",
   "execution_count": 4,
   "outputs": [],
   "source": [
    "# Drop NAs\n",
    "data = data.dropna()"
   ],
   "metadata": {
    "collapsed": false,
    "ExecuteTime": {
     "start_time": "2023-11-24T15:44:12.281215Z",
     "end_time": "2023-11-24T15:44:12.308641Z"
    }
   }
  },
  {
   "cell_type": "markdown",
   "source": [
    "## 2.0 Preprocessing\n",
    "\n",
    "### 2.0.0) Preprocessing the text\n"
   ],
   "metadata": {
    "collapsed": false
   }
  },
  {
   "cell_type": "code",
   "execution_count": 5,
   "outputs": [],
   "source": [
    "# This function takes a text, removes special cases, punctuations and stop-words then\n",
    "# it applies stemming and finally returns the preprocessed words separated by commas.\n",
    "\n",
    "def preprocess_description(description_text):\n",
    "\n",
    "    # Handle the cases of float type (there are 24)\n",
    "    if type(description_text) != str:\n",
    "        return \"\"\n",
    "\n",
    "    # Remove all special chars and punctuations\n",
    "    description_text = re.sub(\"[^a-z A-Z ]+\",\"\", description_text)\n",
    "\n",
    "    # Convert everything in lowercase\n",
    "    description_text = description_text.lower()\n",
    "\n",
    "    # Remove stopwords using nltk package\n",
    "    stop_words = set(stopwords.words('english'))\n",
    "    words = nltk.word_tokenize(description_text)\n",
    "    words = [word for word in words if word not in stop_words]\n",
    "\n",
    "    # Apply stemming using ntlk package\n",
    "    stemmer = PorterStemmer()\n",
    "    words = [stemmer.stem(word) for word in words]\n",
    "\n",
    "    # Separate words with commas\n",
    "    words = ','.join(words)\n",
    "\n",
    "    return words"
   ],
   "metadata": {
    "collapsed": false,
    "ExecuteTime": {
     "start_time": "2023-11-24T15:44:13.787572Z",
     "end_time": "2023-11-24T15:44:13.802774Z"
    }
   }
  },
  {
   "cell_type": "code",
   "execution_count": 6,
   "outputs": [],
   "source": [
    "# Create and fill new column where the preprocessed descriptions wil be stored:\n",
    "data[\"clean_description\"] = data[\"description\"].apply(preprocess_description)"
   ],
   "metadata": {
    "collapsed": false,
    "ExecuteTime": {
     "start_time": "2023-11-24T15:44:15.890537Z",
     "end_time": "2023-11-24T15:44:25.305552Z"
    }
   }
  },
  {
   "cell_type": "code",
   "execution_count": 7,
   "outputs": [
    {
     "data": {
      "text/plain": "                                         description  \\\n0  3D visualisation and animation play a role in ...   \n1  Businesses and governments rely on sound finan...   \n2  Our Accounting, Accountability & Financial Man...   \n3  Embark on a professional accounting career wit...   \n4  Join us for an online session for prospective ...   \n5  The Advanced Chemical Engineering MSc at Leeds...   \n6  Programme overviewThe Advanced Master in Finan...   \n7  Programme overviewThe Advanced Master in Innov...   \n8  Progress your career as a physiotherapist with...   \n9  Goal of the pro­grammeWould you like to be inv...   \n\n                                   clean_description  \n0  visualis,anim,play,role,mani,area,popular,medi...  \n1  busi,govern,reli,sound,financi,knowledg,underp...  \n2  account,account,financi,manag,msc,cours,provid...  \n3  embark,profession,account,career,academ,ground...  \n4  join,us,onlin,session,prospect,student,find,ms...  \n5  advanc,chemic,engin,msc,leed,build,core,founda...  \n6  programm,overviewth,advanc,master,financi,mark...  \n7  programm,overviewth,advanc,master,innov,strate...  \n8  progress,career,physiotherapist,within,nh,priv...  \n9  goal,programmewould,like,involv,find,solut,fut...  ",
      "text/html": "<div>\n<style scoped>\n    .dataframe tbody tr th:only-of-type {\n        vertical-align: middle;\n    }\n\n    .dataframe tbody tr th {\n        vertical-align: top;\n    }\n\n    .dataframe thead th {\n        text-align: right;\n    }\n</style>\n<table border=\"1\" class=\"dataframe\">\n  <thead>\n    <tr style=\"text-align: right;\">\n      <th></th>\n      <th>description</th>\n      <th>clean_description</th>\n    </tr>\n  </thead>\n  <tbody>\n    <tr>\n      <th>0</th>\n      <td>3D visualisation and animation play a role in ...</td>\n      <td>visualis,anim,play,role,mani,area,popular,medi...</td>\n    </tr>\n    <tr>\n      <th>1</th>\n      <td>Businesses and governments rely on sound finan...</td>\n      <td>busi,govern,reli,sound,financi,knowledg,underp...</td>\n    </tr>\n    <tr>\n      <th>2</th>\n      <td>Our Accounting, Accountability &amp; Financial Man...</td>\n      <td>account,account,financi,manag,msc,cours,provid...</td>\n    </tr>\n    <tr>\n      <th>3</th>\n      <td>Embark on a professional accounting career wit...</td>\n      <td>embark,profession,account,career,academ,ground...</td>\n    </tr>\n    <tr>\n      <th>4</th>\n      <td>Join us for an online session for prospective ...</td>\n      <td>join,us,onlin,session,prospect,student,find,ms...</td>\n    </tr>\n    <tr>\n      <th>5</th>\n      <td>The Advanced Chemical Engineering MSc at Leeds...</td>\n      <td>advanc,chemic,engin,msc,leed,build,core,founda...</td>\n    </tr>\n    <tr>\n      <th>6</th>\n      <td>Programme overviewThe Advanced Master in Finan...</td>\n      <td>programm,overviewth,advanc,master,financi,mark...</td>\n    </tr>\n    <tr>\n      <th>7</th>\n      <td>Programme overviewThe Advanced Master in Innov...</td>\n      <td>programm,overviewth,advanc,master,innov,strate...</td>\n    </tr>\n    <tr>\n      <th>8</th>\n      <td>Progress your career as a physiotherapist with...</td>\n      <td>progress,career,physiotherapist,within,nh,priv...</td>\n    </tr>\n    <tr>\n      <th>9</th>\n      <td>Goal of the pro­grammeWould you like to be inv...</td>\n      <td>goal,programmewould,like,involv,find,solut,fut...</td>\n    </tr>\n  </tbody>\n</table>\n</div>"
     },
     "execution_count": 7,
     "metadata": {},
     "output_type": "execute_result"
    }
   ],
   "source": [
    "# Show different fields\n",
    "data[[\"description\", \"clean_description\"]].head(10)"
   ],
   "metadata": {
    "collapsed": false,
    "ExecuteTime": {
     "start_time": "2023-11-24T15:44:25.290302Z",
     "end_time": "2023-11-24T15:44:25.321186Z"
    }
   }
  },
  {
   "cell_type": "markdown",
   "metadata": {},
   "source": [
    "### 2.0.1) Preprocessing the fees column"
   ]
  },
  {
   "cell_type": "code",
   "execution_count": 8,
   "outputs": [],
   "source": [
    "# This function was provided by ChatGPT.\n",
    "# It downloads the latest exchange rates (wrt United States Dollars) from openexchangerates.org.\n",
    "# It returns a dictionary of the form {exchange_code : exchange_rate}\n",
    "def get_latest_exchange_rates(app_id):\n",
    "\n",
    "    base_url = \"https://openexchangerates.org/api/latest.json\"\n",
    "    params = {\"app_id\": app_id}\n",
    "    response = requests.get(base_url, params=params)\n",
    "\n",
    "    if response.status_code == 200:\n",
    "        return response.json().get(\"rates\")\n",
    "    else:\n",
    "        print(f\"Failed to fetch exchange rates. Status code: {response.status_code}\")\n",
    "        return None\n",
    "\n",
    "\n",
    "# Dictionary provided by ChatGPT, I changed some symbols that were not present.\n",
    "# It will be used to convert a currency symbol into currency code.\n",
    "\n",
    "currency_symbol_to_code = {\n",
    "    '$': 'USD',  # United States Dollar\n",
    "    '€': 'EUR',  # Euro\n",
    "    \"EURO\": \"EUR\", # Euro\n",
    "    '¥': 'JPY',  # Japanese Yen\n",
    "    '£': 'GBP',  # British Pound Sterling\n",
    "    'A$': 'AUD',  # Australian Dollar\n",
    "    'C$': 'CAD',  # Canadian Dollar\n",
    "    'CHF': 'CHF',  # Swiss Franc\n",
    "    'KR': 'SEK',  # Swedish Krona\n",
    "    'NZ$': 'NZD',  # New Zealand Dollar\n",
    "    # Add more symbols and codes as needed\n",
    "}\n",
    "\n",
    "# This function handles the preprocessing of the \"fees\" field\n",
    "def preprocess_fees(fees_text):\n",
    "\n",
    "    # Handles the case of \"nan\"\n",
    "    if type(fees_text) != str:\n",
    "        return None\n",
    "\n",
    "    # Preallocate all the fees found in text\n",
    "    total_fees = []\n",
    "\n",
    "    # Symbols we are looking for\n",
    "    symbols = \"GBP|USD|ISK|£|\\$|₹|¥|₪|₽|₩|₦|₴|﷼|€|Euro\"\n",
    "\n",
    "    # Match the (symbol, number) case\n",
    "    left_symbol_matches = re.findall(fr'(?:{symbols})+\\s*[0-9]+[,.]?[0-9]*', fees_text, flags=re.IGNORECASE)\n",
    "\n",
    "    # Match the (number,  symbol) case\n",
    "    right_symbol_matches = re.findall(fr'[0-9]+[,.]?[0-9]*\\s*(?:{symbols})+', fees_text, flags=re.IGNORECASE)\n",
    "\n",
    "    # Merge them\n",
    "    matches = left_symbol_matches + right_symbol_matches\n",
    "\n",
    "    # If we got no matches returns None\n",
    "    if len(matches) == 0 :\n",
    "        return None\n",
    "\n",
    "    for match in matches:\n",
    "        # Remove \",\" or \".\" and change to the right type\n",
    "        number = re.findall('([0-9]+)[.,]*([0-9]*)', match)[0]\n",
    "        number = float(number[0] + number[1])\n",
    "\n",
    "        # Isolate symbol and upper case it (to match exchange_rates_dict codes)\n",
    "        symbol = re.findall(fr'(?i)({symbols})', match)[0].upper()\n",
    "\n",
    "        # Transform symbol into code (if not already a code)\n",
    "        if symbol in currency_symbol_to_code.keys():\n",
    "            symbol = currency_symbol_to_code[symbol]\n",
    "\n",
    "        # Change into USD using the exchange_rates dictionary and append to fees\n",
    "        total_fees.append(number / exchange_rates_dict[symbol])\n",
    "\n",
    "    # Take the max fee and return it\n",
    "    max_fee = round(max(total_fees))\n",
    "    return max_fee\n"
   ],
   "metadata": {
    "collapsed": false,
    "ExecuteTime": {
     "start_time": "2023-11-24T15:44:25.321186Z",
     "end_time": "2023-11-24T15:44:25.368742Z"
    }
   }
  },
  {
   "cell_type": "code",
   "execution_count": 9,
   "outputs": [
    {
     "name": "stdout",
     "output_type": "stream",
     "text": [
      "{\n",
      "AED: 3.672625\n",
      "AFN: 69.376917\n",
      "ALL: 93.718087\n",
      "AMD: 402.18\n",
      "ANG: 1.801068\n",
      "}\n"
     ]
    }
   ],
   "source": [
    "# Load latest exchange rates\n",
    "my_app_id = \"1457fcd3d536441baad3ce7918b5025b\"\n",
    "exchange_rates_dict = get_latest_exchange_rates(my_app_id)\n",
    "\n",
    "# Show exchange_rates_dict\n",
    "count = 0\n",
    "print(\"{\")\n",
    "for key, value in exchange_rates_dict.items():\n",
    "    if count < 5:\n",
    "        print(f'{key}: {value}')\n",
    "        count += 1\n",
    "    else:\n",
    "        break\n",
    "print(\"}\")"
   ],
   "metadata": {
    "collapsed": false,
    "ExecuteTime": {
     "start_time": "2023-11-24T15:44:25.338830Z",
     "end_time": "2023-11-24T15:44:25.880217Z"
    }
   }
  },
  {
   "cell_type": "code",
   "execution_count": 43,
   "outputs": [
    {
     "data": {
      "text/plain": "                                                fees  fees_USD\n0  Please see the university website for further ...       NaN\n1  UK: £18,000 (Total) International: £34,750 (To...   43706.0\n2  Please see the university website for further ...       NaN\n3  Please see the university website for further ...       NaN\n4  Please see the university website for further ...       NaN\n5  UK: £13,750 (Total) International: £31,000 (To...   38989.0\n6                                           18.000 €   19659.0\n7                                           18.000 €   19659.0\n8  Please see the university website for further ...       NaN\n9  Tuition fee per year (non-EU/EEA students): 15...   16383.0",
      "text/html": "<div>\n<style scoped>\n    .dataframe tbody tr th:only-of-type {\n        vertical-align: middle;\n    }\n\n    .dataframe tbody tr th {\n        vertical-align: top;\n    }\n\n    .dataframe thead th {\n        text-align: right;\n    }\n</style>\n<table border=\"1\" class=\"dataframe\">\n  <thead>\n    <tr style=\"text-align: right;\">\n      <th></th>\n      <th>fees</th>\n      <th>fees_USD</th>\n    </tr>\n  </thead>\n  <tbody>\n    <tr>\n      <th>0</th>\n      <td>Please see the university website for further ...</td>\n      <td>NaN</td>\n    </tr>\n    <tr>\n      <th>1</th>\n      <td>UK: £18,000 (Total) International: £34,750 (To...</td>\n      <td>43706.0</td>\n    </tr>\n    <tr>\n      <th>2</th>\n      <td>Please see the university website for further ...</td>\n      <td>NaN</td>\n    </tr>\n    <tr>\n      <th>3</th>\n      <td>Please see the university website for further ...</td>\n      <td>NaN</td>\n    </tr>\n    <tr>\n      <th>4</th>\n      <td>Please see the university website for further ...</td>\n      <td>NaN</td>\n    </tr>\n    <tr>\n      <th>5</th>\n      <td>UK: £13,750 (Total) International: £31,000 (To...</td>\n      <td>38989.0</td>\n    </tr>\n    <tr>\n      <th>6</th>\n      <td>18.000 €</td>\n      <td>19659.0</td>\n    </tr>\n    <tr>\n      <th>7</th>\n      <td>18.000 €</td>\n      <td>19659.0</td>\n    </tr>\n    <tr>\n      <th>8</th>\n      <td>Please see the university website for further ...</td>\n      <td>NaN</td>\n    </tr>\n    <tr>\n      <th>9</th>\n      <td>Tuition fee per year (non-EU/EEA students): 15...</td>\n      <td>16383.0</td>\n    </tr>\n  </tbody>\n</table>\n</div>"
     },
     "execution_count": 43,
     "metadata": {},
     "output_type": "execute_result"
    }
   ],
   "source": [
    "# Save preprocessed fees into a new column, and show them\n",
    "data[\"fees_USD\"] = data[\"fees\"].apply(preprocess_fees)\n",
    "data[[\"fees\", \"fees_USD\"]].head(10)"
   ],
   "metadata": {
    "collapsed": false,
    "ExecuteTime": {
     "start_time": "2023-11-24T16:19:16.006402Z",
     "end_time": "2023-11-24T16:19:16.127362Z"
    }
   }
  },
  {
   "cell_type": "markdown",
   "metadata": {},
   "source": [
    "## 2.1. Conjunctive query\n",
    "\n",
    "### 2.1.1) Create your index!\n"
   ]
  },
  {
   "cell_type": "code",
   "execution_count": 11,
   "outputs": [],
   "source": [
    "# Store all terms contained in the \"clean_description\" as a set\n",
    "terms_set = set(','.join(data[\"clean_description\"]).split(\",\"))\n",
    "\n",
    "# Create a dict that associate each term to a unique id\n",
    "terms_id_dict = {key: value for value, key in enumerate(terms_set)}"
   ],
   "metadata": {
    "collapsed": false,
    "ExecuteTime": {
     "start_time": "2023-11-24T15:44:27.638654Z",
     "end_time": "2023-11-24T15:44:27.654346Z"
    }
   }
  },
  {
   "cell_type": "code",
   "execution_count": 12,
   "metadata": {
    "ExecuteTime": {
     "start_time": "2023-11-24T15:44:29.094643Z",
     "end_time": "2023-11-24T15:44:29.166007Z"
    }
   },
   "outputs": [],
   "source": [
    "# Here we create the inverted index dictionary.\n",
    "\n",
    "# Preallocate a dictionary with the form: {term_id : []}\n",
    "inverted_index = {i : [] for i in range(len(terms_id_dict))}\n",
    "\n",
    "# Iterating over all terms and texts in the \"clean_description\" field\n",
    "for i,text in enumerate(data[\"clean_description\"]):\n",
    "\n",
    "    text_set = set(text.split(\",\"))\n",
    "\n",
    "    for term in text_set:\n",
    "        # Get term id\n",
    "        term_id = terms_id_dict[term]\n",
    "\n",
    "        # Add document id \"i\" to the term_id list\n",
    "        inverted_index[term_id].append(i)"
   ]
  },
  {
   "cell_type": "code",
   "execution_count": 13,
   "outputs": [
    {
     "name": "stdout",
     "output_type": "stream",
     "text": [
      "{\n",
      "0: [723, 2403]\n",
      "1: [3147]\n",
      "2: [5242]\n",
      "3: [4099]\n",
      "4: [1810]\n",
      "}\n"
     ]
    }
   ],
   "source": [
    "# Show inverted_index_dict structure\n",
    "print(\"{\")\n",
    "count = 0\n",
    "for key, value in inverted_index.items():\n",
    "    if count < 5:\n",
    "        print(f'{key}: {value}')\n",
    "        count += 1\n",
    "    else:\n",
    "        break\n",
    "print(\"}\")"
   ],
   "metadata": {
    "collapsed": false,
    "ExecuteTime": {
     "start_time": "2023-11-24T15:44:30.962715Z",
     "end_time": "2023-11-24T15:44:30.973340Z"
    }
   }
  },
  {
   "cell_type": "markdown",
   "metadata": {},
   "source": [
    "### 2.1.2) Execute the query"
   ]
  },
  {
   "cell_type": "code",
   "execution_count": 14,
   "outputs": [],
   "source": [
    "# This function takes a query as a input and returns the most affine docs:\n",
    "\n",
    "def naive_search_engine(query):\n",
    "    # Apply same preprocessing done for descriptions and split wrt \",\"\n",
    "    query = preprocess_description(query).split(\",\")\n",
    "\n",
    "    # For each term in query get all the docs ids that contain it as a set\n",
    "    query_docs = [set(inverted_index[terms_id_dict[term]]) for term in query]\n",
    "\n",
    "    # Select the docs ids that contain all the query term, and sort them\n",
    "    query_docs = set.intersection(*query_docs)\n",
    "    query_docs = list(sorted(query_docs))\n",
    "\n",
    "    # Return selected columns of those docs\n",
    "    result  = data.iloc[query_docs, [0,1,4,12]]\n",
    "\n",
    "    return result"
   ],
   "metadata": {
    "collapsed": false,
    "ExecuteTime": {
     "start_time": "2023-11-24T15:44:42.227569Z",
     "end_time": "2023-11-24T15:44:42.240002Z"
    }
   }
  },
  {
   "cell_type": "code",
   "execution_count": 46,
   "outputs": [
    {
     "data": {
      "text/plain": "                                             courseName  \\\n1                          Accounting and Finance - MSc   \n4                                        Addictions MSc   \n12                            Analytical Toxicology MSc   \n48                                Civil Engineering MSc   \n86                                      Economics - MSc   \n...                                                 ...   \n5909  Master of Science/Postgraduate Diploma in Envi...   \n5937  Master Sociology – Social and Economic Psychology   \n5957                               Masters in Economics   \n5963           Master's in Global and European Politics   \n5965                  Masters in Hospitality Management   \n\n                                         universityName  \\\n1                                   University of Leeds   \n4                                 King’s College London   \n12                                King’s College London   \n48                              University of Greenwich   \n86                                  University of Leeds   \n...                                                 ...   \n5909  The Hong Kong University of Science and Techno...   \n5937                              University of Cologne   \n5957                               University of Lisbon   \n5963  European School of Political and Social Scienc...   \n5965                        Ecole hotelière de Lausanne   \n\n                                            description  \\\n1     Businesses and governments rely on sound finan...   \n4     Join us for an online session for prospective ...   \n12    The Analytical Toxicology MSc is a unique stud...   \n48    Meet the future demands of the construction in...   \n86    Our MSc Economics allows you to apply economic...   \n...                                                 ...   \n5909  The program is meant to meet the needs of prac...   \n5937  This programme provides you with:a solid found...   \n5957  OBJECTIVESThe MSc in Economics aims to provide...   \n5963  Europe and the EU in a changing worldOur inter...   \n5965  With our Master in Hospitality Management, you...   \n\n                                                    url  \n1     https://www.findamasters.com/masters-degrees/c...  \n4     https://www.findamasters.com/masters-degrees/c...  \n12    https://www.findamasters.com/masters-degrees/c...  \n48    https://www.findamasters.com/masters-degrees/c...  \n86    https://www.findamasters.com/masters-degrees/c...  \n...                                                 ...  \n5909  https://www.findamasters.com/masters-degrees/c...  \n5937  https://www.findamasters.com/masters-degrees/c...  \n5957  https://www.findamasters.com/masters-degrees/c...  \n5963  https://www.findamasters.com/masters-degrees/c...  \n5965  https://www.findamasters.com/masters-degrees/c...  \n\n[455 rows x 4 columns]",
      "text/html": "<div>\n<style scoped>\n    .dataframe tbody tr th:only-of-type {\n        vertical-align: middle;\n    }\n\n    .dataframe tbody tr th {\n        vertical-align: top;\n    }\n\n    .dataframe thead th {\n        text-align: right;\n    }\n</style>\n<table border=\"1\" class=\"dataframe\">\n  <thead>\n    <tr style=\"text-align: right;\">\n      <th></th>\n      <th>courseName</th>\n      <th>universityName</th>\n      <th>description</th>\n      <th>url</th>\n    </tr>\n  </thead>\n  <tbody>\n    <tr>\n      <th>1</th>\n      <td>Accounting and Finance - MSc</td>\n      <td>University of Leeds</td>\n      <td>Businesses and governments rely on sound finan...</td>\n      <td>https://www.findamasters.com/masters-degrees/c...</td>\n    </tr>\n    <tr>\n      <th>4</th>\n      <td>Addictions MSc</td>\n      <td>King’s College London</td>\n      <td>Join us for an online session for prospective ...</td>\n      <td>https://www.findamasters.com/masters-degrees/c...</td>\n    </tr>\n    <tr>\n      <th>12</th>\n      <td>Analytical Toxicology MSc</td>\n      <td>King’s College London</td>\n      <td>The Analytical Toxicology MSc is a unique stud...</td>\n      <td>https://www.findamasters.com/masters-degrees/c...</td>\n    </tr>\n    <tr>\n      <th>48</th>\n      <td>Civil Engineering MSc</td>\n      <td>University of Greenwich</td>\n      <td>Meet the future demands of the construction in...</td>\n      <td>https://www.findamasters.com/masters-degrees/c...</td>\n    </tr>\n    <tr>\n      <th>86</th>\n      <td>Economics - MSc</td>\n      <td>University of Leeds</td>\n      <td>Our MSc Economics allows you to apply economic...</td>\n      <td>https://www.findamasters.com/masters-degrees/c...</td>\n    </tr>\n    <tr>\n      <th>...</th>\n      <td>...</td>\n      <td>...</td>\n      <td>...</td>\n      <td>...</td>\n    </tr>\n    <tr>\n      <th>5909</th>\n      <td>Master of Science/Postgraduate Diploma in Envi...</td>\n      <td>The Hong Kong University of Science and Techno...</td>\n      <td>The program is meant to meet the needs of prac...</td>\n      <td>https://www.findamasters.com/masters-degrees/c...</td>\n    </tr>\n    <tr>\n      <th>5937</th>\n      <td>Master Sociology – Social and Economic Psychology</td>\n      <td>University of Cologne</td>\n      <td>This programme provides you with:a solid found...</td>\n      <td>https://www.findamasters.com/masters-degrees/c...</td>\n    </tr>\n    <tr>\n      <th>5957</th>\n      <td>Masters in Economics</td>\n      <td>University of Lisbon</td>\n      <td>OBJECTIVESThe MSc in Economics aims to provide...</td>\n      <td>https://www.findamasters.com/masters-degrees/c...</td>\n    </tr>\n    <tr>\n      <th>5963</th>\n      <td>Master's in Global and European Politics</td>\n      <td>European School of Political and Social Scienc...</td>\n      <td>Europe and the EU in a changing worldOur inter...</td>\n      <td>https://www.findamasters.com/masters-degrees/c...</td>\n    </tr>\n    <tr>\n      <th>5965</th>\n      <td>Masters in Hospitality Management</td>\n      <td>Ecole hotelière de Lausanne</td>\n      <td>With our Master in Hospitality Management, you...</td>\n      <td>https://www.findamasters.com/masters-degrees/c...</td>\n    </tr>\n  </tbody>\n</table>\n<p>455 rows × 4 columns</p>\n</div>"
     },
     "execution_count": 46,
     "metadata": {},
     "output_type": "execute_result"
    }
   ],
   "source": [
    "naive_search_engine(\"advanced knowledge\")"
   ],
   "metadata": {
    "collapsed": false,
    "ExecuteTime": {
     "start_time": "2023-11-24T16:21:05.955052Z",
     "end_time": "2023-11-24T16:21:05.971170Z"
    }
   }
  },
  {
   "cell_type": "markdown",
   "source": [
    "## 2.2) Conjunctive query & Ranking score\n",
    "\n",
    "### 2.2.1) Inverted index\n"
   ],
   "metadata": {
    "collapsed": false
   }
  },
  {
   "cell_type": "code",
   "execution_count": 16,
   "outputs": [],
   "source": [
    "# Here we create the second inverted index dictionary.\n",
    "\n",
    "# Preallocate a dictionary with the form: {term_id : [(doc_id, tfidf_score)]}\n",
    "new_inverted_index = {i : [] for i in range(len(terms_id_dict))}\n",
    "\n",
    "# Iterating over all terms and texts in the \"clean_description\" field\n",
    "for i, text in enumerate(data[\"clean_description\"]):\n",
    "\n",
    "    text_list = text.split(\",\")\n",
    "\n",
    "    # \"set\" here has the purpose of selecting unique terms only.\n",
    "    for term in set(text_list):\n",
    "\n",
    "        # Get term id\n",
    "        term_id = terms_id_dict[term]\n",
    "\n",
    "        # Get idf score: log( total number of documents / number of documents term is in )\n",
    "        term_idf = np.log(len(data[\"clean_description\"]) / len(inverted_index[term_id]))\n",
    "\n",
    "        # Get tf score: number of times term appears in text / total number of terms in text\n",
    "        term_tf =  text_list.count(term) / len(text_list)\n",
    "\n",
    "        # Compute tfidf score\n",
    "        term_tfidf = term_tf * term_idf\n",
    "\n",
    "        # Update new_inverted_index list with a tuple\n",
    "        new_inverted_index[term_id].append((i , term_tfidf))"
   ],
   "metadata": {
    "collapsed": false,
    "ExecuteTime": {
     "start_time": "2023-11-24T15:44:49.529475Z",
     "end_time": "2023-11-24T15:44:50.839116Z"
    }
   }
  },
  {
   "cell_type": "code",
   "execution_count": 17,
   "outputs": [
    {
     "name": "stdout",
     "output_type": "stream",
     "text": [
      "{\n",
      "0: [(723, 0.08968239647968411), (2403, 0.12471458260456071)]\n",
      "1: [(3147, 0.19715637425572347)]\n",
      "2: [(5242, 0.1084360058406479)]\n",
      "3: [(4099, 0.3098171595447083)]\n",
      "4: [(1810, 0.1422111552008497)]\n",
      "}\n"
     ]
    }
   ],
   "source": [
    "# Show new_inverted_index structure\n",
    "print(\"{\")\n",
    "count = 0\n",
    "for key, value in new_inverted_index.items():\n",
    "    if count < 5:\n",
    "        print(f'{key}: {value}')\n",
    "        count += 1\n",
    "    else:\n",
    "        break\n",
    "print(\"}\")"
   ],
   "metadata": {
    "collapsed": false,
    "ExecuteTime": {
     "start_time": "2023-11-24T15:44:53.459147Z",
     "end_time": "2023-11-24T15:44:53.479984Z"
    }
   }
  },
  {
   "cell_type": "markdown",
   "source": [
    "In the execution of queries  we will use the inverted index dictionary defined below, which transforms the list of tuples contained in new_inverted_index into a dictionary.\n",
    "With this structure **tfidf(term_id, doc_id) = new_inverted_index_as_dict[term_id][doc_id]**"
   ],
   "metadata": {
    "collapsed": false
   }
  },
  {
   "cell_type": "code",
   "execution_count": 18,
   "outputs": [],
   "source": [
    "# Convert new_inverted_index values to dictionaries\n",
    "new_inverted_index_as_dict = {key : dict(new_inverted_index[key]) for key in new_inverted_index.keys()}"
   ],
   "metadata": {
    "collapsed": false,
    "ExecuteTime": {
     "start_time": "2023-11-24T15:45:04.043463Z",
     "end_time": "2023-11-24T15:45:04.119408Z"
    }
   }
  },
  {
   "cell_type": "code",
   "execution_count": 19,
   "outputs": [
    {
     "name": "stdout",
     "output_type": "stream",
     "text": [
      "{\n",
      "0: {723: 0.08968239647968411, 2403: 0.12471458260456071}\n",
      "1: {3147: 0.19715637425572347}\n",
      "2: {5242: 0.1084360058406479}\n",
      "3: {4099: 0.3098171595447083}\n",
      "4: {1810: 0.1422111552008497}\n",
      "}\n"
     ]
    }
   ],
   "source": [
    "# Show new_inverted_index_as_dict structure\n",
    "print(\"{\")\n",
    "count = 0\n",
    "for key, value in new_inverted_index_as_dict.items():\n",
    "    if count < 5:\n",
    "        print(f'{key}: {value}')\n",
    "        count += 1\n",
    "    else:\n",
    "        break\n",
    "print(\"}\")"
   ],
   "metadata": {
    "collapsed": false,
    "ExecuteTime": {
     "start_time": "2023-11-24T15:45:05.592169Z",
     "end_time": "2023-11-24T15:45:05.603245Z"
    }
   }
  },
  {
   "cell_type": "markdown",
   "source": [
    "## 2.2.2) Execute the query\n",
    "\n",
    "We define our second search engine below"
   ],
   "metadata": {
    "collapsed": false
   }
  },
  {
   "cell_type": "code",
   "execution_count": 20,
   "outputs": [],
   "source": [
    "# This function computes from scratch cosine similarity\n",
    "def cosine_similarity(vec1, vec2):\n",
    "\n",
    "    dot_product = np.dot(vec1, vec2)\n",
    "    norm_vec1 = np.linalg.norm(vec1)\n",
    "    norm_vec2 = np.linalg.norm(vec2)\n",
    "\n",
    "    # Handle division by zero\n",
    "    if norm_vec1 == 0 or norm_vec2 == 0:\n",
    "        return 0\n",
    "\n",
    "    similarity = dot_product / (norm_vec1 * norm_vec2)\n",
    "    return similarity\n",
    "\n",
    "def  top_k_search_engine(query, k):\n",
    "\n",
    "    # Apply same preprocessing done for descriptions and split wrt \",\"\n",
    "    query = preprocess_description(query).split(\",\")\n",
    "\n",
    "    # Get query terms ids\n",
    "    query_terms_ids = [terms_id_dict[term] for term in set(query)]\n",
    "\n",
    "    # Calculate for each term in query its tfidf score\n",
    "    query_terms_idf = np.array([np.log(len(data[\"clean_description\"]) / len(inverted_index[term_id])) for term_id in query_terms_ids])\n",
    "    query_terms_tf =  np.array([query.count(term) / len(query) for term in set(query)])\n",
    "    query_terms_tfidf = query_terms_idf * query_terms_tf\n",
    "\n",
    "    # Create the tfidf representation of the query\n",
    "    query_tfidf = np.zeros(len(terms_set))\n",
    "    query_tfidf[query_terms_ids] = query_terms_tfidf\n",
    "\n",
    "    # Get the indexes of docs that contain all terms in query using the first inverted index dict\n",
    "    docs_ids = [set(inverted_index[term_id]) for term_id in query_terms_ids]\n",
    "    appropriate_docs_ids = list(set.intersection(*docs_ids))\n",
    "\n",
    "    # docs_tfidf will contain for each doc its tfidf vectorial representation.\n",
    "    docs_tfidf = {i : [] for i in appropriate_docs_ids}\n",
    "\n",
    "    for doc_id in appropriate_docs_ids:\n",
    "        doc_tfidf = np.zeros(len(terms_set))\n",
    "        doc = data[\"clean_description\"].iloc[doc_id].split(\",\")\n",
    "\n",
    "        for term in set(doc):\n",
    "            term_id = terms_id_dict[term]\n",
    "            doc_tfidf[term_id] = new_inverted_index_as_dict[term_id][doc_id]\n",
    "        docs_tfidf[doc_id] = doc_tfidf\n",
    "\n",
    "\n",
    "    # Compute cosine similarities between query_tfidf and each doc_tfidf\n",
    "    cos_sims = [cosine_similarity(query_tfidf, docs_tfidf[key]) for key in appropriate_docs_ids]\n",
    "\n",
    "\n",
    "    # Select all appropriate_docs_ids from data and specified columns\n",
    "    result  = data.iloc[appropriate_docs_ids, [0,1,4,12]]\n",
    "\n",
    "    # Add the cosine similarity score and sort the dataframe\n",
    "    result[\"cos_sim\"] = cos_sims\n",
    "    result = result.sort_values(by='cos_sim', ascending=False)\n",
    "\n",
    "    # Get, if possible, just the top k\n",
    "    if k < result.shape[0]:\n",
    "        result = result[:k]\n",
    "\n",
    "    return result"
   ],
   "metadata": {
    "collapsed": false,
    "ExecuteTime": {
     "start_time": "2023-11-24T15:45:09.550292Z",
     "end_time": "2023-11-24T15:45:09.584794Z"
    }
   }
  },
  {
   "cell_type": "code",
   "execution_count": 21,
   "outputs": [
    {
     "data": {
      "text/plain": "                                      courseName  \\\n756                       Advanced Computing MSc   \n701               Advanced Clinical Practice MSc   \n931                     Advancing Practice - MSc   \n654             Advanced Clinical Practice - MSc   \n830  Advanced Mechanical Engineering - MSc (Eng)   \n897         Advanced Professional Practice (MSc)   \n653             Advanced Clinical Practice - MSc   \n786           Advanced Healthcare Practice - MSc   \n712         Advanced Clinical Practitioner - MSc   \n892          Advanced Practice in Healthcare MSc   \n\n                          universityName  \\\n756                King’s College London   \n701              University of Greenwich   \n931            University of Northampton   \n654  Canterbury Christ Church University   \n830                  University of Leeds   \n897        University of Gloucestershire   \n653            University of Northampton   \n786                   Cardiff University   \n712             University of Sunderland   \n892              University of Liverpool   \n\n                                           description  \\\n756  Our Advanced Computing MSc provides knowledge ...   \n701  Learn essential strategies and prepare for lea...   \n931  Our MSc Advancing Practice awards support the ...   \n654  Gain the knowledge and skills needed to become...   \n830  This course offers a broad range of advanced s...   \n897  Our lecturers are research active experts who ...   \n653  Our MSc Advanced Clinical Practice course aims...   \n786  Why study this courseOur MSc Advanced Healthca...   \n712  The MSc Advanced Clinical Practitioner is a hi...   \n892  Explore specialist areas of practice in-depth ...   \n\n                                                   url   cos_sim  \n756  https://www.findamasters.com/masters-degrees/c...  0.361235  \n701  https://www.findamasters.com/masters-degrees/c...  0.333983  \n931  https://www.findamasters.com/masters-degrees/c...  0.325750  \n654  https://www.findamasters.com/masters-degrees/c...  0.283256  \n830  https://www.findamasters.com/masters-degrees/c...  0.279986  \n897  https://www.findamasters.com/masters-degrees/c...  0.270317  \n653  https://www.findamasters.com/masters-degrees/c...  0.270123  \n786  https://www.findamasters.com/masters-degrees/c...  0.267574  \n712  https://www.findamasters.com/masters-degrees/c...  0.251893  \n892  https://www.findamasters.com/masters-degrees/c...  0.250338  ",
      "text/html": "<div>\n<style scoped>\n    .dataframe tbody tr th:only-of-type {\n        vertical-align: middle;\n    }\n\n    .dataframe tbody tr th {\n        vertical-align: top;\n    }\n\n    .dataframe thead th {\n        text-align: right;\n    }\n</style>\n<table border=\"1\" class=\"dataframe\">\n  <thead>\n    <tr style=\"text-align: right;\">\n      <th></th>\n      <th>courseName</th>\n      <th>universityName</th>\n      <th>description</th>\n      <th>url</th>\n      <th>cos_sim</th>\n    </tr>\n  </thead>\n  <tbody>\n    <tr>\n      <th>756</th>\n      <td>Advanced Computing MSc</td>\n      <td>King’s College London</td>\n      <td>Our Advanced Computing MSc provides knowledge ...</td>\n      <td>https://www.findamasters.com/masters-degrees/c...</td>\n      <td>0.361235</td>\n    </tr>\n    <tr>\n      <th>701</th>\n      <td>Advanced Clinical Practice MSc</td>\n      <td>University of Greenwich</td>\n      <td>Learn essential strategies and prepare for lea...</td>\n      <td>https://www.findamasters.com/masters-degrees/c...</td>\n      <td>0.333983</td>\n    </tr>\n    <tr>\n      <th>931</th>\n      <td>Advancing Practice - MSc</td>\n      <td>University of Northampton</td>\n      <td>Our MSc Advancing Practice awards support the ...</td>\n      <td>https://www.findamasters.com/masters-degrees/c...</td>\n      <td>0.325750</td>\n    </tr>\n    <tr>\n      <th>654</th>\n      <td>Advanced Clinical Practice - MSc</td>\n      <td>Canterbury Christ Church University</td>\n      <td>Gain the knowledge and skills needed to become...</td>\n      <td>https://www.findamasters.com/masters-degrees/c...</td>\n      <td>0.283256</td>\n    </tr>\n    <tr>\n      <th>830</th>\n      <td>Advanced Mechanical Engineering - MSc (Eng)</td>\n      <td>University of Leeds</td>\n      <td>This course offers a broad range of advanced s...</td>\n      <td>https://www.findamasters.com/masters-degrees/c...</td>\n      <td>0.279986</td>\n    </tr>\n    <tr>\n      <th>897</th>\n      <td>Advanced Professional Practice (MSc)</td>\n      <td>University of Gloucestershire</td>\n      <td>Our lecturers are research active experts who ...</td>\n      <td>https://www.findamasters.com/masters-degrees/c...</td>\n      <td>0.270317</td>\n    </tr>\n    <tr>\n      <th>653</th>\n      <td>Advanced Clinical Practice - MSc</td>\n      <td>University of Northampton</td>\n      <td>Our MSc Advanced Clinical Practice course aims...</td>\n      <td>https://www.findamasters.com/masters-degrees/c...</td>\n      <td>0.270123</td>\n    </tr>\n    <tr>\n      <th>786</th>\n      <td>Advanced Healthcare Practice - MSc</td>\n      <td>Cardiff University</td>\n      <td>Why study this courseOur MSc Advanced Healthca...</td>\n      <td>https://www.findamasters.com/masters-degrees/c...</td>\n      <td>0.267574</td>\n    </tr>\n    <tr>\n      <th>712</th>\n      <td>Advanced Clinical Practitioner - MSc</td>\n      <td>University of Sunderland</td>\n      <td>The MSc Advanced Clinical Practitioner is a hi...</td>\n      <td>https://www.findamasters.com/masters-degrees/c...</td>\n      <td>0.251893</td>\n    </tr>\n    <tr>\n      <th>892</th>\n      <td>Advanced Practice in Healthcare MSc</td>\n      <td>University of Liverpool</td>\n      <td>Explore specialist areas of practice in-depth ...</td>\n      <td>https://www.findamasters.com/masters-degrees/c...</td>\n      <td>0.250338</td>\n    </tr>\n  </tbody>\n</table>\n</div>"
     },
     "execution_count": 21,
     "metadata": {},
     "output_type": "execute_result"
    }
   ],
   "source": [
    "top_k_search_engine(\"advanced knowledge\", k = 10)"
   ],
   "metadata": {
    "collapsed": false,
    "ExecuteTime": {
     "start_time": "2023-11-24T15:45:16.276888Z",
     "end_time": "2023-11-24T15:45:16.617308Z"
    }
   }
  },
  {
   "cell_type": "markdown",
   "source": [
    "## 3. Define a new score!\n",
    "Now it's your turn: build a new metric to rank MSc degrees.\n",
    "\n",
    "Practically:\n",
    "\n",
    "The user will enter a text query. As a starting point, get the query-related documents by exploiting the search engine of Step 2.1.\n",
    "Once you have the documents, you need to sort them according to your new score. In this step, you won't have any more to take into account just the description field of the documents; you can use also the remaining variables in your dataset (or new possible variables that you can create from the existing ones or scrape again from the original web-pages). You must use a heap data structure (you can use Python libraries) for maintaining the top-k documents.\n",
    "N.B.: You have to define a scoring function, not a filter!\n",
    "\n",
    "The output, must contain:\n",
    "\n",
    "courseName\n",
    "universityName\n",
    "description\n",
    "URL\n",
    "The new similarity score of the documents with respect to the query\n",
    "Are the results you obtain better than with the previous scoring function? Explain and compare results."
   ],
   "metadata": {
    "collapsed": false
   }
  },
  {
   "cell_type": "markdown",
   "source": [
    "### Answer\n",
    "\n",
    "To develop our customized search engine, we opted to gather supplementary information for each university.\n",
    "Recognizing that the selection of the \"ideal\" university is influenced by the city in which one resides, we chose to extract scores reflecting the quality of life in each city.\n",
    "\n",
    "The following function used the [Teleport](https://teleport.org/) API to retrieve, for each city in our Data, three scores:\n",
    "- Education score;\n",
    "- Safety score;\n",
    "- Cost of living score.\n",
    "\n",
    "All of them are normalized in $[0,10]$.\n",
    "When a city was not integrated into the teleport API, our solution was to obtain the scores associated with the capital of the country in which the city is located. In order to do so we will use the country field of our data in union with the \"country_capital_dict\", which maps each country to its capital."
   ],
   "metadata": {
    "collapsed": false
   }
  },
  {
   "cell_type": "code",
   "execution_count": 41,
   "outputs": [],
   "source": [
    "# Load country_capital_dict\n",
    "with open(\"country_capital_dict.json\", 'r') as json_file:\n",
    "    country_capital_dict = json.load(json_file)\n",
    "\n",
    "# This function returns life quality scores for each city\n",
    "def get_scores_out_of_ten(city):\n",
    "    # Handle different data types\n",
    "    city = str(city)\n",
    "\n",
    "    try:\n",
    "        # Try to get URL of the initial city\n",
    "        base_url = f\"https://api.teleport.org/api/urban_areas/slug:{city.lower()}/scores/\"\n",
    "        response = requests.get(base_url)\n",
    "\n",
    "        # If city not found, retrieve URL of capital city\n",
    "        if response.status_code == 404:\n",
    "\n",
    "            # Retrieve the country of the city\n",
    "            country = data[data[\"city\"] == city][\"country\"].iloc[0]\n",
    "\n",
    "            # Retrieve capital city from  the country\n",
    "            capital_city = country_capital_dict[country]\n",
    "\n",
    "            # Try to get URL of the capital city\n",
    "            base_url = f\"https://api.teleport.org/api/urban_areas/slug:{capital_city.lower()}/scores/\"\n",
    "            response = requests.get(base_url)\n",
    "\n",
    "            # If capital city not found, return error\n",
    "            if response.status_code == 404:\n",
    "                return (\"City not found\", \"City not found\", \"City not found\")\n",
    "\n",
    "        # Retrieve scores from URL\n",
    "        datas = response.json()\n",
    "\n",
    "        # Retrieve all categories scores\n",
    "        categories = datas['categories']\n",
    "        scores = {category[\"name\"] : float(category[\"score_out_of_10\"]) for  category in categories}\n",
    "\n",
    "        # Return Cost of Living, Education and Safety\n",
    "        return (scores[\"Cost of Living\"],\n",
    "                scores[\"Education\"],\n",
    "                scores[\"Safety\"])\n",
    "\n",
    "\n",
    "    except requests.exceptions.RequestException as e:\n",
    "        return {'error': f'Request to Teleport API failed: {e}'}"
   ],
   "metadata": {
    "collapsed": false,
    "ExecuteTime": {
     "start_time": "2023-11-24T16:18:03.111199Z",
     "end_time": "2023-11-24T16:18:03.134968Z"
    }
   }
  },
  {
   "cell_type": "code",
   "execution_count": 24,
   "outputs": [],
   "source": [
    "# Create three new columns for our new scores (around 10m to run)\n",
    "data[['Cost_of_Living', 'Education', 'Safety']] = data.city.apply(lambda x: pd.Series(get_scores_out_of_ten(x)))"
   ],
   "metadata": {
    "collapsed": false,
    "ExecuteTime": {
     "start_time": "2023-11-24T15:45:47.011287Z",
     "end_time": "2023-11-24T15:59:06.529557Z"
    }
   }
  },
  {
   "cell_type": "code",
   "execution_count": 37,
   "outputs": [
    {
     "data": {
      "text/plain": "       city  Cost_of_Living  Education  Safety\n0   Glasgow           5.623     5.3065  7.4960\n1     Leeds           5.363     4.9825  7.7310\n2    London           3.940     9.0270  7.2435\n3   Reading           3.940     9.0270  7.2435\n4    London           3.940     9.0270  7.2435\n5     Leeds           5.363     4.9825  7.7310\n6  Brussels           4.477     6.6530  6.7030\n7  Brussels           4.477     6.6530  6.7030\n8   Glasgow           5.623     5.3065  7.4960\n9  Helsinki           4.121     5.4545  8.6740",
      "text/html": "<div>\n<style scoped>\n    .dataframe tbody tr th:only-of-type {\n        vertical-align: middle;\n    }\n\n    .dataframe tbody tr th {\n        vertical-align: top;\n    }\n\n    .dataframe thead th {\n        text-align: right;\n    }\n</style>\n<table border=\"1\" class=\"dataframe\">\n  <thead>\n    <tr style=\"text-align: right;\">\n      <th></th>\n      <th>city</th>\n      <th>Cost_of_Living</th>\n      <th>Education</th>\n      <th>Safety</th>\n    </tr>\n  </thead>\n  <tbody>\n    <tr>\n      <th>0</th>\n      <td>Glasgow</td>\n      <td>5.623</td>\n      <td>5.3065</td>\n      <td>7.4960</td>\n    </tr>\n    <tr>\n      <th>1</th>\n      <td>Leeds</td>\n      <td>5.363</td>\n      <td>4.9825</td>\n      <td>7.7310</td>\n    </tr>\n    <tr>\n      <th>2</th>\n      <td>London</td>\n      <td>3.940</td>\n      <td>9.0270</td>\n      <td>7.2435</td>\n    </tr>\n    <tr>\n      <th>3</th>\n      <td>Reading</td>\n      <td>3.940</td>\n      <td>9.0270</td>\n      <td>7.2435</td>\n    </tr>\n    <tr>\n      <th>4</th>\n      <td>London</td>\n      <td>3.940</td>\n      <td>9.0270</td>\n      <td>7.2435</td>\n    </tr>\n    <tr>\n      <th>5</th>\n      <td>Leeds</td>\n      <td>5.363</td>\n      <td>4.9825</td>\n      <td>7.7310</td>\n    </tr>\n    <tr>\n      <th>6</th>\n      <td>Brussels</td>\n      <td>4.477</td>\n      <td>6.6530</td>\n      <td>6.7030</td>\n    </tr>\n    <tr>\n      <th>7</th>\n      <td>Brussels</td>\n      <td>4.477</td>\n      <td>6.6530</td>\n      <td>6.7030</td>\n    </tr>\n    <tr>\n      <th>8</th>\n      <td>Glasgow</td>\n      <td>5.623</td>\n      <td>5.3065</td>\n      <td>7.4960</td>\n    </tr>\n    <tr>\n      <th>9</th>\n      <td>Helsinki</td>\n      <td>4.121</td>\n      <td>5.4545</td>\n      <td>8.6740</td>\n    </tr>\n  </tbody>\n</table>\n</div>"
     },
     "execution_count": 37,
     "metadata": {},
     "output_type": "execute_result"
    }
   ],
   "source": [
    "# Show the new columns\n",
    "data[['city','Cost_of_Living', 'Education', 'Safety']].head(10)"
   ],
   "metadata": {
    "collapsed": false,
    "ExecuteTime": {
     "start_time": "2023-11-24T16:11:15.083756Z",
     "end_time": "2023-11-24T16:11:15.133181Z"
    }
   }
  },
  {
   "cell_type": "markdown",
   "source": [
    "Those scores will affect the importance our custom search engine gives to each university.\n",
    "As an initial and naive approach we decided to keep thinks linear and just compute the new score as shown below:\n",
    "\n",
    "\\begin{equation}\n",
    "$NewScore = \\frac{CosSimilarity \\cdot Education \\cdot Safety }{LivingCost}$\n",
    "\\end{equation}\n",
    "\n",
    "\n",
    "The following function follows the one already shown previously but orders the result with respect to the new score we just defined."
   ],
   "metadata": {
    "collapsed": false
   }
  },
  {
   "cell_type": "code",
   "execution_count": 29,
   "outputs": [],
   "source": [
    "def  custom_search_engine(query, k):\n",
    "\n",
    "    # Apply same preprocessing done for descriptions and split wrt \",\"\n",
    "    query = preprocess_description(query).split(\",\")\n",
    "\n",
    "    # Get query terms ids\n",
    "    query_terms_ids = [terms_id_dict[term] for term in set(query)]\n",
    "\n",
    "    # Calculate for each term in query its tfidf score\n",
    "    query_terms_idf = np.array([np.log(len(data[\"clean_description\"]) / len(inverted_index[term_id])) for term_id in query_terms_ids])\n",
    "    query_terms_tf =  np.array([query.count(term) / len(query) for term in set(query)])\n",
    "    query_terms_tfidf = query_terms_idf * query_terms_tf\n",
    "\n",
    "    # Create the tfidf representation of the query\n",
    "    query_tfidf = np.zeros(len(terms_set))\n",
    "    query_tfidf[query_terms_ids] = query_terms_tfidf\n",
    "\n",
    "    # Get the indexes of docs that contain all terms in query using the first inverted index dict\n",
    "    docs_ids = [set(inverted_index[term_id]) for term_id in query_terms_ids]\n",
    "    appropriate_docs_ids = list(set.intersection(*docs_ids))\n",
    "\n",
    "    # docs_tfidf will contain for each doc its tfidf vectorial representation.\n",
    "    docs_tfidf = {i : [] for i in appropriate_docs_ids}\n",
    "\n",
    "    for doc_id in appropriate_docs_ids:\n",
    "        doc_tfidf = np.zeros(len(terms_set))\n",
    "        doc = data[\"clean_description\"].iloc[doc_id].split(\",\")\n",
    "\n",
    "        for term in set(doc):\n",
    "            term_id = terms_id_dict[term]\n",
    "            doc_tfidf[term_id] = new_inverted_index_as_dict[term_id][doc_id]\n",
    "        docs_tfidf[doc_id] = doc_tfidf\n",
    "\n",
    "\n",
    "    # Compute cosine similarities between query_tfidf and each doc_tfidf\n",
    "    cos_sims = [cosine_similarity(query_tfidf, docs_tfidf[key]) for key in appropriate_docs_ids]\n",
    "\n",
    "\n",
    "    # Select all appropriate_docs_ids from data and specified columns\n",
    "    result  = data.iloc[appropriate_docs_ids, [0,1,4,12, -3, -2, -1]]\n",
    "\n",
    "    # Add the cosine similarity score\n",
    "    result[\"cos_sim\"] = cos_sims\n",
    "\n",
    "    # Compute our custom score\n",
    "    our_score = result[\"cos_sim\"] * result[\"Education\"] * result[\"Safety\"] / result[\"Cost_of_Living\"]\n",
    "\n",
    "    # Add the cosine similarity score and sort the dataframe\n",
    "    result[\"score\"] = our_score\n",
    "    result = result.sort_values(by='score', ascending=False)\n",
    "\n",
    "    # Get, if possible, just the top k\n",
    "    if k < result.shape[0]:\n",
    "        result = result[:k]\n",
    "\n",
    "    return result"
   ],
   "metadata": {
    "collapsed": false,
    "ExecuteTime": {
     "start_time": "2023-11-24T16:00:28.540422Z",
     "end_time": "2023-11-24T16:00:28.558597Z"
    }
   }
  },
  {
   "cell_type": "code",
   "execution_count": 42,
   "outputs": [
    {
     "data": {
      "text/plain": "                                             courseName  \\\n5965                  Masters in Hospitality Management   \n756                              Advanced Computing MSc   \n701                      Advanced Clinical Practice MSc   \n931                            Advancing Practice - MSc   \n654                    Advanced Clinical Practice - MSc   \n897                Advanced Professional Practice (MSc)   \n653                    Advanced Clinical Practice - MSc   \n712                Advanced Clinical Practitioner - MSc   \n622               Advanced Biomedical Engineering - MSc   \n670   Advanced Clinical Practice (AHP) - MSc/PGDip/P...   \n\n                           universityName  \\\n5965          Ecole hotelière de Lausanne   \n756                 King’s College London   \n701               University of Greenwich   \n931             University of Northampton   \n654   Canterbury Christ Church University   \n897         University of Gloucestershire   \n653             University of Northampton   \n712              University of Sunderland   \n622                University of Bradford   \n670                     Bangor University   \n\n                                            description  \\\n5965  With our Master in Hospitality Management, you...   \n756   Our Advanced Computing MSc provides knowledge ...   \n701   Learn essential strategies and prepare for lea...   \n931   Our MSc Advancing Practice awards support the ...   \n654   Gain the knowledge and skills needed to become...   \n897   Our lecturers are research active experts who ...   \n653   Our MSc Advanced Clinical Practice course aims...   \n712   The MSc Advanced Clinical Practitioner is a hi...   \n622   Biomedical engineering is a fast evolving inte...   \n670   The programme has been developed to enhance pr...   \n\n                                                    url  Cost_of_Living  \\\n5965  https://www.findamasters.com/masters-degrees/c...            1.00   \n756   https://www.findamasters.com/masters-degrees/c...            3.94   \n701   https://www.findamasters.com/masters-degrees/c...            3.94   \n931   https://www.findamasters.com/masters-degrees/c...            3.94   \n654   https://www.findamasters.com/masters-degrees/c...            3.94   \n897   https://www.findamasters.com/masters-degrees/c...            3.94   \n653   https://www.findamasters.com/masters-degrees/c...            3.94   \n712   https://www.findamasters.com/masters-degrees/c...            3.94   \n622   https://www.findamasters.com/masters-degrees/c...            3.94   \n670   https://www.findamasters.com/masters-degrees/c...            3.94   \n\n      Education  Safety   cos_sim     score  \n5965      6.622  8.0325  0.113095  6.015666  \n756       9.027  7.2435  0.361235  5.994941  \n701       9.027  7.2435  0.333983  5.542688  \n931       9.027  7.2435  0.325750  5.406058  \n654       9.027  7.2435  0.283256  4.700829  \n897       9.027  7.2435  0.270317  4.486097  \n653       9.027  7.2435  0.270123  4.482883  \n712       9.027  7.2435  0.251893  4.180335  \n622       9.027  7.2435  0.243003  4.032800  \n670       9.027  7.2435  0.230842  3.830989  ",
      "text/html": "<div>\n<style scoped>\n    .dataframe tbody tr th:only-of-type {\n        vertical-align: middle;\n    }\n\n    .dataframe tbody tr th {\n        vertical-align: top;\n    }\n\n    .dataframe thead th {\n        text-align: right;\n    }\n</style>\n<table border=\"1\" class=\"dataframe\">\n  <thead>\n    <tr style=\"text-align: right;\">\n      <th></th>\n      <th>courseName</th>\n      <th>universityName</th>\n      <th>description</th>\n      <th>url</th>\n      <th>Cost_of_Living</th>\n      <th>Education</th>\n      <th>Safety</th>\n      <th>cos_sim</th>\n      <th>score</th>\n    </tr>\n  </thead>\n  <tbody>\n    <tr>\n      <th>5965</th>\n      <td>Masters in Hospitality Management</td>\n      <td>Ecole hotelière de Lausanne</td>\n      <td>With our Master in Hospitality Management, you...</td>\n      <td>https://www.findamasters.com/masters-degrees/c...</td>\n      <td>1.00</td>\n      <td>6.622</td>\n      <td>8.0325</td>\n      <td>0.113095</td>\n      <td>6.015666</td>\n    </tr>\n    <tr>\n      <th>756</th>\n      <td>Advanced Computing MSc</td>\n      <td>King’s College London</td>\n      <td>Our Advanced Computing MSc provides knowledge ...</td>\n      <td>https://www.findamasters.com/masters-degrees/c...</td>\n      <td>3.94</td>\n      <td>9.027</td>\n      <td>7.2435</td>\n      <td>0.361235</td>\n      <td>5.994941</td>\n    </tr>\n    <tr>\n      <th>701</th>\n      <td>Advanced Clinical Practice MSc</td>\n      <td>University of Greenwich</td>\n      <td>Learn essential strategies and prepare for lea...</td>\n      <td>https://www.findamasters.com/masters-degrees/c...</td>\n      <td>3.94</td>\n      <td>9.027</td>\n      <td>7.2435</td>\n      <td>0.333983</td>\n      <td>5.542688</td>\n    </tr>\n    <tr>\n      <th>931</th>\n      <td>Advancing Practice - MSc</td>\n      <td>University of Northampton</td>\n      <td>Our MSc Advancing Practice awards support the ...</td>\n      <td>https://www.findamasters.com/masters-degrees/c...</td>\n      <td>3.94</td>\n      <td>9.027</td>\n      <td>7.2435</td>\n      <td>0.325750</td>\n      <td>5.406058</td>\n    </tr>\n    <tr>\n      <th>654</th>\n      <td>Advanced Clinical Practice - MSc</td>\n      <td>Canterbury Christ Church University</td>\n      <td>Gain the knowledge and skills needed to become...</td>\n      <td>https://www.findamasters.com/masters-degrees/c...</td>\n      <td>3.94</td>\n      <td>9.027</td>\n      <td>7.2435</td>\n      <td>0.283256</td>\n      <td>4.700829</td>\n    </tr>\n    <tr>\n      <th>897</th>\n      <td>Advanced Professional Practice (MSc)</td>\n      <td>University of Gloucestershire</td>\n      <td>Our lecturers are research active experts who ...</td>\n      <td>https://www.findamasters.com/masters-degrees/c...</td>\n      <td>3.94</td>\n      <td>9.027</td>\n      <td>7.2435</td>\n      <td>0.270317</td>\n      <td>4.486097</td>\n    </tr>\n    <tr>\n      <th>653</th>\n      <td>Advanced Clinical Practice - MSc</td>\n      <td>University of Northampton</td>\n      <td>Our MSc Advanced Clinical Practice course aims...</td>\n      <td>https://www.findamasters.com/masters-degrees/c...</td>\n      <td>3.94</td>\n      <td>9.027</td>\n      <td>7.2435</td>\n      <td>0.270123</td>\n      <td>4.482883</td>\n    </tr>\n    <tr>\n      <th>712</th>\n      <td>Advanced Clinical Practitioner - MSc</td>\n      <td>University of Sunderland</td>\n      <td>The MSc Advanced Clinical Practitioner is a hi...</td>\n      <td>https://www.findamasters.com/masters-degrees/c...</td>\n      <td>3.94</td>\n      <td>9.027</td>\n      <td>7.2435</td>\n      <td>0.251893</td>\n      <td>4.180335</td>\n    </tr>\n    <tr>\n      <th>622</th>\n      <td>Advanced Biomedical Engineering - MSc</td>\n      <td>University of Bradford</td>\n      <td>Biomedical engineering is a fast evolving inte...</td>\n      <td>https://www.findamasters.com/masters-degrees/c...</td>\n      <td>3.94</td>\n      <td>9.027</td>\n      <td>7.2435</td>\n      <td>0.243003</td>\n      <td>4.032800</td>\n    </tr>\n    <tr>\n      <th>670</th>\n      <td>Advanced Clinical Practice (AHP) - MSc/PGDip/P...</td>\n      <td>Bangor University</td>\n      <td>The programme has been developed to enhance pr...</td>\n      <td>https://www.findamasters.com/masters-degrees/c...</td>\n      <td>3.94</td>\n      <td>9.027</td>\n      <td>7.2435</td>\n      <td>0.230842</td>\n      <td>3.830989</td>\n    </tr>\n  </tbody>\n</table>\n</div>"
     },
     "execution_count": 42,
     "metadata": {},
     "output_type": "execute_result"
    }
   ],
   "source": [
    "# Execute query\n",
    "custom_search_engine(\"advanced knowledge\", k = 10)"
   ],
   "metadata": {
    "collapsed": false,
    "ExecuteTime": {
     "start_time": "2023-11-24T16:18:26.116336Z",
     "end_time": "2023-11-24T16:18:26.497037Z"
    }
   }
  }
 ],
 "metadata": {
  "kernelspec": {
   "display_name": "Python 3 (ipykernel)",
   "language": "python",
   "name": "python3"
  },
  "language_info": {
   "codemirror_mode": {
    "name": "ipython",
    "version": 3
   },
   "file_extension": ".py",
   "mimetype": "text/x-python",
   "name": "python",
   "nbconvert_exporter": "python",
   "pygments_lexer": "ipython3",
   "version": "3.12.0"
  }
 },
 "nbformat": 4,
 "nbformat_minor": 4
}
